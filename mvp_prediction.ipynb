{
 "cells": [
  {
   "metadata": {
    "id": "155134e00bd095de"
   },
   "cell_type": "markdown",
   "source": [
    "# Importing the data"
   ],
   "id": "155134e00bd095de"
  },
  {
   "cell_type": "code",
   "id": "initial_id",
   "metadata": {
    "collapsed": true,
    "colab": {
     "base_uri": "https://localhost:8080/"
    },
    "id": "initial_id",
    "outputId": "053d9771-e46a-4a0c-9907-45ae5f805cd6",
    "ExecuteTime": {
     "end_time": "2025-04-14T18:39:31.173659Z",
     "start_time": "2025-04-14T18:39:27.625062Z"
    }
   },
   "source": [
    "import pandas as pd\n",
    "import numpy as np\n",
    "import matplotlib.pyplot as plt\n",
    "import seaborn as sns\n",
    "from imblearn.over_sampling import SMOTE\n",
    "!pip install boruta\n",
    "from boruta import BorutaPy\n",
    "from sklearn.ensemble import RandomForestRegressor\n",
    "from sklearn.ensemble import RandomForestClassifier"
   ],
   "outputs": [
    {
     "name": "stdout",
     "output_type": "stream",
     "text": [
      "Requirement already satisfied: boruta in /Users/kuba/anaconda3/lib/python3.11/site-packages (0.4.3)\r\n",
      "Requirement already satisfied: numpy>=1.10.4 in /Users/kuba/anaconda3/lib/python3.11/site-packages (from boruta) (1.24.3)\r\n",
      "Requirement already satisfied: scikit-learn>=0.17.1 in /Users/kuba/anaconda3/lib/python3.11/site-packages (from boruta) (1.3.0)\r\n",
      "Requirement already satisfied: scipy>=0.17.0 in /Users/kuba/anaconda3/lib/python3.11/site-packages (from boruta) (1.12.0)\r\n",
      "Requirement already satisfied: joblib>=1.1.1 in /Users/kuba/anaconda3/lib/python3.11/site-packages (from scikit-learn>=0.17.1->boruta) (1.2.0)\r\n",
      "Requirement already satisfied: threadpoolctl>=2.0.0 in /Users/kuba/anaconda3/lib/python3.11/site-packages (from scikit-learn>=0.17.1->boruta) (2.2.0)\r\n"
     ]
    }
   ],
   "execution_count": 361
  },
  {
   "metadata": {
    "id": "6aa7d5d635c5c096"
   },
   "cell_type": "markdown",
   "source": [
    "For this project I used the NBA Stats (1947-present) dataset from kaggle. The datasets includes all kind of data but for my purposes I only used the award shares stats, player per game stats, advanced players stats and the team total stats."
   ],
   "id": "6aa7d5d635c5c096"
  },
  {
   "metadata": {
    "id": "335504a52753eafc",
    "ExecuteTime": {
     "end_time": "2025-04-14T18:39:31.336362Z",
     "start_time": "2025-04-14T18:39:31.178754Z"
    }
   },
   "cell_type": "code",
   "source": [
    "shares = pd.read_csv(\"/Users/kuba/PycharmProjects/NBA 2025 MVP Prediction/nba/content/Player Award Shares.csv\")\n",
    "per_game = pd.read_csv(\"/Users/kuba/PycharmProjects/NBA 2025 MVP Prediction/nba/content/Player Per Game.csv\")\n",
    "advanced = pd.read_csv(\"/Users/kuba/PycharmProjects/NBA 2025 MVP Prediction/nba/content/Advanced.csv\")\n",
    "wins = pd.read_csv(\"/Users/kuba/PycharmProjects/NBA 2025 MVP Prediction/nba/content/Team Summaries.csv\")"
   ],
   "id": "335504a52753eafc",
   "outputs": [],
   "execution_count": 362
  },
  {
   "metadata": {
    "id": "a5d1ce348428f444"
   },
   "cell_type": "markdown",
   "source": [
    "The goal of our project is to predict the 2025 NBA MVP award winner, which has one of the most exciting races in recent history, with two all time talents going head to head - Nikola Jokić vs Shai Gilgeus-Alexander.\n",
    "\n",
    "So how exactly is the MVP winner chosen? Well, the NBA MVP award is determined using a Borda count voting system, where higher-ranked votes are weighted more heavily. In this system, a first-place vote carries more value than second or third, emphasizing players who consistently rank near the top across all ballots. Each year, a panel of sports journalists and broadcasters from the U.S. and Canada submit their top five MVP selections. Points are allocated as follows:\n",
    "1st place – 10 points\n",
    "2nd place – 7 points\n",
    "3rd place – 5 points\n",
    "4th place – 3 points\n",
    "5th place – 1 point\n",
    "\n",
    "After all the ballots are submitted, the total points are calculated. The player with the highest point total is awarded the MVP. This voting system was first introduced by the NBA in the 1980–81 season. Before that, the MVP was still voted on by media members, but the voting structure and transparency were less standardized."
   ],
   "id": "a5d1ce348428f444"
  },
  {
   "metadata": {
    "id": "6948120bd730644f"
   },
   "cell_type": "markdown",
   "source": [
    "Knowing all that information we know that the goal of our project is to predict the NBA award share - how much of the total points has the player obtained. From that, it looks like this would be a classic supervised regression problem. Now that we have some direction, let's look at the data."
   ],
   "id": "6948120bd730644f"
  },
  {
   "metadata": {
    "id": "28e82290710f8db8"
   },
   "cell_type": "markdown",
   "source": [
    "# Data Cleaning and Feature Engineering\n",
    "First of all we have to combine all of our datasets into one dataframe containing only the important information. Also because of the change in the MVP voting system, which we talked about before, we will only use the data from the 1981-1982 upwards (the rules changed in 1980-81 but for this season we have incompleted data). Finally, we will exclude the 2024 season from our data and put it aside as a testing set and also exclude 2025 season as we will predict it at the end."
   ],
   "id": "28e82290710f8db8"
  },
  {
   "metadata": {
    "colab": {
     "base_uri": "https://localhost:8080/",
     "height": 569
    },
    "id": "35ec7262ab2a3a18",
    "outputId": "23bd7f5d-05b6-4b6b-ca0f-44ddd8988378",
    "ExecuteTime": {
     "end_time": "2025-04-14T18:39:31.548879Z",
     "start_time": "2025-04-14T18:39:31.442766Z"
    }
   },
   "cell_type": "code",
   "source": [
    "# Making a dataframe with only the NBA MVP award columns\n",
    "mvp_shares = shares[shares[\"award\"] == \"nba mvp\"]\n",
    "\n",
    "# Combining the per_game stats with the award share value and the boolean value if the player was MVP that year\n",
    "stats = pd.merge(per_game, mvp_shares[[\"season\", \"player\", \"share\", \"winner\"]], how=\"left\", on=[\"season\", \"player\"])\n",
    "\n",
    "# Combining the advanced stats with our new stats dataframe\n",
    "stats = pd.merge(stats, advanced[[\"seas_id\", \"player_id\", 'per', 'ts_percent', 'x3p_ar', 'f_tr', 'orb_percent', 'drb_percent', 'trb_percent', 'ast_percent', 'stl_percent', 'blk_percent', 'tov_percent', 'usg_percent', 'ows', 'dws', 'ws', 'ws_48', 'obpm', 'dbpm', 'bpm', 'vorp']], how=\"left\", on=[\"seas_id\", \"player_id\"])\n",
    "\n",
    "# Combining the team stats with our new stats dataframe\n",
    "wins.rename(columns={\"abbreviation\": \"tm\"}, inplace=True)\n",
    "stats = pd.merge(stats, wins[[\"season\", \"tm\", \"w\", \"l\"]], how=\"left\", on=[\"season\", \"tm\"])\n",
    "\n",
    "# Taking only the data from 1981-1982 season upwards\n",
    "stats = stats[stats[\"season\"] > 1981]\n",
    "\n",
    "# Derive datasets training, testing and prediction\n",
    "predict = stats[stats[\"season\"] == 2025]\n",
    "test = stats[stats[\"season\"] == 2024]\n",
    "df = stats[stats[\"season\"] < 2024]\n",
    "\n",
    "# Showing the new dataframe\n",
    "df.head(10)"
   ],
   "id": "35ec7262ab2a3a18",
   "outputs": [
    {
     "data": {
      "text/plain": [
       "      seas_id  season  player_id             player  birth_year pos   age  \\\n",
       "1403  30458.0    2023     5025.0         A.J. Green         NaN  SG  23.0   \n",
       "1404  30459.0    2023     5026.0        A.J. Lawson         NaN  SG  22.0   \n",
       "1405  30460.0    2023     5026.0        A.J. Lawson         NaN  SG  22.0   \n",
       "1406  30461.0    2023     5026.0        A.J. Lawson         NaN  SG  22.0   \n",
       "1407  30462.0    2023     5027.0         AJ Griffin         NaN  SF  19.0   \n",
       "1408  30463.0    2023     4219.0       Aaron Gordon         NaN  PF  27.0   \n",
       "1409  30464.0    2023     4582.0      Aaron Holiday         NaN  PG  26.0   \n",
       "1410  30465.0    2023     4805.0      Aaron Nesmith         NaN  SF  23.0   \n",
       "1411  30466.0    2023     4900.0      Aaron Wiggins         NaN  SG  24.0   \n",
       "1412  30467.0    2023     4688.0  Admiral Schofield         NaN  PF  25.0   \n",
       "\n",
       "      experience   lg   tm  ...  ows  dws   ws  ws_48  obpm  dbpm  bpm  vorp  \\\n",
       "1403           1  NBA  MIL  ...  0.5  0.3  0.8  0.111  -0.3  -0.6 -0.9   0.1   \n",
       "1404           1  NBA  TOT  ...  0.1  0.1  0.1  0.063  -1.5  -2.9 -4.4  -0.1   \n",
       "1405           1  NBA  MIN  ...  0.0  0.0  0.0  0.377  -2.3   7.5  5.2   0.0   \n",
       "1406           1  NBA  DAL  ...  0.1  0.1  0.1  0.057  -1.5  -3.1 -4.6  -0.1   \n",
       "1407           1  NBA  ATL  ...  1.3  0.9  2.2  0.075  -0.3  -0.5 -0.8   0.4   \n",
       "1408           9  NBA  DEN  ...  4.6  2.2  6.8  0.158   2.4  -0.3  2.1   2.1   \n",
       "1409           5  NBA  ATL  ...  0.3  0.6  0.9  0.053  -2.9   0.9 -2.0   0.0   \n",
       "1410           3  NBA  IND  ...  0.9  1.1  2.0  0.052  -2.3  -0.7 -3.0  -0.4   \n",
       "1411           2  NBA  OKC  ...  1.4  1.2  2.6  0.097  -1.5  -0.5 -2.1   0.0   \n",
       "1412           3  NBA  ORL  ...  0.5  0.3  0.8  0.089  -2.2  -0.7 -2.9  -0.1   \n",
       "\n",
       "         w     l  \n",
       "1403  58.0  24.0  \n",
       "1404   NaN   NaN  \n",
       "1405  42.0  40.0  \n",
       "1406  38.0  44.0  \n",
       "1407  41.0  41.0  \n",
       "1408  53.0  29.0  \n",
       "1409  41.0  41.0  \n",
       "1410  35.0  47.0  \n",
       "1411  40.0  42.0  \n",
       "1412  34.0  48.0  \n",
       "\n",
       "[10 rows x 59 columns]"
      ],
      "text/html": [
       "<div>\n",
       "<style scoped>\n",
       "    .dataframe tbody tr th:only-of-type {\n",
       "        vertical-align: middle;\n",
       "    }\n",
       "\n",
       "    .dataframe tbody tr th {\n",
       "        vertical-align: top;\n",
       "    }\n",
       "\n",
       "    .dataframe thead th {\n",
       "        text-align: right;\n",
       "    }\n",
       "</style>\n",
       "<table border=\"1\" class=\"dataframe\">\n",
       "  <thead>\n",
       "    <tr style=\"text-align: right;\">\n",
       "      <th></th>\n",
       "      <th>seas_id</th>\n",
       "      <th>season</th>\n",
       "      <th>player_id</th>\n",
       "      <th>player</th>\n",
       "      <th>birth_year</th>\n",
       "      <th>pos</th>\n",
       "      <th>age</th>\n",
       "      <th>experience</th>\n",
       "      <th>lg</th>\n",
       "      <th>tm</th>\n",
       "      <th>...</th>\n",
       "      <th>ows</th>\n",
       "      <th>dws</th>\n",
       "      <th>ws</th>\n",
       "      <th>ws_48</th>\n",
       "      <th>obpm</th>\n",
       "      <th>dbpm</th>\n",
       "      <th>bpm</th>\n",
       "      <th>vorp</th>\n",
       "      <th>w</th>\n",
       "      <th>l</th>\n",
       "    </tr>\n",
       "  </thead>\n",
       "  <tbody>\n",
       "    <tr>\n",
       "      <th>1403</th>\n",
       "      <td>30458.0</td>\n",
       "      <td>2023</td>\n",
       "      <td>5025.0</td>\n",
       "      <td>A.J. Green</td>\n",
       "      <td>NaN</td>\n",
       "      <td>SG</td>\n",
       "      <td>23.0</td>\n",
       "      <td>1</td>\n",
       "      <td>NBA</td>\n",
       "      <td>MIL</td>\n",
       "      <td>...</td>\n",
       "      <td>0.5</td>\n",
       "      <td>0.3</td>\n",
       "      <td>0.8</td>\n",
       "      <td>0.111</td>\n",
       "      <td>-0.3</td>\n",
       "      <td>-0.6</td>\n",
       "      <td>-0.9</td>\n",
       "      <td>0.1</td>\n",
       "      <td>58.0</td>\n",
       "      <td>24.0</td>\n",
       "    </tr>\n",
       "    <tr>\n",
       "      <th>1404</th>\n",
       "      <td>30459.0</td>\n",
       "      <td>2023</td>\n",
       "      <td>5026.0</td>\n",
       "      <td>A.J. Lawson</td>\n",
       "      <td>NaN</td>\n",
       "      <td>SG</td>\n",
       "      <td>22.0</td>\n",
       "      <td>1</td>\n",
       "      <td>NBA</td>\n",
       "      <td>TOT</td>\n",
       "      <td>...</td>\n",
       "      <td>0.1</td>\n",
       "      <td>0.1</td>\n",
       "      <td>0.1</td>\n",
       "      <td>0.063</td>\n",
       "      <td>-1.5</td>\n",
       "      <td>-2.9</td>\n",
       "      <td>-4.4</td>\n",
       "      <td>-0.1</td>\n",
       "      <td>NaN</td>\n",
       "      <td>NaN</td>\n",
       "    </tr>\n",
       "    <tr>\n",
       "      <th>1405</th>\n",
       "      <td>30460.0</td>\n",
       "      <td>2023</td>\n",
       "      <td>5026.0</td>\n",
       "      <td>A.J. Lawson</td>\n",
       "      <td>NaN</td>\n",
       "      <td>SG</td>\n",
       "      <td>22.0</td>\n",
       "      <td>1</td>\n",
       "      <td>NBA</td>\n",
       "      <td>MIN</td>\n",
       "      <td>...</td>\n",
       "      <td>0.0</td>\n",
       "      <td>0.0</td>\n",
       "      <td>0.0</td>\n",
       "      <td>0.377</td>\n",
       "      <td>-2.3</td>\n",
       "      <td>7.5</td>\n",
       "      <td>5.2</td>\n",
       "      <td>0.0</td>\n",
       "      <td>42.0</td>\n",
       "      <td>40.0</td>\n",
       "    </tr>\n",
       "    <tr>\n",
       "      <th>1406</th>\n",
       "      <td>30461.0</td>\n",
       "      <td>2023</td>\n",
       "      <td>5026.0</td>\n",
       "      <td>A.J. Lawson</td>\n",
       "      <td>NaN</td>\n",
       "      <td>SG</td>\n",
       "      <td>22.0</td>\n",
       "      <td>1</td>\n",
       "      <td>NBA</td>\n",
       "      <td>DAL</td>\n",
       "      <td>...</td>\n",
       "      <td>0.1</td>\n",
       "      <td>0.1</td>\n",
       "      <td>0.1</td>\n",
       "      <td>0.057</td>\n",
       "      <td>-1.5</td>\n",
       "      <td>-3.1</td>\n",
       "      <td>-4.6</td>\n",
       "      <td>-0.1</td>\n",
       "      <td>38.0</td>\n",
       "      <td>44.0</td>\n",
       "    </tr>\n",
       "    <tr>\n",
       "      <th>1407</th>\n",
       "      <td>30462.0</td>\n",
       "      <td>2023</td>\n",
       "      <td>5027.0</td>\n",
       "      <td>AJ Griffin</td>\n",
       "      <td>NaN</td>\n",
       "      <td>SF</td>\n",
       "      <td>19.0</td>\n",
       "      <td>1</td>\n",
       "      <td>NBA</td>\n",
       "      <td>ATL</td>\n",
       "      <td>...</td>\n",
       "      <td>1.3</td>\n",
       "      <td>0.9</td>\n",
       "      <td>2.2</td>\n",
       "      <td>0.075</td>\n",
       "      <td>-0.3</td>\n",
       "      <td>-0.5</td>\n",
       "      <td>-0.8</td>\n",
       "      <td>0.4</td>\n",
       "      <td>41.0</td>\n",
       "      <td>41.0</td>\n",
       "    </tr>\n",
       "    <tr>\n",
       "      <th>1408</th>\n",
       "      <td>30463.0</td>\n",
       "      <td>2023</td>\n",
       "      <td>4219.0</td>\n",
       "      <td>Aaron Gordon</td>\n",
       "      <td>NaN</td>\n",
       "      <td>PF</td>\n",
       "      <td>27.0</td>\n",
       "      <td>9</td>\n",
       "      <td>NBA</td>\n",
       "      <td>DEN</td>\n",
       "      <td>...</td>\n",
       "      <td>4.6</td>\n",
       "      <td>2.2</td>\n",
       "      <td>6.8</td>\n",
       "      <td>0.158</td>\n",
       "      <td>2.4</td>\n",
       "      <td>-0.3</td>\n",
       "      <td>2.1</td>\n",
       "      <td>2.1</td>\n",
       "      <td>53.0</td>\n",
       "      <td>29.0</td>\n",
       "    </tr>\n",
       "    <tr>\n",
       "      <th>1409</th>\n",
       "      <td>30464.0</td>\n",
       "      <td>2023</td>\n",
       "      <td>4582.0</td>\n",
       "      <td>Aaron Holiday</td>\n",
       "      <td>NaN</td>\n",
       "      <td>PG</td>\n",
       "      <td>26.0</td>\n",
       "      <td>5</td>\n",
       "      <td>NBA</td>\n",
       "      <td>ATL</td>\n",
       "      <td>...</td>\n",
       "      <td>0.3</td>\n",
       "      <td>0.6</td>\n",
       "      <td>0.9</td>\n",
       "      <td>0.053</td>\n",
       "      <td>-2.9</td>\n",
       "      <td>0.9</td>\n",
       "      <td>-2.0</td>\n",
       "      <td>0.0</td>\n",
       "      <td>41.0</td>\n",
       "      <td>41.0</td>\n",
       "    </tr>\n",
       "    <tr>\n",
       "      <th>1410</th>\n",
       "      <td>30465.0</td>\n",
       "      <td>2023</td>\n",
       "      <td>4805.0</td>\n",
       "      <td>Aaron Nesmith</td>\n",
       "      <td>NaN</td>\n",
       "      <td>SF</td>\n",
       "      <td>23.0</td>\n",
       "      <td>3</td>\n",
       "      <td>NBA</td>\n",
       "      <td>IND</td>\n",
       "      <td>...</td>\n",
       "      <td>0.9</td>\n",
       "      <td>1.1</td>\n",
       "      <td>2.0</td>\n",
       "      <td>0.052</td>\n",
       "      <td>-2.3</td>\n",
       "      <td>-0.7</td>\n",
       "      <td>-3.0</td>\n",
       "      <td>-0.4</td>\n",
       "      <td>35.0</td>\n",
       "      <td>47.0</td>\n",
       "    </tr>\n",
       "    <tr>\n",
       "      <th>1411</th>\n",
       "      <td>30466.0</td>\n",
       "      <td>2023</td>\n",
       "      <td>4900.0</td>\n",
       "      <td>Aaron Wiggins</td>\n",
       "      <td>NaN</td>\n",
       "      <td>SG</td>\n",
       "      <td>24.0</td>\n",
       "      <td>2</td>\n",
       "      <td>NBA</td>\n",
       "      <td>OKC</td>\n",
       "      <td>...</td>\n",
       "      <td>1.4</td>\n",
       "      <td>1.2</td>\n",
       "      <td>2.6</td>\n",
       "      <td>0.097</td>\n",
       "      <td>-1.5</td>\n",
       "      <td>-0.5</td>\n",
       "      <td>-2.1</td>\n",
       "      <td>0.0</td>\n",
       "      <td>40.0</td>\n",
       "      <td>42.0</td>\n",
       "    </tr>\n",
       "    <tr>\n",
       "      <th>1412</th>\n",
       "      <td>30467.0</td>\n",
       "      <td>2023</td>\n",
       "      <td>4688.0</td>\n",
       "      <td>Admiral Schofield</td>\n",
       "      <td>NaN</td>\n",
       "      <td>PF</td>\n",
       "      <td>25.0</td>\n",
       "      <td>3</td>\n",
       "      <td>NBA</td>\n",
       "      <td>ORL</td>\n",
       "      <td>...</td>\n",
       "      <td>0.5</td>\n",
       "      <td>0.3</td>\n",
       "      <td>0.8</td>\n",
       "      <td>0.089</td>\n",
       "      <td>-2.2</td>\n",
       "      <td>-0.7</td>\n",
       "      <td>-2.9</td>\n",
       "      <td>-0.1</td>\n",
       "      <td>34.0</td>\n",
       "      <td>48.0</td>\n",
       "    </tr>\n",
       "  </tbody>\n",
       "</table>\n",
       "<p>10 rows × 59 columns</p>\n",
       "</div>"
      ]
     },
     "execution_count": 363,
     "metadata": {},
     "output_type": "execute_result"
    }
   ],
   "execution_count": 363
  },
  {
   "metadata": {
    "colab": {
     "base_uri": "https://localhost:8080/"
    },
    "id": "fab443d9e6b27478",
    "outputId": "3f57e4f7-cb0e-400e-9d75-0dc937848a1c",
    "ExecuteTime": {
     "end_time": "2025-04-14T18:39:31.678289Z",
     "start_time": "2025-04-14T18:39:31.664990Z"
    }
   },
   "cell_type": "code",
   "source": [
    "df.info()"
   ],
   "id": "fab443d9e6b27478",
   "outputs": [
    {
     "name": "stdout",
     "output_type": "stream",
     "text": [
      "<class 'pandas.core.frame.DataFrame'>\n",
      "Index: 22437 entries, 1403 to 23839\n",
      "Data columns (total 59 columns):\n",
      " #   Column         Non-Null Count  Dtype  \n",
      "---  ------         --------------  -----  \n",
      " 0   seas_id        22421 non-null  float64\n",
      " 1   season         22437 non-null  int64  \n",
      " 2   player_id      22421 non-null  float64\n",
      " 3   player         22437 non-null  object \n",
      " 4   birth_year     502 non-null    float64\n",
      " 5   pos            22437 non-null  object \n",
      " 6   age            22437 non-null  float64\n",
      " 7   experience     22437 non-null  int64  \n",
      " 8   lg             22437 non-null  object \n",
      " 9   tm             22437 non-null  object \n",
      " 10  g              22437 non-null  int64  \n",
      " 11  gs             22437 non-null  float64\n",
      " 12  mp_per_game    22437 non-null  float64\n",
      " 13  fg_per_game    22437 non-null  float64\n",
      " 14  fga_per_game   22437 non-null  float64\n",
      " 15  fg_percent     22318 non-null  float64\n",
      " 16  x3p_per_game   22437 non-null  float64\n",
      " 17  x3pa_per_game  22437 non-null  float64\n",
      " 18  x3p_percent    18822 non-null  float64\n",
      " 19  x2p_per_game   22437 non-null  float64\n",
      " 20  x2pa_per_game  22437 non-null  float64\n",
      " 21  x2p_percent    22241 non-null  float64\n",
      " 22  e_fg_percent   22318 non-null  float64\n",
      " 23  ft_per_game    22437 non-null  float64\n",
      " 24  fta_per_game   22437 non-null  float64\n",
      " 25  ft_percent     21413 non-null  float64\n",
      " 26  orb_per_game   22437 non-null  float64\n",
      " 27  drb_per_game   22437 non-null  float64\n",
      " 28  trb_per_game   22437 non-null  float64\n",
      " 29  ast_per_game   22437 non-null  float64\n",
      " 30  stl_per_game   22437 non-null  float64\n",
      " 31  blk_per_game   22437 non-null  float64\n",
      " 32  tov_per_game   22437 non-null  float64\n",
      " 33  pf_per_game    22437 non-null  float64\n",
      " 34  pts_per_game   22437 non-null  float64\n",
      " 35  share          684 non-null    float64\n",
      " 36  winner         684 non-null    object \n",
      " 37  per            22432 non-null  float64\n",
      " 38  ts_percent     22331 non-null  float64\n",
      " 39  x3p_ar         22318 non-null  float64\n",
      " 40  f_tr           22318 non-null  float64\n",
      " 41  orb_percent    22432 non-null  float64\n",
      " 42  drb_percent    22432 non-null  float64\n",
      " 43  trb_percent    22432 non-null  float64\n",
      " 44  ast_percent    22432 non-null  float64\n",
      " 45  stl_percent    22432 non-null  float64\n",
      " 46  blk_percent    22432 non-null  float64\n",
      " 47  tov_percent    22349 non-null  float64\n",
      " 48  usg_percent    22432 non-null  float64\n",
      " 49  ows            22437 non-null  float64\n",
      " 50  dws            22437 non-null  float64\n",
      " 51  ws             22437 non-null  float64\n",
      " 52  ws_48          22432 non-null  float64\n",
      " 53  obpm           22437 non-null  float64\n",
      " 54  dbpm           22437 non-null  float64\n",
      " 55  bpm            22437 non-null  float64\n",
      " 56  vorp           22437 non-null  float64\n",
      " 57  w              20413 non-null  float64\n",
      " 58  l              20413 non-null  float64\n",
      "dtypes: float64(51), int64(3), object(5)\n",
      "memory usage: 10.3+ MB\n"
     ]
    }
   ],
   "execution_count": 364
  },
  {
   "metadata": {
    "id": "e138619c9b4335d4"
   },
   "cell_type": "markdown",
   "source": [
    "### Multiple Rows for one player\n",
    "So the first problem we encounter in our data is that because of trades happening we have more than 1 row for player in a season - for the teams he played for and total stats for the season. The example here is AJ Johnson, who has 3 rows, 1 for MIL, 1 for WAS and finally 1 for the TOT. To fix that we will take player's stats from a whole season, assign him to the latest team they played for and then remove other rows."
   ],
   "id": "e138619c9b4335d4"
  },
  {
   "metadata": {
    "id": "7dceb0dff7a63a28",
    "ExecuteTime": {
     "end_time": "2025-04-14T18:39:40.636798Z",
     "start_time": "2025-04-14T18:39:31.738578Z"
    }
   },
   "cell_type": "code",
   "source": [
    "# Grouping the players by the season\n",
    "grouped_df = df.groupby([\"season\", \"player_id\"])\n",
    "grouped_test = test.groupby([\"season\", \"player_id\"])\n",
    "grouped_predict = predict.groupby([\"season\", \"player_id\"])\n",
    "\n",
    "# Function to remove the unecessary rows for the player in the season\n",
    "def filter_players(group):\n",
    "    if \"TOT\" in group[\"tm\"].values:\n",
    "\n",
    "        # Get the TOT row and copy it to avoid modifying original\n",
    "        tot_row = group[group[\"tm\"] == \"TOT\"].iloc[0:1].copy()\n",
    "\n",
    "        # Set the team to be the last team the player played for\n",
    "        tot_row.loc[:, \"tm\"] = group.iloc[-1][\"tm\"]\n",
    "\n",
    "        # Set the wins and loses to be as the last team the player played for\n",
    "        tot_row.loc[:, \"w\"] = group.iloc[-1][\"w\"]\n",
    "        tot_row.loc[:, \"l\"] = group.iloc[-1][\"l\"]\n",
    "\n",
    "        return tot_row\n",
    "\n",
    "    # Otherwise return the last row\n",
    "    return group.iloc[-1:].copy()\n",
    "\n",
    "# Applying the function to the grouped dataframe\n",
    "df = grouped_df.apply(filter_players).reset_index(drop=True)\n",
    "test = grouped_test.apply(filter_players).reset_index(drop=True)\n",
    "predict = grouped_predict.apply(filter_players).reset_index(drop=True)"
   ],
   "id": "7dceb0dff7a63a28",
   "outputs": [],
   "execution_count": 365
  },
  {
   "metadata": {
    "colab": {
     "base_uri": "https://localhost:8080/",
     "height": 99
    },
    "id": "f3b42ab8a5a32a2d",
    "outputId": "983cb3a2-ab20-4630-d821-d4e2be5e236a",
    "ExecuteTime": {
     "end_time": "2025-04-14T18:39:40.653409Z",
     "start_time": "2025-04-14T18:39:40.645141Z"
    }
   },
   "cell_type": "code",
   "source": [
    "df.query(\"player == 'AJ Johnson'\")"
   ],
   "id": "f3b42ab8a5a32a2d",
   "outputs": [
    {
     "data": {
      "text/plain": [
       "Empty DataFrame\n",
       "Columns: [seas_id, season, player_id, player, birth_year, pos, age, experience, lg, tm, g, gs, mp_per_game, fg_per_game, fga_per_game, fg_percent, x3p_per_game, x3pa_per_game, x3p_percent, x2p_per_game, x2pa_per_game, x2p_percent, e_fg_percent, ft_per_game, fta_per_game, ft_percent, orb_per_game, drb_per_game, trb_per_game, ast_per_game, stl_per_game, blk_per_game, tov_per_game, pf_per_game, pts_per_game, share, winner, per, ts_percent, x3p_ar, f_tr, orb_percent, drb_percent, trb_percent, ast_percent, stl_percent, blk_percent, tov_percent, usg_percent, ows, dws, ws, ws_48, obpm, dbpm, bpm, vorp, w, l]\n",
       "Index: []\n",
       "\n",
       "[0 rows x 59 columns]"
      ],
      "text/html": [
       "<div>\n",
       "<style scoped>\n",
       "    .dataframe tbody tr th:only-of-type {\n",
       "        vertical-align: middle;\n",
       "    }\n",
       "\n",
       "    .dataframe tbody tr th {\n",
       "        vertical-align: top;\n",
       "    }\n",
       "\n",
       "    .dataframe thead th {\n",
       "        text-align: right;\n",
       "    }\n",
       "</style>\n",
       "<table border=\"1\" class=\"dataframe\">\n",
       "  <thead>\n",
       "    <tr style=\"text-align: right;\">\n",
       "      <th></th>\n",
       "      <th>seas_id</th>\n",
       "      <th>season</th>\n",
       "      <th>player_id</th>\n",
       "      <th>player</th>\n",
       "      <th>birth_year</th>\n",
       "      <th>pos</th>\n",
       "      <th>age</th>\n",
       "      <th>experience</th>\n",
       "      <th>lg</th>\n",
       "      <th>tm</th>\n",
       "      <th>...</th>\n",
       "      <th>ows</th>\n",
       "      <th>dws</th>\n",
       "      <th>ws</th>\n",
       "      <th>ws_48</th>\n",
       "      <th>obpm</th>\n",
       "      <th>dbpm</th>\n",
       "      <th>bpm</th>\n",
       "      <th>vorp</th>\n",
       "      <th>w</th>\n",
       "      <th>l</th>\n",
       "    </tr>\n",
       "  </thead>\n",
       "  <tbody>\n",
       "  </tbody>\n",
       "</table>\n",
       "<p>0 rows × 59 columns</p>\n",
       "</div>"
      ]
     },
     "execution_count": 366,
     "metadata": {},
     "output_type": "execute_result"
    }
   ],
   "execution_count": 366
  },
  {
   "metadata": {
    "colab": {
     "base_uri": "https://localhost:8080/"
    },
    "id": "20fdbede60ee0c6e",
    "outputId": "226c8c68-b3e1-4914-973b-4b4fc3b54309",
    "ExecuteTime": {
     "end_time": "2025-04-14T18:39:40.839612Z",
     "start_time": "2025-04-14T18:39:40.834927Z"
    }
   },
   "cell_type": "code",
   "source": [
    "player_rows_stats = df.groupby([\"season\", \"player_id\"]).size()\n",
    "print(player_rows_stats.max())"
   ],
   "id": "20fdbede60ee0c6e",
   "outputs": [
    {
     "name": "stdout",
     "output_type": "stream",
     "text": [
      "1\n"
     ]
    }
   ],
   "execution_count": 367
  },
  {
   "metadata": {
    "id": "ea1ce89799843378"
   },
   "cell_type": "markdown",
   "source": [
    "As we can see above the problem has been resolved and now we have only one row for a one player in a season."
   ],
   "id": "ea1ce89799843378"
  },
  {
   "metadata": {
    "id": "f5e1f3cd67dea11a"
   },
   "cell_type": "markdown",
   "source": [
    "### Empty Values\n",
    "The other problem we encountered is many columns contain empty values, including the one we want to predict - \"share\". We will fill those missing values with 0 in case for stats and share, false in case for \"birth_year\" we will just drop the column because it's not relevant since we already have age values."
   ],
   "id": "f5e1f3cd67dea11a"
  },
  {
   "metadata": {
    "colab": {
     "base_uri": "https://localhost:8080/"
    },
    "id": "30a55f6943029700",
    "outputId": "b434e915-a08b-4948-d2da-6c9fb5cc7bf6",
    "ExecuteTime": {
     "end_time": "2025-04-14T18:39:40.868461Z",
     "start_time": "2025-04-14T18:39:40.859708Z"
    }
   },
   "cell_type": "code",
   "source": [
    "# Sum of Nulls in each column\n",
    "df.isna().sum()"
   ],
   "id": "30a55f6943029700",
   "outputs": [
    {
     "data": {
      "text/plain": [
       "seas_id              0\n",
       "season               0\n",
       "player_id            0\n",
       "player               0\n",
       "birth_year       17821\n",
       "pos                  0\n",
       "age                  0\n",
       "experience           0\n",
       "lg                   0\n",
       "tm                   0\n",
       "g                    0\n",
       "gs                   0\n",
       "mp_per_game          0\n",
       "fg_per_game          0\n",
       "fga_per_game         0\n",
       "fg_percent          65\n",
       "x3p_per_game         0\n",
       "x3pa_per_game        0\n",
       "x3p_percent       2638\n",
       "x2p_per_game         0\n",
       "x2pa_per_game        0\n",
       "x2p_percent        111\n",
       "e_fg_percent        65\n",
       "ft_per_game          0\n",
       "fta_per_game         0\n",
       "ft_percent         600\n",
       "orb_per_game         0\n",
       "drb_per_game         0\n",
       "trb_per_game         0\n",
       "ast_per_game         0\n",
       "stl_per_game         0\n",
       "blk_per_game         0\n",
       "tov_per_game         0\n",
       "pf_per_game          0\n",
       "pts_per_game         0\n",
       "share            17561\n",
       "winner           17561\n",
       "per                  3\n",
       "ts_percent          57\n",
       "x3p_ar              65\n",
       "f_tr                65\n",
       "orb_percent          3\n",
       "drb_percent          3\n",
       "trb_percent          3\n",
       "ast_percent          3\n",
       "stl_percent          3\n",
       "blk_percent          3\n",
       "tov_percent         47\n",
       "usg_percent          3\n",
       "ows                  0\n",
       "dws                  0\n",
       "ws                   0\n",
       "ws_48                3\n",
       "obpm                 0\n",
       "dbpm                 0\n",
       "bpm                  0\n",
       "vorp                 0\n",
       "w                    0\n",
       "l                    0\n",
       "dtype: int64"
      ]
     },
     "execution_count": 368,
     "metadata": {},
     "output_type": "execute_result"
    }
   ],
   "execution_count": 368
  },
  {
   "metadata": {
    "colab": {
     "base_uri": "https://localhost:8080/"
    },
    "id": "60387a4cf3ee7a84",
    "outputId": "0d14cb2c-be7e-474d-f7b4-e7ecf341690e",
    "ExecuteTime": {
     "end_time": "2025-04-14T18:39:41.000293Z",
     "start_time": "2025-04-14T18:39:40.972860Z"
    }
   },
   "cell_type": "code",
   "source": [
    "# Define the columns to fill the empty values with 0\n",
    "fill_0 = ['g', 'gs', 'mp_per_game', 'fg_per_game', 'fga_per_game', 'fg_percent', 'x3p_per_game', 'x3pa_per_game', 'x3p_percent', 'x2p_per_game', 'x2pa_per_game', 'x2p_percent', 'e_fg_percent', 'ft_per_game', 'fta_per_game', 'ft_percent', 'orb_per_game', 'drb_per_game', 'trb_per_game', 'ast_per_game', 'stl_per_game', 'blk_per_game', 'tov_per_game', 'pf_per_game', 'pts_per_game', 'share', 'per', 'ts_percent', 'x3p_ar', 'f_tr', 'orb_percent', 'drb_percent', 'trb_percent', 'ast_percent', 'stl_percent', 'blk_percent', 'tov_percent', 'usg_percent', 'ows', 'dws', 'ws', 'ws_48', 'obpm', 'dbpm', 'bpm', 'vorp']\n",
    "fill_0_mvp = fill_0.copy()\n",
    "fill_0_mvp.remove(\"share\")\n",
    "\n",
    "# Filling in the missing values in our dataset\n",
    "df[fill_0] = df[fill_0].fillna(0)\n",
    "test[fill_0] = test[fill_0].fillna(0)\n",
    "predict[fill_0_mvp] = predict[fill_0_mvp].fillna(0)\n",
    "\n",
    "# Filling in the missing values in the \"winner\" column\n",
    "df[\"winner\"] = df[\"winner\"].fillna(False)\n",
    "test[\"winner\"] = test[\"winner\"].fillna(False)\n",
    "\n",
    "# Dropping the \"birth_year\" column\n",
    "df.drop(\"birth_year\", axis=1, inplace=True)\n",
    "test.drop(\"birth_year\", axis=1, inplace=True)\n",
    "predict.drop(\"birth_year\", axis=1, inplace=True)"
   ],
   "id": "60387a4cf3ee7a84",
   "outputs": [],
   "execution_count": 369
  },
  {
   "metadata": {
    "colab": {
     "base_uri": "https://localhost:8080/",
     "height": 1000
    },
    "id": "6dafaf1a7e71b5a3",
    "outputId": "5d3e1f28-c007-4aa7-f4b1-798eccfa3147",
    "ExecuteTime": {
     "end_time": "2025-04-14T18:39:41.083228Z",
     "start_time": "2025-04-14T18:39:41.074563Z"
    }
   },
   "cell_type": "code",
   "source": [
    "df.isna().sum()"
   ],
   "id": "6dafaf1a7e71b5a3",
   "outputs": [
    {
     "data": {
      "text/plain": [
       "seas_id          0\n",
       "season           0\n",
       "player_id        0\n",
       "player           0\n",
       "pos              0\n",
       "age              0\n",
       "experience       0\n",
       "lg               0\n",
       "tm               0\n",
       "g                0\n",
       "gs               0\n",
       "mp_per_game      0\n",
       "fg_per_game      0\n",
       "fga_per_game     0\n",
       "fg_percent       0\n",
       "x3p_per_game     0\n",
       "x3pa_per_game    0\n",
       "x3p_percent      0\n",
       "x2p_per_game     0\n",
       "x2pa_per_game    0\n",
       "x2p_percent      0\n",
       "e_fg_percent     0\n",
       "ft_per_game      0\n",
       "fta_per_game     0\n",
       "ft_percent       0\n",
       "orb_per_game     0\n",
       "drb_per_game     0\n",
       "trb_per_game     0\n",
       "ast_per_game     0\n",
       "stl_per_game     0\n",
       "blk_per_game     0\n",
       "tov_per_game     0\n",
       "pf_per_game      0\n",
       "pts_per_game     0\n",
       "share            0\n",
       "winner           0\n",
       "per              0\n",
       "ts_percent       0\n",
       "x3p_ar           0\n",
       "f_tr             0\n",
       "orb_percent      0\n",
       "drb_percent      0\n",
       "trb_percent      0\n",
       "ast_percent      0\n",
       "stl_percent      0\n",
       "blk_percent      0\n",
       "tov_percent      0\n",
       "usg_percent      0\n",
       "ows              0\n",
       "dws              0\n",
       "ws               0\n",
       "ws_48            0\n",
       "obpm             0\n",
       "dbpm             0\n",
       "bpm              0\n",
       "vorp             0\n",
       "w                0\n",
       "l                0\n",
       "dtype: int64"
      ]
     },
     "execution_count": 370,
     "metadata": {},
     "output_type": "execute_result"
    }
   ],
   "execution_count": 370
  },
  {
   "metadata": {
    "id": "5da42cb816ef00aa"
   },
   "cell_type": "markdown",
   "source": [
    "### Repetetive Stats\n",
    "Now we will move onto feature engineering - transforming raw data into informative features that capture underlying patterns and improve model performance, which is a crucial step in any Machine Learning project.\n",
    "\n",
    "In feature engineering we don't just add new features, we also remove values if they are not useful. In our data sets we have many features which can be made out of two other features - offensive + defensive rebounds per game  = total rebounds per game. As we can see on the graph below those the original stat and the derived stat have almost perfect correlation of 1. Thus, we will remove the original stat and keep the features which we can derive it from."
   ],
   "id": "5da42cb816ef00aa"
  },
  {
   "metadata": {
    "colab": {
     "base_uri": "https://localhost:8080/",
     "height": 420
    },
    "id": "c0cc5236e1f631c6",
    "outputId": "d824ecec-aca8-4cf9-f251-77ff15e18c28",
    "ExecuteTime": {
     "end_time": "2025-04-14T18:39:41.297465Z",
     "start_time": "2025-04-14T18:39:41.134380Z"
    }
   },
   "cell_type": "code",
   "source": [
    "# Plotting the correlation between the two stats\n",
    "plt.figure(figsize=(10,6))\n",
    "sns.scatterplot(x=df[\"trb_per_game\"], y=df[\"orb_per_game\"] + df[\"drb_per_game\"])\n",
    "plt.xlabel(\"Total Rebounds per game\")\n",
    "plt.ylabel(\"Offensive + Defensive Rebounds per game\")\n",
    "plt.show()\n",
    "\n",
    "df[\"trb_per_game\"].corr(df[\"orb_per_game\"] + df[\"drb_per_game\"])"
   ],
   "id": "c0cc5236e1f631c6",
   "outputs": [
    {
     "data": {
      "text/plain": [
       "<Figure size 1000x600 with 1 Axes>"
      ],
      "image/png": "[encoded data removed]"
     },
     "metadata": {},
     "output_type": "display_data"
    },
    {
     "data": {
      "text/plain": [
       "0.9998186193958027"
      ]
     },
     "execution_count": 371,
     "metadata": {},
     "output_type": "execute_result"
    }
   ],
   "execution_count": 371
  },
  {
   "metadata": {
    "id": "dbb9176268ca8937",
    "ExecuteTime": {
     "end_time": "2025-04-14T18:39:41.355494Z",
     "start_time": "2025-04-14T18:39:41.342422Z"
    }
   },
   "cell_type": "code",
   "source": [
    "# Define the columns to drop\n",
    "derivable_stats = ['fg_per_game', 'x3p_per_game', 'x2p_per_game', 'e_fg_percent', 'ft_per_game', 'orb_per_game', 'drb_per_game', \"x3p_ar\", \"f_tr\", 'trb_percent', \"ws\", \"ws_48\", \"bpm\"]\n",
    "\n",
    "# Dropping the derivable columns\n",
    "df.drop(derivable_stats, axis=1, inplace=True)\n",
    "test.drop(derivable_stats, axis=1, inplace=True)\n",
    "predict.drop(derivable_stats, axis=1, inplace=True)"
   ],
   "id": "dbb9176268ca8937",
   "outputs": [],
   "execution_count": 372
  },
  {
   "metadata": {
    "id": "abeece86e0e88e00"
   },
   "cell_type": "markdown",
   "source": [
    "Same can be said with the win and loses column, that's why we will will add a new column for win percentage and drop the original columns."
   ],
   "id": "abeece86e0e88e00"
  },
  {
   "metadata": {
    "id": "1d7ffad0b18ac1d0",
    "ExecuteTime": {
     "end_time": "2025-04-14T18:39:41.414492Z",
     "start_time": "2025-04-14T18:39:41.398500Z"
    }
   },
   "cell_type": "code",
   "source": [
    "# Adding the win percentage column\n",
    "df[\"win_percent\"] = round(df[\"w\"] / (df[\"w\"] + df[\"l\"]), 3)\n",
    "test[\"win_percent\"] = round(test[\"w\"] / (test[\"w\"] + test[\"l\"]), 3)\n",
    "predict[\"win_percent\"] = round(predict[\"w\"] / (predict[\"w\"] + predict[\"l\"]), 3)\n",
    "\n",
    "# Dropping the original columns\n",
    "df.drop([\"w\", \"l\"], axis=1, inplace=True)\n",
    "test.drop([\"w\", \"l\"], axis=1, inplace=True)\n",
    "predict.drop([\"w\", \"l\"], axis=1, inplace=True)"
   ],
   "id": "1d7ffad0b18ac1d0",
   "outputs": [],
   "execution_count": 373
  },
  {
   "metadata": {
    "id": "db001c23d95b3748"
   },
   "cell_type": "markdown",
   "source": [
    "### Multiple Positions\n",
    "Next we will transform the position column, since some of the players have two positions assigned to them we will take only the first one mentioned. Finally, we will assign number representations of the positions (1-5)"
   ],
   "id": "db001c23d95b3748"
  },
  {
   "metadata": {
    "colab": {
     "base_uri": "https://localhost:8080/"
    },
    "id": "dbb42b6c2e58db6a",
    "outputId": "a6e86be6-c23f-4cbd-e5e8-2be8468f8213",
    "ExecuteTime": {
     "end_time": "2025-04-14T18:39:41.580118Z",
     "start_time": "2025-04-14T18:39:41.576631Z"
    }
   },
   "cell_type": "code",
   "source": [
    "df[\"pos\"].unique()"
   ],
   "id": "dbb42b6c2e58db6a",
   "outputs": [
    {
     "data": {
      "text/plain": [
       "array(['PF', 'SF', 'C', 'PG', 'SG', 'PF-C', 'C-PF', 'SF-SG', 'SF-PF',\n",
       "       'PG-SG', 'SG-PG', 'PF-SF', 'SG-SF', 'PG-SF', 'SG-PF', 'SF-C',\n",
       "       'SG-PG-SF'], dtype=object)"
      ]
     },
     "execution_count": 374,
     "metadata": {},
     "output_type": "execute_result"
    }
   ],
   "execution_count": 374
  },
  {
   "metadata": {
    "colab": {
     "base_uri": "https://localhost:8080/"
    },
    "id": "687951614f9514fe",
    "outputId": "9f6ad5ab-73bc-4b02-e2f7-3103fbfcc4b6",
    "ExecuteTime": {
     "end_time": "2025-04-14T18:39:41.609235Z",
     "start_time": "2025-04-14T18:39:41.601949Z"
    }
   },
   "cell_type": "code",
   "source": [
    "# Splitting the position column by \"-\" and taking the first part\n",
    "df[\"pos\"] = df[\"pos\"].apply(lambda x: x.split(\"-\")[0] if \"-\" in x else x)\n",
    "test[\"pos\"] = test[\"pos\"].apply(lambda x: x.split(\"-\")[0] if \"-\" in x else x)\n",
    "predict[\"pos\"] = predict[\"pos\"].apply(lambda x: x.split(\"-\")[0] if \"-\" in x else x)\n",
    "\n",
    "df[\"pos\"].unique()"
   ],
   "id": "687951614f9514fe",
   "outputs": [
    {
     "data": {
      "text/plain": [
       "array(['PF', 'SF', 'C', 'PG', 'SG'], dtype=object)"
      ]
     },
     "execution_count": 375,
     "metadata": {},
     "output_type": "execute_result"
    }
   ],
   "execution_count": 375
  },
  {
   "metadata": {
    "id": "9ef207b8897c069a"
   },
   "cell_type": "markdown",
   "source": [
    "### Imbalanced Data\n",
    "Another major problem we have in our dataset is that our data is very imbalanced.\n",
    "\n",
    "An imbalanced dataset means that the observations in the target variable are not evenly distributed—one class is much more prevalent than the other. In this case, the bulk of the data falls into the majority class (players who did not receive MVP votes), while only a small fraction represents the minority class (players who received MVP votes).\n",
    "\n",
    "The key issue with imbalanced data is achieving accurate predictions for both classes. For example we would like to predict whether a fruit is an apple or an orange. If our dataset consists of 990 apples and 10 oranges, then a very simple model which predicts every fruit is an apple would get a accuracy of 99%, which looks very impressive, it fails at the core objective: classifying fruits.\n",
    "\n",
    "Similarly, if our NBA MVP model always predicts a vote share of zero for every player, it might score high in overall accuracy but would be ineffective at identifying the true MVP candidates. Therefore, balancing the dataset is essential so that the model can learn the real relationships between players' statistics and their MVP vote shares.\n",
    "\n",
    "One effective strategy for balancing an imbalanced dataset is to first reduce the size of the majority class through undersampling, and then apply SMOTE (Synthetic Minority Over-sampling Technique) to create synthetic samples for the minority class. This approach helps ensure that the model has enough data from both classes to learn meaningful patterns.\n",
    "\n",
    "Let's take a look at our classes.\n"
   ],
   "id": "9ef207b8897c069a"
  },
  {
   "metadata": {
    "colab": {
     "base_uri": "https://localhost:8080/",
     "height": 416
    },
    "id": "f144203dc1e463ca",
    "outputId": "dd7deb34-8548-4fdb-db35-dc286ae3b58d",
    "ExecuteTime": {
     "end_time": "2025-04-14T18:39:41.745601Z",
     "start_time": "2025-04-14T18:39:41.689645Z"
    }
   },
   "cell_type": "code",
   "source": [
    "# Getting the sizes of the classes\n",
    "size_before = len(df)\n",
    "classes = df[\"share\"] > 0\n",
    "info_df = df[[\"player\", \"player_id\", \"seas_id\", \"pos\", \"lg\", \"tm\"]]\n",
    "data_df = df.drop([\"player\", \"player_id\", \"seas_id\", \"pos\", \"lg\", \"tm\"], axis = 1)\n",
    "\n",
    "# Calculate counts for each class\n",
    "vote_yes = (df[\"share\"] > 0).sum()\n",
    "vote_no = (df[\"share\"] <= 0).sum()\n",
    "\n",
    "# Create the pie chart using the counts\n",
    "plt.figure(figsize=(10,6))\n",
    "plt.pie([vote_no, vote_yes], labels=[\"No MVP Votes\", \"MVP Votes\"], autopct='%1.1f%%')\n",
    "plt.axis(\"equal\")\n",
    "plt.title(\"Players with no MVP votes vs Players with MVP votes\")\n",
    "plt.show()"
   ],
   "id": "f144203dc1e463ca",
   "outputs": [
    {
     "data": {
      "text/plain": [
       "<Figure size 1000x600 with 1 Axes>"
      ],
      "image/png": "[encoded data removed]"
     },
     "metadata": {},
     "output_type": "display_data"
    }
   ],
   "execution_count": 376
  },
  {
   "metadata": {
    "id": "61f720552200bd49"
   },
   "cell_type": "markdown",
   "source": [
    "### Undersampling\n",
    "We will start of with undersampling our majority class. One of the most common methods for it is random undersampling, where we remove random subset from our majority class. Although it can be effective, the major drawback is that we could remove players whose stats would be meaningful to the model while keeping players whose stats are irrelevant.\n",
    "\n",
    "That's why we will take a different approach - removing players who have very low chance of receiving points (players who didn't play many games, didn't start games, didn't play many minutes, score few points etc).\n",
    "\n",
    "We will start of by removing players who didn't start many games. Let's take a look at the distribution of games started of players who had NBA MVP votes versus no MVP Votes."
   ],
   "id": "61f720552200bd49"
  },
  {
   "cell_type": "code",
   "source": [
    "# Defining the two classes - players who had MVP votes and players who didn't\n",
    "mvp_shares = df[df[\"share\"] > 0]\n",
    "no_mvp_shares = df[df[\"share\"] == 0]"
   ],
   "metadata": {
    "id": "eGYr4sUBX3AI",
    "ExecuteTime": {
     "end_time": "2025-04-14T18:39:41.834767Z",
     "start_time": "2025-04-14T18:39:41.826329Z"
    }
   },
   "id": "eGYr4sUBX3AI",
   "outputs": [],
   "execution_count": 377
  },
  {
   "metadata": {
    "colab": {
     "base_uri": "https://localhost:8080/",
     "height": 419
    },
    "id": "4a5422aa71499ae2",
    "outputId": "2ab65d09-6f1d-4724-a256-465d8ce35288",
    "ExecuteTime": {
     "end_time": "2025-04-14T18:39:42.035083Z",
     "start_time": "2025-04-14T18:39:41.920942Z"
    }
   },
   "cell_type": "code",
   "source": [
    "# Plotting the distribution of games started\n",
    "plt.figure(figsize=(10,6))\n",
    "plt.hist(mvp_shares[\"gs\"], bins = 20, alpha = 0.7, density=True, label = \"MVP Votes\")\n",
    "plt.hist(no_mvp_shares[\"gs\"], bins = 20, alpha = 0.7, density=True, label = \"No MVP Votes\")\n",
    "plt.ylabel(\"Proportion\")\n",
    "plt.xlabel(\"Games Started\")\n",
    "plt.title(\"Distribution of Games Started of Players who had MVP Votes Versus No MVP Votes\")\n",
    "plt.legend()\n",
    "plt.show()"
   ],
   "id": "4a5422aa71499ae2",
   "outputs": [
    {
     "data": {
      "text/plain": [
       "<Figure size 1000x600 with 1 Axes>"
      ],
      "image/png": "[encoded data removed]"
     },
     "metadata": {},
     "output_type": "display_data"
    }
   ],
   "execution_count": 378
  },
  {
   "cell_type": "code",
   "source": [
    "mvp_shares[mvp_shares[\"winner\"] == True][[\"season\", \"player\", \"gs\"]].sort_values(\"gs\").head(5)"
   ],
   "metadata": {
    "colab": {
     "base_uri": "https://localhost:8080/",
     "height": 206
    },
    "id": "rJsNu2wKvDq_",
    "outputId": "41dc4275-9e1b-4b2d-a1e4-e1d340be2182",
    "ExecuteTime": {
     "end_time": "2025-04-14T18:39:42.127780Z",
     "start_time": "2025-04-14T18:39:42.121061Z"
    }
   },
   "id": "rJsNu2wKvDq_",
   "outputs": [
    {
     "data": {
      "text/plain": [
       "       season                 player    gs\n",
       "6297     1999            Karl Malone  49.0\n",
       "12187    2012           LeBron James  62.0\n",
       "16158    2020  Giannis Antetokounmpo  63.0\n",
       "17853    2023            Joel Embiid  66.0\n",
       "7366     2001          Allen Iverson  71.0"
      ],
      "text/html": [
       "<div>\n",
       "<style scoped>\n",
       "    .dataframe tbody tr th:only-of-type {\n",
       "        vertical-align: middle;\n",
       "    }\n",
       "\n",
       "    .dataframe tbody tr th {\n",
       "        vertical-align: top;\n",
       "    }\n",
       "\n",
       "    .dataframe thead th {\n",
       "        text-align: right;\n",
       "    }\n",
       "</style>\n",
       "<table border=\"1\" class=\"dataframe\">\n",
       "  <thead>\n",
       "    <tr style=\"text-align: right;\">\n",
       "      <th></th>\n",
       "      <th>season</th>\n",
       "      <th>player</th>\n",
       "      <th>gs</th>\n",
       "    </tr>\n",
       "  </thead>\n",
       "  <tbody>\n",
       "    <tr>\n",
       "      <th>6297</th>\n",
       "      <td>1999</td>\n",
       "      <td>Karl Malone</td>\n",
       "      <td>49.0</td>\n",
       "    </tr>\n",
       "    <tr>\n",
       "      <th>12187</th>\n",
       "      <td>2012</td>\n",
       "      <td>LeBron James</td>\n",
       "      <td>62.0</td>\n",
       "    </tr>\n",
       "    <tr>\n",
       "      <th>16158</th>\n",
       "      <td>2020</td>\n",
       "      <td>Giannis Antetokounmpo</td>\n",
       "      <td>63.0</td>\n",
       "    </tr>\n",
       "    <tr>\n",
       "      <th>17853</th>\n",
       "      <td>2023</td>\n",
       "      <td>Joel Embiid</td>\n",
       "      <td>66.0</td>\n",
       "    </tr>\n",
       "    <tr>\n",
       "      <th>7366</th>\n",
       "      <td>2001</td>\n",
       "      <td>Allen Iverson</td>\n",
       "      <td>71.0</td>\n",
       "    </tr>\n",
       "  </tbody>\n",
       "</table>\n",
       "</div>"
      ]
     },
     "execution_count": 379,
     "metadata": {},
     "output_type": "execute_result"
    }
   ],
   "execution_count": 379
  },
  {
   "cell_type": "markdown",
   "source": [
    "To win the MVP award you must start a lot of matches (only the best players start the game). The fewest amunt of games started to get an MVP award was 49 by Karl Malone in a lockout shortened 1998-1999 season. So by looking at the distribution it would be safe to assume that to win the MVP you must start atleast 25 games. Let's look at some players who started less than that but still received MVP votes."
   ],
   "metadata": {
    "id": "4SLRWHVXixxO"
   },
   "id": "4SLRWHVXixxO"
  },
  {
   "metadata": {
    "colab": {
     "base_uri": "https://localhost:8080/",
     "height": 586
    },
    "id": "cc5eb5ea708c7bd",
    "outputId": "5f02d3d1-90cc-4e26-c26d-885b6fae8fc0",
    "ExecuteTime": {
     "end_time": "2025-04-14T18:39:42.254203Z",
     "start_time": "2025-04-14T18:39:42.240132Z"
    }
   },
   "cell_type": "code",
   "source": [
    "mvp_shares[mvp_shares[\"gs\"] <= 25]"
   ],
   "id": "cc5eb5ea708c7bd",
   "outputs": [
    {
     "data": {
      "text/plain": [
       "       seas_id  season  player_id             player pos   age  experience  \\\n",
       "156     8951.0    1982     1823.0     Michael Cooper  SG  25.0           4   \n",
       "3022   12499.0    1991     1938.0       Kevin McHale  PF  33.0          11   \n",
       "3485   12817.0    1992     2236.0    Detlef Schrempf  PF  29.0           7   \n",
       "4599   14392.0    1995     2193.0     Michael Jordan  SG  31.0          10   \n",
       "4963   14887.0    1996     1878.0      Magic Johnson  PF  36.0          13   \n",
       "6495   16338.0    1999     2846.0  Darrell Armstrong  PG  30.0           5   \n",
       "6549   16589.0    1999     2950.0    Rasheed Wallace  PF  24.0           4   \n",
       "10474  21344.0    2008     3401.0      Manu Ginóbili  SG  30.0           6   \n",
       "11306  22516.0    2010     3401.0      Manu Ginóbili  SG  32.0           8   \n",
       "16580  29118.0    2021     3812.0       Derrick Rose  PG  32.0          12   \n",
       "\n",
       "        lg   tm   g  ...  stl_percent  blk_percent  tov_percent  usg_percent  \\\n",
       "156    NBA  LAL  76  ...          2.5          1.5         15.6         17.5   \n",
       "3022   NBA  BOS  68  ...          0.6          4.0         11.9         23.9   \n",
       "3485   NBA  IND  80  ...          1.2          0.8         14.6         21.1   \n",
       "4599   NBA  CHI  17  ...          2.3          1.5          7.0         33.2   \n",
       "4963   NBA  LAL  32  ...          1.4          1.0         21.2         22.7   \n",
       "6495   NBA  ORL  50  ...          3.9          0.2         20.8         22.9   \n",
       "6549   NBA  POR  49  ...          1.8          2.9         12.6         20.5   \n",
       "10474  NBA  SAS  74  ...          2.6          1.1         14.5         28.7   \n",
       "11306  NBA  SAS  75  ...          2.5          0.8         12.7         25.8   \n",
       "16580  NBA  NYK  50  ...          1.9          1.4         10.5         25.8   \n",
       "\n",
       "       ows  dws  obpm  dbpm  vorp  win_percent  \n",
       "156    2.4  2.6  -0.3   1.2   1.6        0.695  \n",
       "3022   5.3  2.6   2.6   0.5   2.7        0.683  \n",
       "3485   7.1  2.8   3.0   0.1   3.3        0.488  \n",
       "4599   1.2  1.1   3.6   0.6   1.1        0.573  \n",
       "4963   2.6  1.1   4.7   0.5   1.8        0.646  \n",
       "6495   3.8  2.7   4.2   2.4   3.3        0.660  \n",
       "6549   2.6  2.4   0.2   1.8   1.4        0.700  \n",
       "10474  6.6  4.5   5.6   2.7   6.0        0.683  \n",
       "11306  6.5  3.2   5.1   1.6   4.7        0.610  \n",
       "16580  1.6  1.6   1.6   0.3   1.3        0.569  \n",
       "\n",
       "[10 rows x 44 columns]"
      ],
      "text/html": [
       "<div>\n",
       "<style scoped>\n",
       "    .dataframe tbody tr th:only-of-type {\n",
       "        vertical-align: middle;\n",
       "    }\n",
       "\n",
       "    .dataframe tbody tr th {\n",
       "        vertical-align: top;\n",
       "    }\n",
       "\n",
       "    .dataframe thead th {\n",
       "        text-align: right;\n",
       "    }\n",
       "</style>\n",
       "<table border=\"1\" class=\"dataframe\">\n",
       "  <thead>\n",
       "    <tr style=\"text-align: right;\">\n",
       "      <th></th>\n",
       "      <th>seas_id</th>\n",
       "      <th>season</th>\n",
       "      <th>player_id</th>\n",
       "      <th>player</th>\n",
       "      <th>pos</th>\n",
       "      <th>age</th>\n",
       "      <th>experience</th>\n",
       "      <th>lg</th>\n",
       "      <th>tm</th>\n",
       "      <th>g</th>\n",
       "      <th>...</th>\n",
       "      <th>stl_percent</th>\n",
       "      <th>blk_percent</th>\n",
       "      <th>tov_percent</th>\n",
       "      <th>usg_percent</th>\n",
       "      <th>ows</th>\n",
       "      <th>dws</th>\n",
       "      <th>obpm</th>\n",
       "      <th>dbpm</th>\n",
       "      <th>vorp</th>\n",
       "      <th>win_percent</th>\n",
       "    </tr>\n",
       "  </thead>\n",
       "  <tbody>\n",
       "    <tr>\n",
       "      <th>156</th>\n",
       "      <td>8951.0</td>\n",
       "      <td>1982</td>\n",
       "      <td>1823.0</td>\n",
       "      <td>Michael Cooper</td>\n",
       "      <td>SG</td>\n",
       "      <td>25.0</td>\n",
       "      <td>4</td>\n",
       "      <td>NBA</td>\n",
       "      <td>LAL</td>\n",
       "      <td>76</td>\n",
       "      <td>...</td>\n",
       "      <td>2.5</td>\n",
       "      <td>1.5</td>\n",
       "      <td>15.6</td>\n",
       "      <td>17.5</td>\n",
       "      <td>2.4</td>\n",
       "      <td>2.6</td>\n",
       "      <td>-0.3</td>\n",
       "      <td>1.2</td>\n",
       "      <td>1.6</td>\n",
       "      <td>0.695</td>\n",
       "    </tr>\n",
       "    <tr>\n",
       "      <th>3022</th>\n",
       "      <td>12499.0</td>\n",
       "      <td>1991</td>\n",
       "      <td>1938.0</td>\n",
       "      <td>Kevin McHale</td>\n",
       "      <td>PF</td>\n",
       "      <td>33.0</td>\n",
       "      <td>11</td>\n",
       "      <td>NBA</td>\n",
       "      <td>BOS</td>\n",
       "      <td>68</td>\n",
       "      <td>...</td>\n",
       "      <td>0.6</td>\n",
       "      <td>4.0</td>\n",
       "      <td>11.9</td>\n",
       "      <td>23.9</td>\n",
       "      <td>5.3</td>\n",
       "      <td>2.6</td>\n",
       "      <td>2.6</td>\n",
       "      <td>0.5</td>\n",
       "      <td>2.7</td>\n",
       "      <td>0.683</td>\n",
       "    </tr>\n",
       "    <tr>\n",
       "      <th>3485</th>\n",
       "      <td>12817.0</td>\n",
       "      <td>1992</td>\n",
       "      <td>2236.0</td>\n",
       "      <td>Detlef Schrempf</td>\n",
       "      <td>PF</td>\n",
       "      <td>29.0</td>\n",
       "      <td>7</td>\n",
       "      <td>NBA</td>\n",
       "      <td>IND</td>\n",
       "      <td>80</td>\n",
       "      <td>...</td>\n",
       "      <td>1.2</td>\n",
       "      <td>0.8</td>\n",
       "      <td>14.6</td>\n",
       "      <td>21.1</td>\n",
       "      <td>7.1</td>\n",
       "      <td>2.8</td>\n",
       "      <td>3.0</td>\n",
       "      <td>0.1</td>\n",
       "      <td>3.3</td>\n",
       "      <td>0.488</td>\n",
       "    </tr>\n",
       "    <tr>\n",
       "      <th>4599</th>\n",
       "      <td>14392.0</td>\n",
       "      <td>1995</td>\n",
       "      <td>2193.0</td>\n",
       "      <td>Michael Jordan</td>\n",
       "      <td>SG</td>\n",
       "      <td>31.0</td>\n",
       "      <td>10</td>\n",
       "      <td>NBA</td>\n",
       "      <td>CHI</td>\n",
       "      <td>17</td>\n",
       "      <td>...</td>\n",
       "      <td>2.3</td>\n",
       "      <td>1.5</td>\n",
       "      <td>7.0</td>\n",
       "      <td>33.2</td>\n",
       "      <td>1.2</td>\n",
       "      <td>1.1</td>\n",
       "      <td>3.6</td>\n",
       "      <td>0.6</td>\n",
       "      <td>1.1</td>\n",
       "      <td>0.573</td>\n",
       "    </tr>\n",
       "    <tr>\n",
       "      <th>4963</th>\n",
       "      <td>14887.0</td>\n",
       "      <td>1996</td>\n",
       "      <td>1878.0</td>\n",
       "      <td>Magic Johnson</td>\n",
       "      <td>PF</td>\n",
       "      <td>36.0</td>\n",
       "      <td>13</td>\n",
       "      <td>NBA</td>\n",
       "      <td>LAL</td>\n",
       "      <td>32</td>\n",
       "      <td>...</td>\n",
       "      <td>1.4</td>\n",
       "      <td>1.0</td>\n",
       "      <td>21.2</td>\n",
       "      <td>22.7</td>\n",
       "      <td>2.6</td>\n",
       "      <td>1.1</td>\n",
       "      <td>4.7</td>\n",
       "      <td>0.5</td>\n",
       "      <td>1.8</td>\n",
       "      <td>0.646</td>\n",
       "    </tr>\n",
       "    <tr>\n",
       "      <th>6495</th>\n",
       "      <td>16338.0</td>\n",
       "      <td>1999</td>\n",
       "      <td>2846.0</td>\n",
       "      <td>Darrell Armstrong</td>\n",
       "      <td>PG</td>\n",
       "      <td>30.0</td>\n",
       "      <td>5</td>\n",
       "      <td>NBA</td>\n",
       "      <td>ORL</td>\n",
       "      <td>50</td>\n",
       "      <td>...</td>\n",
       "      <td>3.9</td>\n",
       "      <td>0.2</td>\n",
       "      <td>20.8</td>\n",
       "      <td>22.9</td>\n",
       "      <td>3.8</td>\n",
       "      <td>2.7</td>\n",
       "      <td>4.2</td>\n",
       "      <td>2.4</td>\n",
       "      <td>3.3</td>\n",
       "      <td>0.660</td>\n",
       "    </tr>\n",
       "    <tr>\n",
       "      <th>6549</th>\n",
       "      <td>16589.0</td>\n",
       "      <td>1999</td>\n",
       "      <td>2950.0</td>\n",
       "      <td>Rasheed Wallace</td>\n",
       "      <td>PF</td>\n",
       "      <td>24.0</td>\n",
       "      <td>4</td>\n",
       "      <td>NBA</td>\n",
       "      <td>POR</td>\n",
       "      <td>49</td>\n",
       "      <td>...</td>\n",
       "      <td>1.8</td>\n",
       "      <td>2.9</td>\n",
       "      <td>12.6</td>\n",
       "      <td>20.5</td>\n",
       "      <td>2.6</td>\n",
       "      <td>2.4</td>\n",
       "      <td>0.2</td>\n",
       "      <td>1.8</td>\n",
       "      <td>1.4</td>\n",
       "      <td>0.700</td>\n",
       "    </tr>\n",
       "    <tr>\n",
       "      <th>10474</th>\n",
       "      <td>21344.0</td>\n",
       "      <td>2008</td>\n",
       "      <td>3401.0</td>\n",
       "      <td>Manu Ginóbili</td>\n",
       "      <td>SG</td>\n",
       "      <td>30.0</td>\n",
       "      <td>6</td>\n",
       "      <td>NBA</td>\n",
       "      <td>SAS</td>\n",
       "      <td>74</td>\n",
       "      <td>...</td>\n",
       "      <td>2.6</td>\n",
       "      <td>1.1</td>\n",
       "      <td>14.5</td>\n",
       "      <td>28.7</td>\n",
       "      <td>6.6</td>\n",
       "      <td>4.5</td>\n",
       "      <td>5.6</td>\n",
       "      <td>2.7</td>\n",
       "      <td>6.0</td>\n",
       "      <td>0.683</td>\n",
       "    </tr>\n",
       "    <tr>\n",
       "      <th>11306</th>\n",
       "      <td>22516.0</td>\n",
       "      <td>2010</td>\n",
       "      <td>3401.0</td>\n",
       "      <td>Manu Ginóbili</td>\n",
       "      <td>SG</td>\n",
       "      <td>32.0</td>\n",
       "      <td>8</td>\n",
       "      <td>NBA</td>\n",
       "      <td>SAS</td>\n",
       "      <td>75</td>\n",
       "      <td>...</td>\n",
       "      <td>2.5</td>\n",
       "      <td>0.8</td>\n",
       "      <td>12.7</td>\n",
       "      <td>25.8</td>\n",
       "      <td>6.5</td>\n",
       "      <td>3.2</td>\n",
       "      <td>5.1</td>\n",
       "      <td>1.6</td>\n",
       "      <td>4.7</td>\n",
       "      <td>0.610</td>\n",
       "    </tr>\n",
       "    <tr>\n",
       "      <th>16580</th>\n",
       "      <td>29118.0</td>\n",
       "      <td>2021</td>\n",
       "      <td>3812.0</td>\n",
       "      <td>Derrick Rose</td>\n",
       "      <td>PG</td>\n",
       "      <td>32.0</td>\n",
       "      <td>12</td>\n",
       "      <td>NBA</td>\n",
       "      <td>NYK</td>\n",
       "      <td>50</td>\n",
       "      <td>...</td>\n",
       "      <td>1.9</td>\n",
       "      <td>1.4</td>\n",
       "      <td>10.5</td>\n",
       "      <td>25.8</td>\n",
       "      <td>1.6</td>\n",
       "      <td>1.6</td>\n",
       "      <td>1.6</td>\n",
       "      <td>0.3</td>\n",
       "      <td>1.3</td>\n",
       "      <td>0.569</td>\n",
       "    </tr>\n",
       "  </tbody>\n",
       "</table>\n",
       "<p>10 rows × 44 columns</p>\n",
       "</div>"
      ]
     },
     "execution_count": 380,
     "metadata": {},
     "output_type": "execute_result"
    }
   ],
   "execution_count": 380
  },
  {
   "metadata": {
    "id": "91957e9c7becb21d"
   },
   "cell_type": "markdown",
   "source": [
    "So the players which started maximum of 25 games are mostly 6th men (players who came of the bench but still player crucial role in the team)."
   ],
   "id": "91957e9c7becb21d"
  },
  {
   "cell_type": "code",
   "source": [
    "len(df[df[\"gs\"] <= 25]) / size_before"
   ],
   "metadata": {
    "colab": {
     "base_uri": "https://localhost:8080/"
    },
    "id": "wtDEd3RuUiu1",
    "outputId": "0fe5be50-2fe2-4729-8da6-5257f097df48",
    "ExecuteTime": {
     "end_time": "2025-04-14T18:39:42.335520Z",
     "start_time": "2025-04-14T18:39:42.326624Z"
    }
   },
   "id": "wtDEd3RuUiu1",
   "outputs": [
    {
     "data": {
      "text/plain": [
       "0.620152487521255"
      ]
     },
     "execution_count": 381,
     "metadata": {},
     "output_type": "execute_result"
    }
   ],
   "execution_count": 381
  },
  {
   "cell_type": "code",
   "source": [
    "len(df[df[\"gs\"] > 25])"
   ],
   "metadata": {
    "colab": {
     "base_uri": "https://localhost:8080/"
    },
    "id": "4NyocoZCUjwo",
    "outputId": "8a3b09b7-9fc9-4632-a919-ab8bb998114b",
    "ExecuteTime": {
     "end_time": "2025-04-14T18:39:42.395106Z",
     "start_time": "2025-04-14T18:39:42.389990Z"
    }
   },
   "id": "4NyocoZCUjwo",
   "outputs": [
    {
     "data": {
      "text/plain": [
       "6925"
      ]
     },
     "execution_count": 382,
     "metadata": {},
     "output_type": "execute_result"
    }
   ],
   "execution_count": 382
  },
  {
   "cell_type": "markdown",
   "source": [
    "By filtering out players who played in fewer than 25 games, we reduced our dataset to 7,108 players—approximately 40% of the original sample. Notably, this filter removed only 10 players who received MVP votes, while excluding 11695 players who hadn't played enough games to be realistically considered for the MVP award. Although this strategy refines our analysis by focusing on players with a meaningful amount of participation, the dataset remains highly imbalanced in terms of MVP representation."
   ],
   "metadata": {
    "id": "_IqdFwYqUn3s"
   },
   "id": "_IqdFwYqUn3s"
  },
  {
   "cell_type": "code",
   "source": [
    "# Applying the filter to our data\n",
    "df = df[df[\"gs\"] > 25].reset_index(drop=True)\n",
    "test = test[test[\"gs\"] > 25].reset_index(drop=True)\n",
    "predict = predict[predict[\"gs\"] > 25].reset_index(drop=True)"
   ],
   "metadata": {
    "id": "DcacN3XiliaR",
    "ExecuteTime": {
     "end_time": "2025-04-14T18:39:42.486446Z",
     "start_time": "2025-04-14T18:39:42.475858Z"
    }
   },
   "id": "DcacN3XiliaR",
   "outputs": [],
   "execution_count": 383
  },
  {
   "cell_type": "markdown",
   "source": [
    "Now we will look at the distribution of minutes per game of players who had NBA MVP votes versus no MVP Votes."
   ],
   "metadata": {
    "id": "L-vb-G7IlrlA"
   },
   "id": "L-vb-G7IlrlA"
  },
  {
   "cell_type": "code",
   "source": [
    "# Defining the two classes - players who had MVP votes and players who didn't\n",
    "mvp_shares = df[df[\"share\"] > 0]\n",
    "no_mvp_shares = df[df[\"share\"] == 0]"
   ],
   "metadata": {
    "id": "jftEQeI0a_53",
    "ExecuteTime": {
     "end_time": "2025-04-14T18:39:42.579335Z",
     "start_time": "2025-04-14T18:39:42.574560Z"
    }
   },
   "id": "jftEQeI0a_53",
   "outputs": [],
   "execution_count": 384
  },
  {
   "metadata": {
    "colab": {
     "base_uri": "https://localhost:8080/",
     "height": 437
    },
    "id": "51ac99dd4519c936",
    "outputId": "7e75a069-a468-47e9-8117-f00ba00d87e2",
    "ExecuteTime": {
     "end_time": "2025-04-14T18:39:42.863228Z",
     "start_time": "2025-04-14T18:39:42.739101Z"
    }
   },
   "cell_type": "code",
   "source": [
    "# Plotting the distribution of minutes played\n",
    "plt.figure(figsize=(10,6))\n",
    "plt.hist(mvp_shares[\"mp_per_game\"], bins = 20, alpha = 0.7, density=True, label = \"MVP Votes\")\n",
    "plt.hist(no_mvp_shares[\"mp_per_game\"], bins = 20, alpha = 0.7, density=True, label = \"No MVP Votes\")\n",
    "plt.ylabel(\"Proportion\")\n",
    "plt.xlabel(\"Minutes Played\")\n",
    "plt.title(\"Distribution of minutes played of players who had MVP Votes Versus No MVP Votes\")\n",
    "plt.legend()\n",
    "plt.show()\n",
    "\n",
    "cutoff_mp = mvp_shares[\"mp_per_game\"].mean() - 3 * mvp_shares[\"mp_per_game\"].std()\n",
    "print(f\"The cutoff value is equal to: {cutoff_mp} minutes per game\")"
   ],
   "id": "51ac99dd4519c936",
   "outputs": [
    {
     "data": {
      "text/plain": [
       "<Figure size 1000x600 with 1 Axes>"
      ],
      "image/png": "[encoded data removed]"
     },
     "metadata": {},
     "output_type": "display_data"
    },
    {
     "name": "stdout",
     "output_type": "stream",
     "text": [
      "The cutoff value is equal to: 27.952176791033786 minutes per game\n"
     ]
    }
   ],
   "execution_count": 385
  },
  {
   "cell_type": "markdown",
   "source": [
    "To win the NBA award it is logical that you should play a significant amount of minutes on the court. Our next step is to remove players that didn't have a lot of playing time.\n",
    "\n",
    "For our cutoff value I will use the third standard deviation from the mean minutes played per game by players who received MVP votes. This ended up being 27.91 minutes per game."
   ],
   "metadata": {
    "id": "z1xb-bCOWGua"
   },
   "id": "z1xb-bCOWGua"
  },
  {
   "metadata": {
    "colab": {
     "base_uri": "https://localhost:8080/",
     "height": 196
    },
    "id": "c0c33f0bd0fd3e0b",
    "outputId": "ec5a6f06-219c-4bec-c025-c9b53b8f82db",
    "ExecuteTime": {
     "end_time": "2025-04-14T18:39:42.965700Z",
     "start_time": "2025-04-14T18:39:42.954689Z"
    }
   },
   "cell_type": "code",
   "source": [
    "mvp_shares[mvp_shares[\"mp_per_game\"] <= cutoff_mp]"
   ],
   "id": "c0c33f0bd0fd3e0b",
   "outputs": [
    {
     "data": {
      "text/plain": [
       "      seas_id  season  player_id           player pos   age  experience   lg  \\\n",
       "241    9090.0    1983     1978.0     Alton Lister  PF  24.0           2  NBA   \n",
       "2651  16240.0    1999     2897.0  Arvydas Sabonis   C  34.0           4  NBA   \n",
       "\n",
       "       tm   g  ...  stl_percent  blk_percent  tov_percent  usg_percent  ows  \\\n",
       "241   MIL  80  ...          1.3          5.2         23.1         17.7 -0.2   \n",
       "2651  POR  50  ...          1.4          3.5         13.3         21.7  3.0   \n",
       "\n",
       "      dws  obpm  dbpm  vorp  win_percent  \n",
       "241   3.9  -2.9   2.4   0.7        0.622  \n",
       "2651  2.9   1.8   2.4   2.1        0.700  \n",
       "\n",
       "[2 rows x 44 columns]"
      ],
      "text/html": [
       "<div>\n",
       "<style scoped>\n",
       "    .dataframe tbody tr th:only-of-type {\n",
       "        vertical-align: middle;\n",
       "    }\n",
       "\n",
       "    .dataframe tbody tr th {\n",
       "        vertical-align: top;\n",
       "    }\n",
       "\n",
       "    .dataframe thead th {\n",
       "        text-align: right;\n",
       "    }\n",
       "</style>\n",
       "<table border=\"1\" class=\"dataframe\">\n",
       "  <thead>\n",
       "    <tr style=\"text-align: right;\">\n",
       "      <th></th>\n",
       "      <th>seas_id</th>\n",
       "      <th>season</th>\n",
       "      <th>player_id</th>\n",
       "      <th>player</th>\n",
       "      <th>pos</th>\n",
       "      <th>age</th>\n",
       "      <th>experience</th>\n",
       "      <th>lg</th>\n",
       "      <th>tm</th>\n",
       "      <th>g</th>\n",
       "      <th>...</th>\n",
       "      <th>stl_percent</th>\n",
       "      <th>blk_percent</th>\n",
       "      <th>tov_percent</th>\n",
       "      <th>usg_percent</th>\n",
       "      <th>ows</th>\n",
       "      <th>dws</th>\n",
       "      <th>obpm</th>\n",
       "      <th>dbpm</th>\n",
       "      <th>vorp</th>\n",
       "      <th>win_percent</th>\n",
       "    </tr>\n",
       "  </thead>\n",
       "  <tbody>\n",
       "    <tr>\n",
       "      <th>241</th>\n",
       "      <td>9090.0</td>\n",
       "      <td>1983</td>\n",
       "      <td>1978.0</td>\n",
       "      <td>Alton Lister</td>\n",
       "      <td>PF</td>\n",
       "      <td>24.0</td>\n",
       "      <td>2</td>\n",
       "      <td>NBA</td>\n",
       "      <td>MIL</td>\n",
       "      <td>80</td>\n",
       "      <td>...</td>\n",
       "      <td>1.3</td>\n",
       "      <td>5.2</td>\n",
       "      <td>23.1</td>\n",
       "      <td>17.7</td>\n",
       "      <td>-0.2</td>\n",
       "      <td>3.9</td>\n",
       "      <td>-2.9</td>\n",
       "      <td>2.4</td>\n",
       "      <td>0.7</td>\n",
       "      <td>0.622</td>\n",
       "    </tr>\n",
       "    <tr>\n",
       "      <th>2651</th>\n",
       "      <td>16240.0</td>\n",
       "      <td>1999</td>\n",
       "      <td>2897.0</td>\n",
       "      <td>Arvydas Sabonis</td>\n",
       "      <td>C</td>\n",
       "      <td>34.0</td>\n",
       "      <td>4</td>\n",
       "      <td>NBA</td>\n",
       "      <td>POR</td>\n",
       "      <td>50</td>\n",
       "      <td>...</td>\n",
       "      <td>1.4</td>\n",
       "      <td>3.5</td>\n",
       "      <td>13.3</td>\n",
       "      <td>21.7</td>\n",
       "      <td>3.0</td>\n",
       "      <td>2.9</td>\n",
       "      <td>1.8</td>\n",
       "      <td>2.4</td>\n",
       "      <td>2.1</td>\n",
       "      <td>0.700</td>\n",
       "    </tr>\n",
       "  </tbody>\n",
       "</table>\n",
       "<p>2 rows × 44 columns</p>\n",
       "</div>"
      ]
     },
     "execution_count": 386,
     "metadata": {},
     "output_type": "execute_result"
    }
   ],
   "execution_count": 386
  },
  {
   "metadata": {
    "id": "8b9405167ef3c46c"
   },
   "cell_type": "markdown",
   "source": [
    "So the only players here are Alton Lister and Arvydas Sabonis. Both of these players are outliers who received some votes, probably due to voter's bias.\n",
    "\n",
    "Now we will take a look at the distribution of points per game of players who had NBA MVP votes versus no MVP Votes."
   ],
   "id": "8b9405167ef3c46c"
  },
  {
   "metadata": {
    "colab": {
     "base_uri": "https://localhost:8080/",
     "height": 437
    },
    "id": "1f64a5120772fe71",
    "outputId": "c6898613-7810-4a8c-a7f0-ff4392c65e03",
    "ExecuteTime": {
     "end_time": "2025-04-14T18:39:43.142213Z",
     "start_time": "2025-04-14T18:39:43.006955Z"
    }
   },
   "cell_type": "code",
   "source": [
    "# Plotting the distribution of points per game\n",
    "plt.figure(figsize=(10,6))\n",
    "plt.hist(mvp_shares[\"pts_per_game\"], bins = 20, alpha = 0.7, density=True, label = \"MVP Votes\")\n",
    "plt.hist(no_mvp_shares[\"pts_per_game\"], bins = 20, alpha = 0.7, density=True, label = \"No MVP Votes\")\n",
    "plt.ylabel(\"Proportion\")\n",
    "plt.xlabel(\"Points per game\")\n",
    "plt.title(\"Distribution of points per game of players who had MVP Votes Versus No MVP Votes\")\n",
    "plt.legend()\n",
    "plt.show()\n",
    "\n",
    "cutoff_pts = mvp_shares[\"pts_per_game\"].mean() - 3 * mvp_shares[\"pts_per_game\"].std()\n",
    "print(f\"The cutoff value is equal to: {cutoff_pts} points per game\")"
   ],
   "id": "1f64a5120772fe71",
   "outputs": [
    {
     "data": {
      "text/plain": [
       "<Figure size 1000x600 with 1 Axes>"
      ],
      "image/png": "[encoded data removed]"
     },
     "metadata": {},
     "output_type": "display_data"
    },
    {
     "name": "stdout",
     "output_type": "stream",
     "text": [
      "The cutoff value is equal to: 7.127414038867647 points per game\n"
     ]
    }
   ],
   "execution_count": 387
  },
  {
   "cell_type": "markdown",
   "source": [
    "As we know the team that scores more points than the opposing team wins the basketball game. So intuitively the best players should score the most points.\n",
    "\n",
    "For our cutoff value I will again use the third standard deviation from the mean points per game by players who received MVP votes. This ended up being 7.14 points per game."
   ],
   "metadata": {
    "id": "sJGGkCQ_XpC5"
   },
   "id": "sJGGkCQ_XpC5"
  },
  {
   "metadata": {
    "colab": {
     "base_uri": "https://localhost:8080/",
     "height": 342
    },
    "id": "2fd9a71466a1fee6",
    "outputId": "1787a074-9a28-4d91-b20d-723fc3d14738",
    "ExecuteTime": {
     "end_time": "2025-04-14T18:39:43.183201Z",
     "start_time": "2025-04-14T18:39:43.170983Z"
    }
   },
   "cell_type": "code",
   "source": [
    "mvp_shares[mvp_shares[\"pts_per_game\"] <= cutoff_pts]"
   ],
   "id": "2fd9a71466a1fee6",
   "outputs": [
    {
     "data": {
      "text/plain": [
       "      seas_id  season  player_id         player pos   age  experience   lg  \\\n",
       "1006  11635.0    1989     2081.0     Mark Eaton   C  32.0           7  NBA   \n",
       "1761  13724.0    1994     2301.0  Dennis Rodman  PF  32.0           8  NBA   \n",
       "1904  14199.0    1995     2301.0  Dennis Rodman  PF  33.0           9  NBA   \n",
       "2065  14682.0    1996     2301.0  Dennis Rodman  PF  34.0          10  NBA   \n",
       "3265  18288.0    2003     2971.0    Ben Wallace   C  28.0           7  NBA   \n",
       "\n",
       "       tm   g  ...  stl_percent  blk_percent  tov_percent  usg_percent  ows  \\\n",
       "1006  UTA  82  ...          0.7          6.5         22.3          9.2  0.0   \n",
       "1761  SAS  79  ...          0.9          0.7         29.1          7.1  3.3   \n",
       "1904  SAS  49  ...          1.0          1.0         25.3         10.9  2.6   \n",
       "2065  CHI  64  ...          0.9          1.0         28.2         10.3  1.7   \n",
       "3265  DET  73  ...          2.0          5.9         14.5         10.2  2.7   \n",
       "\n",
       "      dws  obpm  dbpm  vorp  win_percent  \n",
       "1006  6.5  -2.5   3.1   1.9        0.622  \n",
       "1761  5.4   0.7   0.3   2.3        0.671  \n",
       "1904  3.2   1.4   0.4   1.5        0.756  \n",
       "2065  4.6  -0.3   0.3   1.1        0.878  \n",
       "3265  7.9   0.4   3.5   4.3        0.610  \n",
       "\n",
       "[5 rows x 44 columns]"
      ],
      "text/html": [
       "<div>\n",
       "<style scoped>\n",
       "    .dataframe tbody tr th:only-of-type {\n",
       "        vertical-align: middle;\n",
       "    }\n",
       "\n",
       "    .dataframe tbody tr th {\n",
       "        vertical-align: top;\n",
       "    }\n",
       "\n",
       "    .dataframe thead th {\n",
       "        text-align: right;\n",
       "    }\n",
       "</style>\n",
       "<table border=\"1\" class=\"dataframe\">\n",
       "  <thead>\n",
       "    <tr style=\"text-align: right;\">\n",
       "      <th></th>\n",
       "      <th>seas_id</th>\n",
       "      <th>season</th>\n",
       "      <th>player_id</th>\n",
       "      <th>player</th>\n",
       "      <th>pos</th>\n",
       "      <th>age</th>\n",
       "      <th>experience</th>\n",
       "      <th>lg</th>\n",
       "      <th>tm</th>\n",
       "      <th>g</th>\n",
       "      <th>...</th>\n",
       "      <th>stl_percent</th>\n",
       "      <th>blk_percent</th>\n",
       "      <th>tov_percent</th>\n",
       "      <th>usg_percent</th>\n",
       "      <th>ows</th>\n",
       "      <th>dws</th>\n",
       "      <th>obpm</th>\n",
       "      <th>dbpm</th>\n",
       "      <th>vorp</th>\n",
       "      <th>win_percent</th>\n",
       "    </tr>\n",
       "  </thead>\n",
       "  <tbody>\n",
       "    <tr>\n",
       "      <th>1006</th>\n",
       "      <td>11635.0</td>\n",
       "      <td>1989</td>\n",
       "      <td>2081.0</td>\n",
       "      <td>Mark Eaton</td>\n",
       "      <td>C</td>\n",
       "      <td>32.0</td>\n",
       "      <td>7</td>\n",
       "      <td>NBA</td>\n",
       "      <td>UTA</td>\n",
       "      <td>82</td>\n",
       "      <td>...</td>\n",
       "      <td>0.7</td>\n",
       "      <td>6.5</td>\n",
       "      <td>22.3</td>\n",
       "      <td>9.2</td>\n",
       "      <td>0.0</td>\n",
       "      <td>6.5</td>\n",
       "      <td>-2.5</td>\n",
       "      <td>3.1</td>\n",
       "      <td>1.9</td>\n",
       "      <td>0.622</td>\n",
       "    </tr>\n",
       "    <tr>\n",
       "      <th>1761</th>\n",
       "      <td>13724.0</td>\n",
       "      <td>1994</td>\n",
       "      <td>2301.0</td>\n",
       "      <td>Dennis Rodman</td>\n",
       "      <td>PF</td>\n",
       "      <td>32.0</td>\n",
       "      <td>8</td>\n",
       "      <td>NBA</td>\n",
       "      <td>SAS</td>\n",
       "      <td>79</td>\n",
       "      <td>...</td>\n",
       "      <td>0.9</td>\n",
       "      <td>0.7</td>\n",
       "      <td>29.1</td>\n",
       "      <td>7.1</td>\n",
       "      <td>3.3</td>\n",
       "      <td>5.4</td>\n",
       "      <td>0.7</td>\n",
       "      <td>0.3</td>\n",
       "      <td>2.3</td>\n",
       "      <td>0.671</td>\n",
       "    </tr>\n",
       "    <tr>\n",
       "      <th>1904</th>\n",
       "      <td>14199.0</td>\n",
       "      <td>1995</td>\n",
       "      <td>2301.0</td>\n",
       "      <td>Dennis Rodman</td>\n",
       "      <td>PF</td>\n",
       "      <td>33.0</td>\n",
       "      <td>9</td>\n",
       "      <td>NBA</td>\n",
       "      <td>SAS</td>\n",
       "      <td>49</td>\n",
       "      <td>...</td>\n",
       "      <td>1.0</td>\n",
       "      <td>1.0</td>\n",
       "      <td>25.3</td>\n",
       "      <td>10.9</td>\n",
       "      <td>2.6</td>\n",
       "      <td>3.2</td>\n",
       "      <td>1.4</td>\n",
       "      <td>0.4</td>\n",
       "      <td>1.5</td>\n",
       "      <td>0.756</td>\n",
       "    </tr>\n",
       "    <tr>\n",
       "      <th>2065</th>\n",
       "      <td>14682.0</td>\n",
       "      <td>1996</td>\n",
       "      <td>2301.0</td>\n",
       "      <td>Dennis Rodman</td>\n",
       "      <td>PF</td>\n",
       "      <td>34.0</td>\n",
       "      <td>10</td>\n",
       "      <td>NBA</td>\n",
       "      <td>CHI</td>\n",
       "      <td>64</td>\n",
       "      <td>...</td>\n",
       "      <td>0.9</td>\n",
       "      <td>1.0</td>\n",
       "      <td>28.2</td>\n",
       "      <td>10.3</td>\n",
       "      <td>1.7</td>\n",
       "      <td>4.6</td>\n",
       "      <td>-0.3</td>\n",
       "      <td>0.3</td>\n",
       "      <td>1.1</td>\n",
       "      <td>0.878</td>\n",
       "    </tr>\n",
       "    <tr>\n",
       "      <th>3265</th>\n",
       "      <td>18288.0</td>\n",
       "      <td>2003</td>\n",
       "      <td>2971.0</td>\n",
       "      <td>Ben Wallace</td>\n",
       "      <td>C</td>\n",
       "      <td>28.0</td>\n",
       "      <td>7</td>\n",
       "      <td>NBA</td>\n",
       "      <td>DET</td>\n",
       "      <td>73</td>\n",
       "      <td>...</td>\n",
       "      <td>2.0</td>\n",
       "      <td>5.9</td>\n",
       "      <td>14.5</td>\n",
       "      <td>10.2</td>\n",
       "      <td>2.7</td>\n",
       "      <td>7.9</td>\n",
       "      <td>0.4</td>\n",
       "      <td>3.5</td>\n",
       "      <td>4.3</td>\n",
       "      <td>0.610</td>\n",
       "    </tr>\n",
       "  </tbody>\n",
       "</table>\n",
       "<p>5 rows × 44 columns</p>\n",
       "</div>"
      ]
     },
     "execution_count": 388,
     "metadata": {},
     "output_type": "execute_result"
    }
   ],
   "execution_count": 388
  },
  {
   "metadata": {
    "id": "beefe6ee7866db93"
   },
   "cell_type": "markdown",
   "source": [
    "As we can see the players who scored less or equal to our cutoff value where defensive specialists - Dennis Rodman, Mark Eaton and Ben Wallace (all combining for 8 Defensive Player of the Year awards). Although these players created massive impact on the defensive end, the MVP award tends to favour the offensive players more, making them outliers.\n",
    "\n",
    "Now finally we can apply those filters to our data and reduce the size of it."
   ],
   "id": "beefe6ee7866db93"
  },
  {
   "cell_type": "code",
   "source": [
    "# Applying the rest of the filters to our data\n",
    "df = df[(df[\"pts_per_game\"] > cutoff_pts) & (df[\"mp_per_game\"] > cutoff_mp)].reset_index(drop = True)\n",
    "test = test[(test[\"pts_per_game\"] > cutoff_pts) & (test[\"mp_per_game\"] > cutoff_mp)].reset_index(drop = True)\n",
    "predict = predict[(predict[\"pts_per_game\"] > cutoff_pts) & (predict[\"mp_per_game\"] > cutoff_mp)].reset_index(drop = True)"
   ],
   "metadata": {
    "id": "MvFKRqxkl9iY",
    "ExecuteTime": {
     "end_time": "2025-04-14T18:39:43.260339Z",
     "start_time": "2025-04-14T18:39:43.250536Z"
    }
   },
   "id": "MvFKRqxkl9iY",
   "outputs": [],
   "execution_count": 389
  },
  {
   "cell_type": "code",
   "source": [
    "# Calculate counts for each class\n",
    "vote_yes = (df[\"share\"] > 0).sum()\n",
    "vote_no = (df[\"share\"] <= 0).sum()\n",
    "\n",
    "# Create the pie chart using the counts\n",
    "plt.figure(figsize=(10,6))\n",
    "plt.pie([vote_no, vote_yes], labels=[\"No MVP Votes\", \"MVP Votes\"], autopct='%1.1f%%')\n",
    "plt.axis(\"equal\")\n",
    "plt.title(\"Players with no MVP votes vs Players with MVP votes\")\n",
    "plt.show()"
   ],
   "metadata": {
    "colab": {
     "base_uri": "https://localhost:8080/",
     "height": 428
    },
    "id": "m_jXM9t8bdRV",
    "outputId": "7d80558d-4115-47db-cbfe-0c2fca26a309",
    "ExecuteTime": {
     "end_time": "2025-04-14T18:39:43.367919Z",
     "start_time": "2025-04-14T18:39:43.314455Z"
    }
   },
   "id": "m_jXM9t8bdRV",
   "outputs": [
    {
     "data": {
      "text/plain": [
       "<Figure size 1000x600 with 1 Axes>"
      ],
      "image/png": "[encoded data removed]"
     },
     "metadata": {},
     "output_type": "display_data"
    }
   ],
   "execution_count": 390
  },
  {
   "metadata": {
    "id": "953cbe5cc9b0f76a"
   },
   "cell_type": "markdown",
   "source": "We reduced our dataset by 13994 (!), which is a lot, however it is still pretty imbalanced as only 14.2% of the players in our dataset have received MVP votes. To fix this problem we can use SMOTE to oversample over minority class. SMOTE stands for Synthetic Minority Oversampling Technique and it does exactly what the name implies - it creates synthetic samples of the minority class. We will do that right now.",
   "id": "953cbe5cc9b0f76a"
  },
  {
   "metadata": {
    "colab": {
     "base_uri": "https://localhost:8080/",
     "height": 428
    },
    "id": "377a42aa0bf2071f",
    "outputId": "92fe4785-b397-475b-c751-63d1c09e94b2",
    "ExecuteTime": {
     "end_time": "2025-04-14T18:39:43.468548Z",
     "start_time": "2025-04-14T18:39:43.395146Z"
    }
   },
   "cell_type": "code",
   "source": [
    "classes = df[\"share\"] > 0\n",
    "\n",
    "# Define dataset with only the features\n",
    "data_df = df.drop([\"player\", \"player_id\", \"seas_id\", \"pos\", \"lg\", \"tm\", \"winner\"], axis = 1)\n",
    "\n",
    "# Define the length of the dataset before SMOTE\n",
    "unsmote_len = len(data_df)\n",
    "\n",
    "# Generate the synthetic data to balance the classes\n",
    "smote = SMOTE(sampling_strategy = 1, random_state=0)\n",
    "data_df, classes = smote.fit_resample(data_df, classes)\n",
    "\n",
    "# Calculate counts for each class\n",
    "vote_yes = (data_df[\"share\"] > 0).sum()\n",
    "vote_no = (data_df[\"share\"] <= 0).sum()\n",
    "\n",
    "# Create the pie chart using the counts\n",
    "plt.figure(figsize=(10,6))\n",
    "plt.pie([vote_no, vote_yes], labels=[\"No MVP Votes\", \"MVP Votes\"], autopct='%1.1f%%')\n",
    "plt.axis(\"equal\")\n",
    "plt.title(\"Players with no MVP votes vs Players with MVP votes\")\n",
    "plt.show()"
   ],
   "id": "377a42aa0bf2071f",
   "outputs": [
    {
     "data": {
      "text/plain": [
       "<Figure size 1000x600 with 1 Axes>"
      ],
      "image/png": "[encoded data removed]"
     },
     "metadata": {},
     "output_type": "display_data"
    }
   ],
   "execution_count": 391
  },
  {
   "metadata": {
    "id": "28a8680288b798c6"
   },
   "cell_type": "markdown",
   "source": [
    "We've oversampled our minority sample, but there's an issue we need to address. Our synthetic data doesn't correspond to any actual player or season, which complicates determining the true MVP. With our synthetic data potentially outperforming the actual MVP of a given year, it's crucial to differentiate between the two. Since the SMOTE function appends synthetic data to the end of our dataset, we can use this fact to label the data points accordingly as either synthetic or authentic."
   ],
   "id": "28a8680288b798c6"
  },
  {
   "cell_type": "code",
   "source": [
    "# Adding the \"is_smote\" column to the dataset\n",
    "data_df[\"is_smote\"] = data_df.index >= unsmote_len\n",
    "labeled_df = data_df.merge(df, how = \"left\")"
   ],
   "metadata": {
    "id": "PAqZ0y0rnaY9",
    "ExecuteTime": {
     "end_time": "2025-04-14T18:39:43.588927Z",
     "start_time": "2025-04-14T18:39:43.564145Z"
    }
   },
   "id": "PAqZ0y0rnaY9",
   "outputs": [],
   "execution_count": 392
  },
  {
   "metadata": {
    "id": "4cda6d698072bb0c"
   },
   "cell_type": "markdown",
   "source": [
    "Finally, after all that work we have a balanced dataset. However, we are far from done. Our next step will be feature selection."
   ],
   "id": "4cda6d698072bb0c"
  },
  {
   "metadata": {
    "id": "baa63c5183cbdb78"
   },
   "cell_type": "markdown",
   "source": [
    "# Feature Selection\n",
    "One of the most important things when feeding the data into the models is to make sure we are not putting in just noise, but actual meaningful data. Not all stats are equally valued when predicting the MVP - points per game tend to be more valued than assists per game in an MVP race.\n",
    "\n",
    "It's a common misconception that accumulating more data will inherently boost model performance. However, this is only true if the additional data is relevant and meaningful to the task at hand. For example, tracking the amount of water consumed per game might not enhance your model's predictions. Instead, it's essential to focus on identifying and retaining only those features that truly contribute to the outcome. This targeted approach is known as feature selection.\n",
    "\n",
    "While many approaches exist for this task, I'm opting for the Boruta method in this project. This statistically driven technique identifies which features are truly significant, ensuring that only the most impactful attributes are considered during feature selection."
   ],
   "id": "baa63c5183cbdb78"
  },
  {
   "cell_type": "code",
   "source": [
    "# from boruta import BorutaPy\n",
    "# from sklearn.ensemble import RandomForestRegressor\n",
    "# from sklearn.ensemble import RandomForestClassifier\n",
    "# import numpy as np\n",
    "#\n",
    "# rfr = RandomForestRegressor(max_depth = 5, n_jobs=-1, n_estimators=500, oob_score=True, random_state=42)\n",
    "# trans = BorutaPy(rfr, n_estimators = \"auto\", random_state=42, verbose=2)\n",
    "# selector = trans.fit(data_df.drop([\"share\", \"season\", \"is_smote\"],axis= 1).to_numpy(),\n",
    "#                      data_df[\"share\"].to_numpy())"
   ],
   "metadata": {
    "id": "-s76P5cjZ0SI",
    "ExecuteTime": {
     "end_time": "2025-04-14T18:39:43.683746Z",
     "start_time": "2025-04-14T18:39:43.681321Z"
    }
   },
   "id": "-s76P5cjZ0SI",
   "outputs": [],
   "execution_count": 393
  },
  {
   "cell_type": "code",
   "source": "# columns = data_df.drop([\"share\", \"season\", \"is_smote\"],axis= 1).columns[selector.ranking_ <= 2]",
   "metadata": {
    "id": "VoTcdKfXaUZi",
    "ExecuteTime": {
     "end_time": "2025-04-14T18:39:43.777294Z",
     "start_time": "2025-04-14T18:39:43.775321Z"
    }
   },
   "id": "VoTcdKfXaUZi",
   "outputs": [],
   "execution_count": 394
  },
  {
   "metadata": {},
   "cell_type": "markdown",
   "source": "(!) To speed up the process of running this notebook use these columns instead of using the Boruta Method.",
   "id": "7c168f4f4ef27ba7"
  },
  {
   "cell_type": "code",
   "source": [
    "columns = [\n",
    "    'age', 'experience', 'gs', 'mp_per_game', 'fga_per_game', 'fg_percent',\n",
    "    'x3pa_per_game', 'x3p_percent', 'x2pa_per_game', 'x2p_percent',\n",
    "    'fta_per_game', 'ft_percent', 'trb_per_game', 'ast_per_game',\n",
    "    'stl_per_game', 'tov_per_game', 'pf_per_game', 'pts_per_game', 'per',\n",
    "    'ts_percent', 'orb_percent', 'drb_percent', 'ast_percent',\n",
    "    'stl_percent', 'blk_percent', 'tov_percent', 'usg_percent', 'ows',\n",
    "    'dws', 'obpm', 'dbpm', 'vorp', 'win_percent'\n",
    "]"
   ],
   "metadata": {
    "id": "TV-7OmkwlJBb",
    "ExecuteTime": {
     "end_time": "2025-04-14T18:39:43.932547Z",
     "start_time": "2025-04-14T18:39:43.929917Z"
    }
   },
   "id": "TV-7OmkwlJBb",
   "outputs": [],
   "execution_count": 395
  },
  {
   "cell_type": "markdown",
   "source": [
    "From the Boruta method we know that these features are the most important in predicting the NBA MVP. But let's look at the columns that were excluded from this list."
   ],
   "metadata": {
    "id": "hUBwW2ATnan5"
   },
   "id": "hUBwW2ATnan5"
  },
  {
   "cell_type": "code",
   "source": [
    "set(df.columns) - set(columns)"
   ],
   "metadata": {
    "colab": {
     "base_uri": "https://localhost:8080/"
    },
    "id": "dnG7Ap2TnM67",
    "outputId": "cb03a054-0cfd-46e6-d92e-a76a1b08667b",
    "ExecuteTime": {
     "end_time": "2025-04-14T18:39:43.941419Z",
     "start_time": "2025-04-14T18:39:43.938370Z"
    }
   },
   "id": "dnG7Ap2TnM67",
   "outputs": [
    {
     "data": {
      "text/plain": [
       "{'blk_per_game',\n",
       " 'g',\n",
       " 'lg',\n",
       " 'player',\n",
       " 'player_id',\n",
       " 'pos',\n",
       " 'seas_id',\n",
       " 'season',\n",
       " 'share',\n",
       " 'tm',\n",
       " 'winner'}"
      ]
     },
     "execution_count": 396,
     "metadata": {},
     "output_type": "execute_result"
    }
   ],
   "execution_count": 396
  },
  {
   "cell_type": "markdown",
   "source": [
    "As we can see the columns that were removed were mostly the informational columns like player, position, season/season id etc. But from the actual statistic it removed games played and blocks per game. Both of them make sense because although you should play most of the games to be considered for the MVP, the total number of them doesn't matter. As for the blocks, they are more considered in the Defensive Player of the Year award, with the MVP tending to be more offense dominant.\n",
    "\n",
    "Having our features, we can move onto the next step, which is Data Preprocessing."
   ],
   "metadata": {
    "id": "yLgKhgUZnzT1"
   },
   "id": "yLgKhgUZnzT1"
  },
  {
   "cell_type": "markdown",
   "source": [
    "### Data Preprocessing\n",
    "Last thing before we feed our data into the models is to split it into the training and test datasets. Also we need to apply the same filters as before to our test set."
   ],
   "metadata": {
    "id": "9vFjL86EovzK"
   },
   "id": "9vFjL86EovzK"
  },
  {
   "cell_type": "code",
   "source": [
    "# Shuffling the data\n",
    "model_df = labeled_df.sample(frac=1).reset_index(drop = True)\n",
    "\n",
    "# Train Data\n",
    "train_info = model_df[['seas_id', \"season\", 'player_id', \"player\", \"pos\", \"lg\", \"tm\", \"share\",  \"winner\", \"is_smote\"]]\n",
    "train_x = model_df[columns]\n",
    "train_y = model_df[[\"share\"]]\n",
    "\n",
    "# Test Data\n",
    "test_info = test[['seas_id', \"season\", 'player_id', \"player\", \"pos\", \"lg\", \"tm\", \"share\",  \"winner\"]]\n",
    "test_x = test[columns]\n",
    "test_y = test[[\"share\"]]"
   ],
   "metadata": {
    "id": "hK27cU82oMgI",
    "ExecuteTime": {
     "end_time": "2025-04-14T18:39:44.030373Z",
     "start_time": "2025-04-14T18:39:44.022183Z"
    }
   },
   "id": "hK27cU82oMgI",
   "outputs": [],
   "execution_count": 397
  },
  {
   "cell_type": "markdown",
   "source": [
    "### Random Forest Regressor\n",
    "A popular method for creating good regression models is by using Random Forest Models.\n",
    "Random Forest Models are a very popular method for making good regression models.\n",
    "\n",
    "However, they can be give biased results if the data isn't balanced. That's why we had to balance our data before training our models."
   ],
   "metadata": {
    "id": "fMZVxhfBwmGo"
   },
   "id": "fMZVxhfBwmGo"
  },
  {
   "cell_type": "code",
   "source": [
    "from sklearn.ensemble import RandomForestRegressor\n",
    "\n",
    "# Defining the validation scores\n",
    "validation_scores = {\"season\" : [], \"mae\" : [], \"was_mvp\" : [], \"was_top_two\" : [], \"was_top_three\":[], \"info\" : []}\n",
    "\n",
    "# Looping through the seasons\n",
    "seasons = train_info.season.unique()\n",
    "for season in seasons:\n",
    "  print(\"\\n\")\n",
    "  print(f\"Season: {season}\")\n",
    "\n",
    "# Splitting the data into training and validation sets\n",
    "  train_fold = train_x[train_info[\"season\"] != season]\n",
    "  train_tar_fold= train_y[train_info[\"season\"] != season]\n",
    "  val_fold = train_x[(train_info[\"season\"] == season) & (~train_info[\"is_smote\"])]\n",
    "  val_tar_fold = train_y[(train_info[\"season\"] == season) & (~train_info[\"is_smote\"])]\n",
    "  val_info = train_info[(train_info[\"season\"] == season) & (~train_info[\"is_smote\"])]\n",
    "\n",
    "# Fitting the model\n",
    "  regr = RandomForestRegressor(max_depth = 7, random_state=0)\n",
    "  regr.fit(train_fold.to_numpy(), train_tar_fold.to_numpy()[:,0])\n",
    "\n",
    "# Making predictions\n",
    "  val_pred = regr.predict(val_fold)\n",
    "  mae = np.mean(np.absolute(val_pred - val_tar_fold.to_numpy()[:,0]))\n",
    "  print(f\"MAE: {mae}\")\n",
    "\n",
    "    # Get top 2 and top 3 predicted players by sorting prediction values\n",
    "  top_two = val_info.iloc[np.argsort(val_pred)[-2:]]\n",
    "  was_top_two = sum(top_two[\"winner\"]) > 0\n",
    "  top_three = val_info.iloc[np.argsort(val_pred)[-3:]]\n",
    "  was_top_three = sum(top_three[\"winner\"]) > 0\n",
    "  print(\"Predicted top three players in MVP voting with their actual award_share:\")\n",
    "  print(top_three.iloc[::-1])\n",
    "\n",
    "# Get details about the player with highest predicted value\n",
    "  mostVotes = np.argmax(val_pred)\n",
    "  score = np.amax(val_pred)\n",
    "  winner = val_info.iloc[[mostVotes]][\"winner\"].values[0]\n",
    "  player = val_info.iloc[[mostVotes]][\"player\"].values[0]\n",
    "  print(f\"Predicted MVP: {player}\")\n",
    "  print(f\"Predicted Win Share: {score}\")\n",
    "  print(f\"Was MVP correct: {winner}\")\n",
    "\n",
    "# Output results\n",
    "  validation_scores[\"season\"].append(season)\n",
    "  validation_scores[\"mae\"].append(mae)\n",
    "  validation_scores[\"was_mvp\"].append(winner)\n",
    "  validation_scores[\"was_top_two\"].append(was_top_two)\n",
    "  validation_scores[\"was_top_three\"].append(was_top_three)\n",
    "  validation_scores[\"info\"].append(val_info.iloc[[mostVotes]])"
   ],
   "metadata": {
    "colab": {
     "base_uri": "https://localhost:8080/"
    },
    "id": "gF7DKBhTe1dh",
    "outputId": "37ecc670-866f-41e5-9b99-127db8fe4c55",
    "ExecuteTime": {
     "end_time": "2025-04-14T18:46:33.787932Z",
     "start_time": "2025-04-14T18:39:44.193269Z"
    }
   },
   "id": "gF7DKBhTe1dh",
   "outputs": [
    {
     "name": "stdout",
     "output_type": "stream",
     "text": [
      "\n",
      "\n",
      "Season: 2023\n"
     ]
    },
    {
     "name": "stderr",
     "output_type": "stream",
     "text": [
      "/Users/kuba/anaconda3/lib/python3.11/site-packages/sklearn/base.py:457: UserWarning: X has feature names, but RandomForestRegressor was fitted without feature names\n",
      "  warnings.warn(\n"
     ]
    },
    {
     "name": "stdout",
     "output_type": "stream",
     "text": [
      "MAE: 0.014312256925164496\n",
      "Predicted top three players in MVP voting with their actual award_share:\n",
      "      seas_id  season  player_id                 player pos   lg   tm  share  \\\n",
      "5336  30964.0    2023     4352.0           Nikola Jokić   C  NBA  DEN  0.674   \n",
      "557   30765.0    2023     4416.0            Joel Embiid   C  NBA  PHI  0.915   \n",
      "2584  30665.0    2023     4164.0  Giannis Antetokounmpo  PF  NBA  MIL  0.606   \n",
      "\n",
      "     winner  is_smote  \n",
      "5336  False     False  \n",
      "557    True     False  \n",
      "2584  False     False  \n",
      "Predicted MVP: Nikola Jokić\n",
      "Predicted Win Share: 0.7520532318039693\n",
      "Was MVP correct: False\n",
      "\n",
      "\n",
      "Season: 1999\n"
     ]
    },
    {
     "name": "stderr",
     "output_type": "stream",
     "text": [
      "/Users/kuba/anaconda3/lib/python3.11/site-packages/sklearn/base.py:457: UserWarning: X has feature names, but RandomForestRegressor was fitted without feature names\n",
      "  warnings.warn(\n"
     ]
    },
    {
     "name": "stdout",
     "output_type": "stream",
     "text": [
      "MAE: 0.02239571006408643\n",
      "Predicted top three players in MVP voting with their actual award_share:\n",
      "      seas_id  season  player_id            player pos   lg   tm  share  \\\n",
      "4716  16488.0    1999     2252.0       Karl Malone  PF  NBA  UTA  0.701   \n",
      "4492  16638.0    1999     2751.0  Shaquille O'Neal   C  NBA  LAL  0.075   \n",
      "3665  16216.0    1999     2967.0     Allen Iverson  SG  NBA  PHI  0.270   \n",
      "\n",
      "     winner  is_smote  \n",
      "4716   True     False  \n",
      "4492  False     False  \n",
      "3665  False     False  \n",
      "Predicted MVP: Karl Malone\n",
      "Predicted Win Share: 0.46848524592555146\n",
      "Was MVP correct: True\n",
      "\n",
      "\n",
      "Season: 1987\n"
     ]
    },
    {
     "name": "stderr",
     "output_type": "stream",
     "text": [
      "/Users/kuba/anaconda3/lib/python3.11/site-packages/sklearn/base.py:457: UserWarning: X has feature names, but RandomForestRegressor was fitted without feature names\n",
      "  warnings.warn(\n"
     ]
    },
    {
     "name": "stdout",
     "output_type": "stream",
     "text": [
      "MAE: 0.016275450655519875\n",
      "Predicted top three players in MVP voting with their actual award_share:\n",
      "      seas_id  season  player_id          player pos   lg   tm  share winner  \\\n",
      "6431  10791.0    1987     1878.0   Magic Johnson  PG  NBA  LAL  0.940   True   \n",
      "3109  10783.0    1987     1875.0      Larry Bird  SF  NBA  BOS  0.347  False   \n",
      "3823  10813.0    1987     2193.0  Michael Jordan  SG  NBA  CHI  0.576  False   \n",
      "\n",
      "      is_smote  \n",
      "6431     False  \n",
      "3109     False  \n",
      "3823     False  \n",
      "Predicted MVP: Magic Johnson\n",
      "Predicted Win Share: 0.7547064934289667\n",
      "Was MVP correct: True\n",
      "\n",
      "\n",
      "Season: 2005\n"
     ]
    },
    {
     "name": "stderr",
     "output_type": "stream",
     "text": [
      "/Users/kuba/anaconda3/lib/python3.11/site-packages/sklearn/base.py:457: UserWarning: X has feature names, but RandomForestRegressor was fitted without feature names\n",
      "  warnings.warn(\n"
     ]
    },
    {
     "name": "stdout",
     "output_type": "stream",
     "text": [
      "MAE: 0.02245971244760133\n",
      "Predicted top three players in MVP voting with their actual award_share:\n",
      "      seas_id  season  player_id            player pos   lg   tm  share  \\\n",
      "1969  19832.0    2005     3028.0        Steve Nash  PG  NBA  PHO  0.839   \n",
      "7872  19815.0    2005     2751.0  Shaquille O'Neal   C  NBA  MIA  0.813   \n",
      "6071  19632.0    2005     2936.0     Kevin Garnett  PF  NBA  MIN  0.012   \n",
      "\n",
      "     winner  is_smote  \n",
      "1969   True     False  \n",
      "7872  False     False  \n",
      "6071  False     False  \n",
      "Predicted MVP: Steve Nash\n",
      "Predicted Win Share: 0.5999083363241179\n",
      "Was MVP correct: True\n",
      "\n",
      "\n",
      "Season: 1991\n"
     ]
    },
    {
     "name": "stderr",
     "output_type": "stream",
     "text": [
      "/Users/kuba/anaconda3/lib/python3.11/site-packages/sklearn/base.py:457: UserWarning: X has feature names, but RandomForestRegressor was fitted without feature names\n",
      "  warnings.warn(\n"
     ]
    },
    {
     "name": "stdout",
     "output_type": "stream",
     "text": [
      "MAE: 0.011110003220613507\n",
      "Predicted top three players in MVP voting with their actual award_share:\n",
      "      seas_id  season  player_id          player pos   lg   tm  share winner  \\\n",
      "6614  12543.0    1991     2193.0  Michael Jordan  SG  NBA  CHI  0.928   True   \n",
      "2081  12359.0    1991     2494.0  David Robinson   C  NBA  SAS  0.496  False   \n",
      "6642  12522.0    1991     1878.0   Magic Johnson  PG  NBA  LAL  0.518  False   \n",
      "\n",
      "      is_smote  \n",
      "6614     False  \n",
      "2081     False  \n",
      "6642     False  \n",
      "Predicted MVP: Michael Jordan\n",
      "Predicted Win Share: 0.9004452817954496\n",
      "Was MVP correct: True\n",
      "\n",
      "\n",
      "Season: 1993\n"
     ]
    },
    {
     "name": "stderr",
     "output_type": "stream",
     "text": [
      "/Users/kuba/anaconda3/lib/python3.11/site-packages/sklearn/base.py:457: UserWarning: X has feature names, but RandomForestRegressor was fitted without feature names\n",
      "  warnings.warn(\n"
     ]
    },
    {
     "name": "stdout",
     "output_type": "stream",
     "text": [
      "MAE: 0.013951407902361681\n",
      "Predicted top three players in MVP voting with their actual award_share:\n",
      "      seas_id  season  player_id           player pos   lg   tm  share winner  \\\n",
      "3535  13459.0    1993     2193.0   Michael Jordan  SG  NBA  CHI  0.577  False   \n",
      "3527  13326.0    1993     2176.0  Hakeem Olajuwon   C  NBA  HOU  0.660  False   \n",
      "4672  13223.0    1993     2162.0  Charles Barkley  PF  NBA  PHO  0.852   True   \n",
      "\n",
      "      is_smote  \n",
      "3535     False  \n",
      "3527     False  \n",
      "4672     False  \n",
      "Predicted MVP: Michael Jordan\n",
      "Predicted Win Share: 0.6192199765091104\n",
      "Was MVP correct: False\n",
      "\n",
      "\n",
      "Season: 1982\n"
     ]
    },
    {
     "name": "stderr",
     "output_type": "stream",
     "text": [
      "/Users/kuba/anaconda3/lib/python3.11/site-packages/sklearn/base.py:457: UserWarning: X has feature names, but RandomForestRegressor was fitted without feature names\n",
      "  warnings.warn(\n"
     ]
    },
    {
     "name": "stdout",
     "output_type": "stream",
     "text": [
      "MAE: 0.022075759194203022\n",
      "Predicted top three players in MVP voting with their actual award_share:\n",
      "      seas_id  season  player_id         player pos   lg   tm  share winner  \\\n",
      "2020   8896.0    1982     1381.0  Julius Erving  SF  NBA  PHI  0.294  False   \n",
      "7796   8939.0    1982     1878.0  Magic Johnson  SG  NBA  LAL  0.097  False   \n",
      "1635   8922.0    1982     1875.0     Larry Bird  PF  NBA  BOS  0.588  False   \n",
      "\n",
      "      is_smote  \n",
      "2020     False  \n",
      "7796     False  \n",
      "1635     False  \n",
      "Predicted MVP: Julius Erving\n",
      "Predicted Win Share: 0.2689126298915848\n",
      "Was MVP correct: False\n",
      "\n",
      "\n",
      "Season: 2017\n"
     ]
    },
    {
     "name": "stderr",
     "output_type": "stream",
     "text": [
      "/Users/kuba/anaconda3/lib/python3.11/site-packages/sklearn/base.py:457: UserWarning: X has feature names, but RandomForestRegressor was fitted without feature names\n",
      "  warnings.warn(\n"
     ]
    },
    {
     "name": "stdout",
     "output_type": "stream",
     "text": [
      "MAE: 0.026343352123868204\n",
      "Predicted top three players in MVP voting with their actual award_share:\n",
      "      seas_id  season  player_id             player pos   lg   tm  share  \\\n",
      "5530  26813.0    2017     3849.0  Russell Westbrook  PG  NBA  OKC  0.879   \n",
      "1174  26640.0    2017     4032.0      Kawhi Leonard  SF  NBA  SAS  0.495   \n",
      "639   26561.0    2017     3880.0       James Harden  PG  NBA  HOU  0.746   \n",
      "\n",
      "     winner  is_smote  \n",
      "5530   True     False  \n",
      "1174  False     False  \n",
      "639   False     False  \n",
      "Predicted MVP: Russell Westbrook\n",
      "Predicted Win Share: 0.581196975049646\n",
      "Was MVP correct: True\n",
      "\n",
      "\n",
      "Season: 1985\n"
     ]
    },
    {
     "name": "stderr",
     "output_type": "stream",
     "text": [
      "/Users/kuba/anaconda3/lib/python3.11/site-packages/sklearn/base.py:457: UserWarning: X has feature names, but RandomForestRegressor was fitted without feature names\n",
      "  warnings.warn(\n"
     ]
    },
    {
     "name": "stdout",
     "output_type": "stream",
     "text": [
      "MAE: 0.009434181424887993\n",
      "Predicted top three players in MVP voting with their actual award_share:\n",
      "      seas_id  season  player_id         player pos   lg   tm  share winner  \\\n",
      "1655  10016.0    1985     1875.0     Larry Bird  SF  NBA  BOS  0.978   True   \n",
      "6383  10036.0    1985     1878.0  Magic Johnson  PG  NBA  LAL  0.338  False   \n",
      "1923  10076.0    1985     1605.0   Moses Malone   C  NBA  PHI  0.279  False   \n",
      "\n",
      "      is_smote  \n",
      "1655     False  \n",
      "6383     False  \n",
      "1923     False  \n",
      "Predicted MVP: Larry Bird\n",
      "Predicted Win Share: 0.9063670484168257\n",
      "Was MVP correct: True\n",
      "\n",
      "\n",
      "Season: 1992\n"
     ]
    },
    {
     "name": "stderr",
     "output_type": "stream",
     "text": [
      "/Users/kuba/anaconda3/lib/python3.11/site-packages/sklearn/base.py:457: UserWarning: X has feature names, but RandomForestRegressor was fitted without feature names\n",
      "  warnings.warn(\n"
     ]
    },
    {
     "name": "stdout",
     "output_type": "stream",
     "text": [
      "MAE: 0.011610632195911\n",
      "Predicted top three players in MVP voting with their actual award_share:\n",
      "      seas_id  season  player_id          player pos   lg   tm  share winner  \\\n",
      "4445  12990.0    1992     2193.0  Michael Jordan  SG  NBA  CHI  0.938   True   \n",
      "2233  12779.0    1992     2110.0   Clyde Drexler  SG  NBA  POR  0.584  False   \n",
      "6976  12921.0    1992     2252.0     Karl Malone  PF  NBA  UTA  0.273  False   \n",
      "\n",
      "      is_smote  \n",
      "4445     False  \n",
      "2233     False  \n",
      "6976     False  \n",
      "Predicted MVP: Michael Jordan\n",
      "Predicted Win Share: 0.8920705542485652\n",
      "Was MVP correct: True\n",
      "\n",
      "\n",
      "Season: 2007\n"
     ]
    },
    {
     "name": "stderr",
     "output_type": "stream",
     "text": [
      "/Users/kuba/anaconda3/lib/python3.11/site-packages/sklearn/base.py:457: UserWarning: X has feature names, but RandomForestRegressor was fitted without feature names\n",
      "  warnings.warn(\n"
     ]
    },
    {
     "name": "stdout",
     "output_type": "stream",
     "text": [
      "MAE: 0.018124074570893295\n",
      "Predicted top three players in MVP voting with their actual award_share:\n",
      "      seas_id  season  player_id         player pos   lg   tm  share winner  \\\n",
      "5020  20603.0    2007     3116.0  Dirk Nowitzki  PF  NBA  DAL  0.882   True   \n",
      "4563  20927.0    2007     3028.0     Steve Nash  PG  NBA  PHO  0.785  False   \n",
      "2643  20760.0    2007     3462.0   LeBron James  SF  NBA  CLE  0.142  False   \n",
      "\n",
      "      is_smote  \n",
      "5020     False  \n",
      "4563     False  \n",
      "2643     False  \n",
      "Predicted MVP: Dirk Nowitzki\n",
      "Predicted Win Share: 0.7808320618837644\n",
      "Was MVP correct: True\n",
      "\n",
      "\n",
      "Season: 1988\n"
     ]
    },
    {
     "name": "stderr",
     "output_type": "stream",
     "text": [
      "/Users/kuba/anaconda3/lib/python3.11/site-packages/sklearn/base.py:457: UserWarning: X has feature names, but RandomForestRegressor was fitted without feature names\n",
      "  warnings.warn(\n"
     ]
    },
    {
     "name": "stdout",
     "output_type": "stream",
     "text": [
      "MAE: 0.014372568642929306\n",
      "Predicted top three players in MVP voting with their actual award_share:\n",
      "      seas_id  season  player_id          player pos   lg   tm  share winner  \\\n",
      "13    11208.0    1988     2193.0  Michael Jordan  SG  NBA  CHI  0.831   True   \n",
      "2644  11169.0    1988     1875.0      Larry Bird  SF  NBA  BOS  0.659  False   \n",
      "256   11181.0    1988     1878.0   Magic Johnson  PG  NBA  LAL  0.635  False   \n",
      "\n",
      "      is_smote  \n",
      "13       False  \n",
      "2644     False  \n",
      "256      False  \n",
      "Predicted MVP: Michael Jordan\n",
      "Predicted Win Share: 0.7507754555641352\n",
      "Was MVP correct: True\n",
      "\n",
      "\n",
      "Season: 1995\n"
     ]
    },
    {
     "name": "stderr",
     "output_type": "stream",
     "text": [
      "/Users/kuba/anaconda3/lib/python3.11/site-packages/sklearn/base.py:457: UserWarning: X has feature names, but RandomForestRegressor was fitted without feature names\n",
      "  warnings.warn(\n"
     ]
    },
    {
     "name": "stdout",
     "output_type": "stream",
     "text": [
      "MAE: 0.011265278622931961\n",
      "Predicted top three players in MVP voting with their actual award_share:\n",
      "      seas_id  season  player_id            player pos   lg   tm  share  \\\n",
      "4434  14193.0    1995     2494.0    David Robinson   C  NBA  SAS  0.858   \n",
      "3357  14468.0    1995     2751.0  Shaquille O'Neal   C  NBA  ORL  0.576   \n",
      "4088  14335.0    1995     2252.0       Karl Malone  PF  NBA  UTA  0.507   \n",
      "\n",
      "     winner  is_smote  \n",
      "4434   True     False  \n",
      "3357  False     False  \n",
      "4088  False     False  \n",
      "Predicted MVP: David Robinson\n",
      "Predicted Win Share: 0.8192880826531586\n",
      "Was MVP correct: True\n",
      "\n",
      "\n",
      "Season: 2006\n"
     ]
    },
    {
     "name": "stderr",
     "output_type": "stream",
     "text": [
      "/Users/kuba/anaconda3/lib/python3.11/site-packages/sklearn/base.py:457: UserWarning: X has feature names, but RandomForestRegressor was fitted without feature names\n",
      "  warnings.warn(\n"
     ]
    },
    {
     "name": "stdout",
     "output_type": "stream",
     "text": [
      "MAE: 0.02575685144783536\n",
      "Predicted top three players in MVP voting with their actual award_share:\n",
      "      seas_id  season  player_id         player pos   lg   tm  share winner  \\\n",
      "1056  20055.0    2006     3116.0  Dirk Nowitzki  PF  NBA  DAL  0.435  False   \n",
      "1084  20210.0    2006     3462.0   LeBron James  SF  NBA  CLE  0.550  False   \n",
      "2174  20200.0    2006     3000.0    Kobe Bryant  SG  NBA  LAL  0.386  False   \n",
      "\n",
      "      is_smote  \n",
      "1056     False  \n",
      "1084     False  \n",
      "2174     False  \n",
      "Predicted MVP: Dirk Nowitzki\n",
      "Predicted Win Share: 0.5280902295860889\n",
      "Was MVP correct: False\n",
      "\n",
      "\n",
      "Season: 2020\n"
     ]
    },
    {
     "name": "stderr",
     "output_type": "stream",
     "text": [
      "/Users/kuba/anaconda3/lib/python3.11/site-packages/sklearn/base.py:457: UserWarning: X has feature names, but RandomForestRegressor was fitted without feature names\n",
      "  warnings.warn(\n"
     ]
    },
    {
     "name": "stdout",
     "output_type": "stream",
     "text": [
      "MAE: 0.014722070500985063\n",
      "Predicted top three players in MVP voting with their actual award_share:\n",
      "      seas_id  season  player_id                 player pos   lg   tm  share  \\\n",
      "4108  28507.0    2020     4164.0  Giannis Antetokounmpo  PF  NBA  MIL  0.952   \n",
      "5360  28697.0    2020     3462.0           LeBron James  PG  NBA  LAL  0.746   \n",
      "3668  28561.0    2020     3880.0           James Harden  SG  NBA  HOU  0.363   \n",
      "\n",
      "     winner  is_smote  \n",
      "4108   True     False  \n",
      "5360  False     False  \n",
      "3668  False     False  \n",
      "Predicted MVP: Giannis Antetokounmpo\n",
      "Predicted Win Share: 0.7371023494974118\n",
      "Was MVP correct: True\n",
      "\n",
      "\n",
      "Season: 1994\n"
     ]
    },
    {
     "name": "stderr",
     "output_type": "stream",
     "text": [
      "/Users/kuba/anaconda3/lib/python3.11/site-packages/sklearn/base.py:457: UserWarning: X has feature names, but RandomForestRegressor was fitted without feature names\n",
      "  warnings.warn(\n"
     ]
    },
    {
     "name": "stdout",
     "output_type": "stream",
     "text": [
      "MAE: 0.013098165363111206\n",
      "Predicted top three players in MVP voting with their actual award_share:\n",
      "      seas_id  season  player_id            player pos   lg   tm  share  \\\n",
      "6498  13717.0    1994     2494.0    David Robinson   C  NBA  SAS  0.723   \n",
      "6019  13792.0    1994     2176.0   Hakeem Olajuwon   C  NBA  HOU  0.880   \n",
      "241   14015.0    1994     2751.0  Shaquille O'Neal   C  NBA  ORL  0.286   \n",
      "\n",
      "     winner  is_smote  \n",
      "6498  False     False  \n",
      "6019   True     False  \n",
      "241   False     False  \n",
      "Predicted MVP: David Robinson\n",
      "Predicted Win Share: 0.7356012514597573\n",
      "Was MVP correct: False\n",
      "\n",
      "\n",
      "Season: 1997\n"
     ]
    },
    {
     "name": "stderr",
     "output_type": "stream",
     "text": [
      "/Users/kuba/anaconda3/lib/python3.11/site-packages/sklearn/base.py:457: UserWarning: X has feature names, but RandomForestRegressor was fitted without feature names\n",
      "  warnings.warn(\n"
     ]
    },
    {
     "name": "stdout",
     "output_type": "stream",
     "text": [
      "MAE: 0.011085865503737982\n",
      "Predicted top three players in MVP voting with their actual award_share:\n",
      "      seas_id  season  player_id          player pos   lg   tm  share winner  \\\n",
      "5249  15398.0    1997     2252.0     Karl Malone  PF  NBA  UTA  0.857   True   \n",
      "5090  15484.0    1997     2193.0  Michael Jordan  SG  NBA  CHI  0.832  False   \n",
      "2523  15316.0    1997     2863.0      Grant Hill  SF  NBA  DET  0.327  False   \n",
      "\n",
      "      is_smote  \n",
      "5249     False  \n",
      "5090     False  \n",
      "2523     False  \n",
      "Predicted MVP: Karl Malone\n",
      "Predicted Win Share: 0.8466990095655337\n",
      "Was MVP correct: True\n",
      "\n",
      "\n",
      "Season: 2015\n"
     ]
    },
    {
     "name": "stderr",
     "output_type": "stream",
     "text": [
      "/Users/kuba/anaconda3/lib/python3.11/site-packages/sklearn/base.py:457: UserWarning: X has feature names, but RandomForestRegressor was fitted without feature names\n",
      "  warnings.warn(\n"
     ]
    },
    {
     "name": "stdout",
     "output_type": "stream",
     "text": [
      "MAE: 0.016356416814668002\n",
      "Predicted top three players in MVP voting with their actual award_share:\n",
      "      seas_id  season  player_id         player pos   lg   tm  share winner  \\\n",
      "7050  25661.0    2015     3903.0  Stephen Curry  PG  NBA  GSW  0.922   True   \n",
      "6252  25369.0    2015     3880.0   James Harden  SG  NBA  HOU  0.720  False   \n",
      "3134  25490.0    2015     3462.0   LeBron James  SF  NBA  CLE  0.425  False   \n",
      "\n",
      "      is_smote  \n",
      "7050     False  \n",
      "6252     False  \n",
      "3134     False  \n",
      "Predicted MVP: Stephen Curry\n",
      "Predicted Win Share: 0.6713078457599272\n",
      "Was MVP correct: True\n",
      "\n",
      "\n",
      "Season: 2014\n"
     ]
    },
    {
     "name": "stderr",
     "output_type": "stream",
     "text": [
      "/Users/kuba/anaconda3/lib/python3.11/site-packages/sklearn/base.py:457: UserWarning: X has feature names, but RandomForestRegressor was fitted without feature names\n",
      "  warnings.warn(\n"
     ]
    },
    {
     "name": "stdout",
     "output_type": "stream",
     "text": [
      "MAE: 0.019708739645722884\n",
      "Predicted top three players in MVP voting with their actual award_share:\n",
      "      seas_id  season  player_id        player pos   lg   tm  share winner  \\\n",
      "531   24828.0    2014     3770.0  Kevin Durant  SF  NBA  OKC  0.986   True   \n",
      "2083  24852.0    2014     3462.0  LeBron James  PF  NBA  MIA  0.713  False   \n",
      "6417  24732.0    2014     3880.0  James Harden  SG  NBA  HOU  0.068  False   \n",
      "\n",
      "      is_smote  \n",
      "531      False  \n",
      "2083     False  \n",
      "6417     False  \n",
      "Predicted MVP: Kevin Durant\n",
      "Predicted Win Share: 0.6689106986156134\n",
      "Was MVP correct: True\n",
      "\n",
      "\n",
      "Season: 2000\n"
     ]
    },
    {
     "name": "stderr",
     "output_type": "stream",
     "text": [
      "/Users/kuba/anaconda3/lib/python3.11/site-packages/sklearn/base.py:457: UserWarning: X has feature names, but RandomForestRegressor was fitted without feature names\n",
      "  warnings.warn(\n"
     ]
    },
    {
     "name": "stdout",
     "output_type": "stream",
     "text": [
      "MAE: 0.011085931662186384\n",
      "Predicted top three players in MVP voting with their actual award_share:\n",
      "      seas_id  season  player_id            player pos   lg   tm  share  \\\n",
      "3197  17142.0    2000     2751.0  Shaquille O'Neal   C  NBA  LAL  0.998   \n",
      "964   16985.0    2000     2252.0       Karl Malone  PF  NBA  UTA  0.258   \n",
      "7659  17164.0    2000     3092.0        Tim Duncan  PF  NBA  SAS  0.205   \n",
      "\n",
      "     winner  is_smote  \n",
      "3197   True     False  \n",
      "964   False     False  \n",
      "7659  False     False  \n",
      "Predicted MVP: Shaquille O'Neal\n",
      "Predicted Win Share: 0.9483901720871458\n",
      "Was MVP correct: True\n",
      "\n",
      "\n",
      "Season: 1986\n"
     ]
    },
    {
     "name": "stderr",
     "output_type": "stream",
     "text": [
      "/Users/kuba/anaconda3/lib/python3.11/site-packages/sklearn/base.py:457: UserWarning: X has feature names, but RandomForestRegressor was fitted without feature names\n",
      "  warnings.warn(\n"
     ]
    },
    {
     "name": "stdout",
     "output_type": "stream",
     "text": [
      "MAE: 0.01577413370153467\n",
      "Predicted top three players in MVP voting with their actual award_share:\n",
      "      seas_id  season  player_id           player pos   lg   tm  share winner  \\\n",
      "6188  10393.0    1986     1875.0       Larry Bird  SF  NBA  BOS  0.981   True   \n",
      "6628  10406.0    1986     1878.0    Magic Johnson  PG  NBA  LAL  0.263  False   \n",
      "1408  10229.0    1986     2162.0  Charles Barkley  PF  NBA  PHI  0.171  False   \n",
      "\n",
      "      is_smote  \n",
      "6188     False  \n",
      "6628     False  \n",
      "1408     False  \n",
      "Predicted MVP: Larry Bird\n",
      "Predicted Win Share: 0.8660098550400724\n",
      "Was MVP correct: True\n",
      "\n",
      "\n",
      "Season: 2001\n"
     ]
    },
    {
     "name": "stderr",
     "output_type": "stream",
     "text": [
      "/Users/kuba/anaconda3/lib/python3.11/site-packages/sklearn/base.py:457: UserWarning: X has feature names, but RandomForestRegressor was fitted without feature names\n",
      "  warnings.warn(\n"
     ]
    },
    {
     "name": "stdout",
     "output_type": "stream",
     "text": [
      "MAE: 0.024354774743600663\n",
      "Predicted top three players in MVP voting with their actual award_share:\n",
      "      seas_id  season  player_id            player pos   lg   tm  share  \\\n",
      "6459  17668.0    2001     2751.0  Shaquille O'Neal   C  NBA  LAL  0.466   \n",
      "1078  17220.0    2001     2967.0     Allen Iverson  SG  NBA  PHI  0.904   \n",
      "550   17494.0    2001     2252.0       Karl Malone  PF  NBA  UTA  0.017   \n",
      "\n",
      "     winner  is_smote  \n",
      "6459  False     False  \n",
      "1078   True     False  \n",
      "550   False     False  \n",
      "Predicted MVP: Shaquille O'Neal\n",
      "Predicted Win Share: 0.6107055718635199\n",
      "Was MVP correct: False\n",
      "\n",
      "\n",
      "Season: 1996\n"
     ]
    },
    {
     "name": "stderr",
     "output_type": "stream",
     "text": [
      "/Users/kuba/anaconda3/lib/python3.11/site-packages/sklearn/base.py:457: UserWarning: X has feature names, but RandomForestRegressor was fitted without feature names\n",
      "  warnings.warn(\n"
     ]
    },
    {
     "name": "stdout",
     "output_type": "stream",
     "text": [
      "MAE: 0.012686959552501018\n",
      "Predicted top three players in MVP voting with their actual award_share:\n",
      "      seas_id  season  player_id             player pos   lg   tm  share  \\\n",
      "7398  14913.0    1996     2193.0     Michael Jordan  SG  NBA  CHI  0.986   \n",
      "2010  14671.0    1996     2494.0     David Robinson   C  NBA  SAS  0.508   \n",
      "2192  14559.0    1996     2767.0  Anfernee Hardaway  PG  NBA  ORL  0.319   \n",
      "\n",
      "     winner  is_smote  \n",
      "7398   True     False  \n",
      "2010  False     False  \n",
      "2192  False     False  \n",
      "Predicted MVP: Michael Jordan\n",
      "Predicted Win Share: 0.913192478613602\n",
      "Was MVP correct: True\n",
      "\n",
      "\n",
      "Season: 2008\n"
     ]
    },
    {
     "name": "stderr",
     "output_type": "stream",
     "text": [
      "/Users/kuba/anaconda3/lib/python3.11/site-packages/sklearn/base.py:457: UserWarning: X has feature names, but RandomForestRegressor was fitted without feature names\n",
      "  warnings.warn(\n"
     ]
    },
    {
     "name": "stdout",
     "output_type": "stream",
     "text": [
      "MAE: 0.022127640008910862\n",
      "Predicted top three players in MVP voting with their actual award_share:\n",
      "      seas_id  season  player_id        player pos   lg   tm  share winner  \\\n",
      "7785  21319.0    2008     3462.0  LeBron James  SF  NBA  CLE  0.348  False   \n",
      "1152  21299.0    2008     3000.0   Kobe Bryant  SG  NBA  LAL  0.873   True   \n",
      "5082  21089.0    2008     3585.0    Chris Paul  PG  NBA  NOH  0.710  False   \n",
      "\n",
      "      is_smote  \n",
      "7785     False  \n",
      "1152     False  \n",
      "5082     False  \n",
      "Predicted MVP: LeBron James\n",
      "Predicted Win Share: 0.41936287239285824\n",
      "Was MVP correct: False\n",
      "\n",
      "\n",
      "Season: 2018\n"
     ]
    },
    {
     "name": "stderr",
     "output_type": "stream",
     "text": [
      "/Users/kuba/anaconda3/lib/python3.11/site-packages/sklearn/base.py:457: UserWarning: X has feature names, but RandomForestRegressor was fitted without feature names\n",
      "  warnings.warn(\n"
     ]
    },
    {
     "name": "stdout",
     "output_type": "stream",
     "text": [
      "MAE: 0.01786284219591903\n",
      "Predicted top three players in MVP voting with their actual award_share:\n",
      "      seas_id  season  player_id        player pos   lg   tm  share winner  \\\n",
      "3605  27202.0    2018     3880.0  James Harden  SG  NBA  HOU  0.955   True   \n",
      "7479  27321.0    2018     3462.0  LeBron James  PF  NBA  CLE  0.731  False   \n",
      "3568  27292.0    2018     3770.0  Kevin Durant  SF  NBA  GSW  0.065  False   \n",
      "\n",
      "      is_smote  \n",
      "3605     False  \n",
      "7479     False  \n",
      "3568     False  \n",
      "Predicted MVP: James Harden\n",
      "Predicted Win Share: 0.8733377168898768\n",
      "Was MVP correct: True\n",
      "\n",
      "\n",
      "Season: 2013\n"
     ]
    },
    {
     "name": "stderr",
     "output_type": "stream",
     "text": [
      "/Users/kuba/anaconda3/lib/python3.11/site-packages/sklearn/base.py:457: UserWarning: X has feature names, but RandomForestRegressor was fitted without feature names\n",
      "  warnings.warn(\n"
     ]
    },
    {
     "name": "stdout",
     "output_type": "stream",
     "text": [
      "MAE: 0.012803145848192136\n",
      "Predicted top three players in MVP voting with their actual award_share:\n",
      "      seas_id  season  player_id        player pos   lg   tm  share winner  \\\n",
      "2397  24274.0    2013     3462.0  LeBron James  PF  NBA  MIA  0.998   True   \n",
      "1703  24241.0    2013     3770.0  Kevin Durant  SF  NBA  OKC  0.632  False   \n",
      "427   23994.0    2013     3585.0    Chris Paul  PG  NBA  LAC  0.239  False   \n",
      "\n",
      "      is_smote  \n",
      "2397     False  \n",
      "1703     False  \n",
      "427      False  \n",
      "Predicted MVP: LeBron James\n",
      "Predicted Win Share: 0.9497070307698665\n",
      "Was MVP correct: True\n",
      "\n",
      "\n",
      "Season: 2016\n"
     ]
    },
    {
     "name": "stderr",
     "output_type": "stream",
     "text": [
      "/Users/kuba/anaconda3/lib/python3.11/site-packages/sklearn/base.py:457: UserWarning: X has feature names, but RandomForestRegressor was fitted without feature names\n",
      "  warnings.warn(\n"
     ]
    },
    {
     "name": "stdout",
     "output_type": "stream",
     "text": [
      "MAE: 0.01662981701637635\n",
      "Predicted top three players in MVP voting with their actual award_share:\n",
      "      seas_id  season  player_id         player pos   lg   tm  share winner  \\\n",
      "7134  26259.0    2016     3903.0  Stephen Curry  PG  NBA  GSW  1.000   True   \n",
      "6043  26070.0    2016     3770.0   Kevin Durant  SF  NBA  OKC  0.112  False   \n",
      "2417  26106.0    2016     3462.0   LeBron James  SF  NBA  CLE  0.482  False   \n",
      "\n",
      "      is_smote  \n",
      "7134     False  \n",
      "6043     False  \n",
      "2417     False  \n",
      "Predicted MVP: Stephen Curry\n",
      "Predicted Win Share: 0.9292117820702329\n",
      "Was MVP correct: True\n",
      "\n",
      "\n",
      "Season: 2002\n"
     ]
    },
    {
     "name": "stderr",
     "output_type": "stream",
     "text": [
      "/Users/kuba/anaconda3/lib/python3.11/site-packages/sklearn/base.py:457: UserWarning: X has feature names, but RandomForestRegressor was fitted without feature names\n",
      "  warnings.warn(\n"
     ]
    },
    {
     "name": "stdout",
     "output_type": "stream",
     "text": [
      "MAE: 0.01976685990793219\n",
      "Predicted top three players in MVP voting with their actual award_share:\n",
      "      seas_id  season  player_id            player pos   lg   tm  share  \\\n",
      "4430  18195.0    2002     3092.0        Tim Duncan  PF  NBA  SAS  0.757   \n",
      "2651  18168.0    2002     2751.0  Shaquille O'Neal   C  NBA  LAL  0.552   \n",
      "739   17973.0    2002     2870.0        Jason Kidd  PG  NBA  NJN  0.712   \n",
      "\n",
      "     winner  is_smote  \n",
      "4430   True     False  \n",
      "2651  False     False  \n",
      "739   False     False  \n",
      "Predicted MVP: Tim Duncan\n",
      "Predicted Win Share: 0.5792074957952503\n",
      "Was MVP correct: True\n",
      "\n",
      "\n",
      "Season: 2011\n"
     ]
    },
    {
     "name": "stderr",
     "output_type": "stream",
     "text": [
      "/Users/kuba/anaconda3/lib/python3.11/site-packages/sklearn/base.py:457: UserWarning: X has feature names, but RandomForestRegressor was fitted without feature names\n",
      "  warnings.warn(\n"
     ]
    },
    {
     "name": "stdout",
     "output_type": "stream",
     "text": [
      "MAE: 0.019510649987280818\n",
      "Predicted top three players in MVP voting with their actual award_share:\n",
      "      seas_id  season  player_id        player pos   lg   tm  share winner  \\\n",
      "3188  23115.0    2011     3462.0  LeBron James  SF  NBA  MIA  0.431  False   \n",
      "7438  22907.0    2011     3812.0  Derrick Rose  PG  NBA  CHI  0.977   True   \n",
      "6928  22920.0    2011     3445.0   Dwyane Wade  SG  NBA  MIA  0.020  False   \n",
      "\n",
      "      is_smote  \n",
      "3188     False  \n",
      "7438     False  \n",
      "6928     False  \n",
      "Predicted MVP: LeBron James\n",
      "Predicted Win Share: 0.5007281824704622\n",
      "Was MVP correct: False\n",
      "\n",
      "\n",
      "Season: 2004\n"
     ]
    },
    {
     "name": "stderr",
     "output_type": "stream",
     "text": [
      "/Users/kuba/anaconda3/lib/python3.11/site-packages/sklearn/base.py:457: UserWarning: X has feature names, but RandomForestRegressor was fitted without feature names\n",
      "  warnings.warn(\n"
     ]
    },
    {
     "name": "stdout",
     "output_type": "stream",
     "text": [
      "MAE: 0.0161853856727079\n",
      "Predicted top three players in MVP voting with their actual award_share:\n",
      "      seas_id  season  player_id            player pos   lg   tm  share  \\\n",
      "5938  19036.0    2004     2936.0     Kevin Garnett  PF  NBA  MIN  0.991   \n",
      "5300  19255.0    2004     3092.0        Tim Duncan  PF  NBA  SAS  0.582   \n",
      "4784  19227.0    2004     2751.0  Shaquille O'Neal   C  NBA  LAL  0.145   \n",
      "\n",
      "     winner  is_smote  \n",
      "5938   True     False  \n",
      "5300  False     False  \n",
      "4784  False     False  \n",
      "Predicted MVP: Kevin Garnett\n",
      "Predicted Win Share: 0.6922388696281696\n",
      "Was MVP correct: True\n",
      "\n",
      "\n",
      "Season: 2019\n"
     ]
    },
    {
     "name": "stderr",
     "output_type": "stream",
     "text": [
      "/Users/kuba/anaconda3/lib/python3.11/site-packages/sklearn/base.py:457: UserWarning: X has feature names, but RandomForestRegressor was fitted without feature names\n",
      "  warnings.warn(\n"
     ]
    },
    {
     "name": "stdout",
     "output_type": "stream",
     "text": [
      "MAE: 0.016377022042182825\n",
      "Predicted top three players in MVP voting with their actual award_share:\n",
      "      seas_id  season  player_id                 player pos   lg   tm  share  \\\n",
      "1230  27873.0    2019     3880.0           James Harden  PG  NBA  HOU  0.768   \n",
      "6763  27807.0    2019     4164.0  Giannis Antetokounmpo  PF  NBA  MIL  0.932   \n",
      "3266  28083.0    2019     4352.0           Nikola Jokić   C  NBA  DEN  0.210   \n",
      "\n",
      "     winner  is_smote  \n",
      "1230  False     False  \n",
      "6763   True     False  \n",
      "3266  False     False  \n",
      "Predicted MVP: James Harden\n",
      "Predicted Win Share: 0.7790932556474719\n",
      "Was MVP correct: False\n",
      "\n",
      "\n",
      "Season: 2012\n"
     ]
    },
    {
     "name": "stderr",
     "output_type": "stream",
     "text": [
      "/Users/kuba/anaconda3/lib/python3.11/site-packages/sklearn/base.py:457: UserWarning: X has feature names, but RandomForestRegressor was fitted without feature names\n",
      "  warnings.warn(\n"
     ]
    },
    {
     "name": "stdout",
     "output_type": "stream",
     "text": [
      "MAE: 0.020321300358078394\n",
      "Predicted top three players in MVP voting with their actual award_share:\n",
      "      seas_id  season  player_id         player pos   lg   tm  share winner  \\\n",
      "7060  23703.0    2012     3462.0   LeBron James  SF  NBA  MIA  0.888   True   \n",
      "785   23676.0    2012     3770.0   Kevin Durant  SF  NBA  OKC  0.735  False   \n",
      "320   23519.0    2012     3520.0  Dwight Howard   C  NBA  ORL  0.011  False   \n",
      "\n",
      "      is_smote  \n",
      "7060     False  \n",
      "785      False  \n",
      "320      False  \n",
      "Predicted MVP: LeBron James\n",
      "Predicted Win Share: 0.7525151114264712\n",
      "Was MVP correct: True\n",
      "\n",
      "\n",
      "Season: 2010\n"
     ]
    },
    {
     "name": "stderr",
     "output_type": "stream",
     "text": [
      "/Users/kuba/anaconda3/lib/python3.11/site-packages/sklearn/base.py:457: UserWarning: X has feature names, but RandomForestRegressor was fitted without feature names\n",
      "  warnings.warn(\n"
     ]
    },
    {
     "name": "stdout",
     "output_type": "stream",
     "text": [
      "MAE: 0.014283102206092697\n",
      "Predicted top three players in MVP voting with their actual award_share:\n",
      "      seas_id  season  player_id         player pos   lg   tm  share winner  \\\n",
      "6738  22499.0    2010     3462.0   LeBron James  SF  NBA  CLE  0.980   True   \n",
      "4351  22474.0    2010     3770.0   Kevin Durant  SF  NBA  OKC  0.495  False   \n",
      "3409  22328.0    2010     3520.0  Dwight Howard   C  NBA  ORL  0.389  False   \n",
      "\n",
      "      is_smote  \n",
      "6738     False  \n",
      "4351     False  \n",
      "3409     False  \n",
      "Predicted MVP: LeBron James\n",
      "Predicted Win Share: 0.9272108574369133\n",
      "Was MVP correct: True\n",
      "\n",
      "\n",
      "Season: 1984\n"
     ]
    },
    {
     "name": "stderr",
     "output_type": "stream",
     "text": [
      "/Users/kuba/anaconda3/lib/python3.11/site-packages/sklearn/base.py:457: UserWarning: X has feature names, but RandomForestRegressor was fitted without feature names\n",
      "  warnings.warn(\n"
     ]
    },
    {
     "name": "stdout",
     "output_type": "stream",
     "text": [
      "MAE: 0.017283293153249314\n",
      "Predicted top three players in MVP voting with their actual award_share:\n",
      "      seas_id  season  player_id         player pos   lg   tm  share winner  \\\n",
      "3224   9663.0    1984     1875.0     Larry Bird  PF  NBA  BOS  0.858   True   \n",
      "6478   9684.0    1984     1878.0  Magic Johnson  PG  NBA  LAL  0.401  False   \n",
      "5959   9639.0    1984     1381.0  Julius Erving  SF  NBA  PHI  0.129  False   \n",
      "\n",
      "      is_smote  \n",
      "3224     False  \n",
      "6478     False  \n",
      "5959     False  \n",
      "Predicted MVP: Larry Bird\n",
      "Predicted Win Share: 0.6812593808023454\n",
      "Was MVP correct: True\n",
      "\n",
      "\n",
      "Season: 1998\n"
     ]
    },
    {
     "name": "stderr",
     "output_type": "stream",
     "text": [
      "/Users/kuba/anaconda3/lib/python3.11/site-packages/sklearn/base.py:457: UserWarning: X has feature names, but RandomForestRegressor was fitted without feature names\n",
      "  warnings.warn(\n"
     ]
    },
    {
     "name": "stdout",
     "output_type": "stream",
     "text": [
      "MAE: 0.015178921178362942\n",
      "Predicted top three players in MVP voting with their actual award_share:\n",
      "      seas_id  season  player_id          player pos   lg   tm  share winner  \\\n",
      "277   15974.0    1998     2252.0     Karl Malone  PF  NBA  UTA  0.726  False   \n",
      "4590  16041.0    1998     2193.0  Michael Jordan  SG  NBA  CHI  0.934   True   \n",
      "7172  15814.0    1998     2494.0  David Robinson   C  NBA  SAS  0.031  False   \n",
      "\n",
      "      is_smote  \n",
      "277      False  \n",
      "4590     False  \n",
      "7172     False  \n",
      "Predicted MVP: Karl Malone\n",
      "Predicted Win Share: 0.5185111244673626\n",
      "Was MVP correct: False\n",
      "\n",
      "\n",
      "Season: 1989\n"
     ]
    },
    {
     "name": "stderr",
     "output_type": "stream",
     "text": [
      "/Users/kuba/anaconda3/lib/python3.11/site-packages/sklearn/base.py:457: UserWarning: X has feature names, but RandomForestRegressor was fitted without feature names\n",
      "  warnings.warn(\n"
     ]
    },
    {
     "name": "stdout",
     "output_type": "stream",
     "text": [
      "MAE: 0.012422546409421368\n",
      "Predicted top three players in MVP voting with their actual award_share:\n",
      "      seas_id  season  player_id          player pos   lg   tm  share winner  \\\n",
      "1862  11647.0    1989     2193.0  Michael Jordan  SG  NBA  CHI  0.704  False   \n",
      "3439  11623.0    1989     1878.0   Magic Johnson  PG  NBA  LAL  0.782   True   \n",
      "5852  11590.0    1989     2252.0     Karl Malone  PF  NBA  UTA  0.426  False   \n",
      "\n",
      "      is_smote  \n",
      "1862     False  \n",
      "3439     False  \n",
      "5852     False  \n",
      "Predicted MVP: Michael Jordan\n",
      "Predicted Win Share: 0.7419078565911411\n",
      "Was MVP correct: False\n",
      "\n",
      "\n",
      "Season: 2021\n"
     ]
    },
    {
     "name": "stderr",
     "output_type": "stream",
     "text": [
      "/Users/kuba/anaconda3/lib/python3.11/site-packages/sklearn/base.py:457: UserWarning: X has feature names, but RandomForestRegressor was fitted without feature names\n",
      "  warnings.warn(\n"
     ]
    },
    {
     "name": "stdout",
     "output_type": "stream",
     "text": [
      "MAE: 0.02337027625987471\n",
      "Predicted top three players in MVP voting with their actual award_share:\n",
      "      seas_id  season  player_id                 player pos   lg   tm  share  \\\n",
      "1754  29456.0    2021     4352.0           Nikola Jokić   C  NBA  DEN  0.961   \n",
      "811   29187.0    2021     4164.0  Giannis Antetokounmpo  PF  NBA  MIL  0.345   \n",
      "7329  29288.0    2021     4416.0            Joel Embiid   C  NBA  PHI  0.580   \n",
      "\n",
      "     winner  is_smote  \n",
      "1754   True     False  \n",
      "811   False     False  \n",
      "7329  False     False  \n",
      "Predicted MVP: Nikola Jokić\n",
      "Predicted Win Share: 0.7832259539465418\n",
      "Was MVP correct: True\n",
      "\n",
      "\n",
      "Season: 1983\n"
     ]
    },
    {
     "name": "stderr",
     "output_type": "stream",
     "text": [
      "/Users/kuba/anaconda3/lib/python3.11/site-packages/sklearn/base.py:457: UserWarning: X has feature names, but RandomForestRegressor was fitted without feature names\n",
      "  warnings.warn(\n"
     ]
    },
    {
     "name": "stdout",
     "output_type": "stream",
     "text": [
      "MAE: 0.01773273416161006\n",
      "Predicted top three players in MVP voting with their actual award_share:\n",
      "      seas_id  season  player_id         player pos   lg   tm  share winner  \\\n",
      "2750   9355.0    1983     1605.0   Moses Malone   C  NBA  PHI  0.960   True   \n",
      "1959   9301.0    1983     1875.0     Larry Bird  PF  NBA  BOS  0.485  False   \n",
      "7275   9321.0    1983     1878.0  Magic Johnson  SG  NBA  LAL  0.406  False   \n",
      "\n",
      "      is_smote  \n",
      "2750     False  \n",
      "1959     False  \n",
      "7275     False  \n",
      "Predicted MVP: Moses Malone\n",
      "Predicted Win Share: 0.5074866317894249\n",
      "Was MVP correct: True\n",
      "\n",
      "\n",
      "Season: 2003\n"
     ]
    },
    {
     "name": "stderr",
     "output_type": "stream",
     "text": [
      "/Users/kuba/anaconda3/lib/python3.11/site-packages/sklearn/base.py:457: UserWarning: X has feature names, but RandomForestRegressor was fitted without feature names\n",
      "  warnings.warn(\n"
     ]
    },
    {
     "name": "stdout",
     "output_type": "stream",
     "text": [
      "MAE: 0.016408669249767735\n",
      "Predicted top three players in MVP voting with their actual award_share:\n",
      "      seas_id  season  player_id         player pos   lg   tm  share winner  \\\n",
      "1406  18687.0    2003     3092.0     Tim Duncan  PF  NBA  SAS  0.808   True   \n",
      "1392  18698.0    2003     3096.0  Tracy McGrady  SG  NBA  ORL  0.359  False   \n",
      "2684  18513.0    2003     2936.0  Kevin Garnett  PF  NBA  MIN  0.732  False   \n",
      "\n",
      "      is_smote  \n",
      "1406     False  \n",
      "1392     False  \n",
      "2684     False  \n",
      "Predicted MVP: Tim Duncan\n",
      "Predicted Win Share: 0.7264976426438409\n",
      "Was MVP correct: True\n",
      "\n",
      "\n",
      "Season: 2022\n"
     ]
    },
    {
     "name": "stderr",
     "output_type": "stream",
     "text": [
      "/Users/kuba/anaconda3/lib/python3.11/site-packages/sklearn/base.py:457: UserWarning: X has feature names, but RandomForestRegressor was fitted without feature names\n",
      "  warnings.warn(\n"
     ]
    },
    {
     "name": "stdout",
     "output_type": "stream",
     "text": [
      "MAE: 0.014496421150548338\n",
      "Predicted top three players in MVP voting with their actual award_share:\n",
      "      seas_id  season  player_id                 player pos   lg   tm  share  \\\n",
      "1398  30247.0    2022     4352.0           Nikola Jokić   C  NBA  DEN  0.875   \n",
      "4665  29918.0    2022     4164.0  Giannis Antetokounmpo  PF  NBA  MIL  0.595   \n",
      "1204  30034.0    2022     4416.0            Joel Embiid   C  NBA  PHI  0.706   \n",
      "\n",
      "     winner  is_smote  \n",
      "1398   True     False  \n",
      "4665  False     False  \n",
      "1204  False     False  \n",
      "Predicted MVP: Nikola Jokić\n",
      "Predicted Win Share: 0.7903497586513366\n",
      "Was MVP correct: True\n",
      "\n",
      "\n",
      "Season: 2009\n"
     ]
    },
    {
     "name": "stderr",
     "output_type": "stream",
     "text": [
      "/Users/kuba/anaconda3/lib/python3.11/site-packages/sklearn/base.py:457: UserWarning: X has feature names, but RandomForestRegressor was fitted without feature names\n",
      "  warnings.warn(\n"
     ]
    },
    {
     "name": "stdout",
     "output_type": "stream",
     "text": [
      "MAE: 0.013230902487868144\n",
      "Predicted top three players in MVP voting with their actual award_share:\n",
      "      seas_id  season  player_id        player pos   lg   tm  share winner  \\\n",
      "304   21908.0    2009     3462.0  LeBron James  SF  NBA  CLE  0.969   True   \n",
      "363   21760.0    2009     3445.0   Dwyane Wade  SG  NBA  MIA  0.562  False   \n",
      "1952  21691.0    2009     3585.0    Chris Paul  PG  NBA  NOH  0.159  False   \n",
      "\n",
      "      is_smote  \n",
      "304      False  \n",
      "363      False  \n",
      "1952     False  \n",
      "Predicted MVP: LeBron James\n",
      "Predicted Win Share: 0.9469285335657451\n",
      "Was MVP correct: True\n",
      "\n",
      "\n",
      "Season: 1990\n",
      "MAE: 0.016567513123310566\n",
      "Predicted top three players in MVP voting with their actual award_share:\n",
      "      seas_id  season  player_id           player pos   lg   tm  share winner  \\\n",
      "6246  12055.0    1990     1878.0    Magic Johnson  PG  NBA  LAL  0.691   True   \n",
      "2294  12079.0    1990     2193.0   Michael Jordan  SG  NBA  CHI  0.613  False   \n",
      "4827  11855.0    1990     2162.0  Charles Barkley  SF  NBA  PHI  0.667  False   \n",
      "\n",
      "      is_smote  \n",
      "6246     False  \n",
      "2294     False  \n",
      "4827     False  \n",
      "Predicted MVP: Magic Johnson\n",
      "Predicted Win Share: 0.778740769546836\n",
      "Was MVP correct: True\n"
     ]
    },
    {
     "name": "stderr",
     "output_type": "stream",
     "text": [
      "/Users/kuba/anaconda3/lib/python3.11/site-packages/sklearn/base.py:457: UserWarning: X has feature names, but RandomForestRegressor was fitted without feature names\n",
      "  warnings.warn(\n"
     ]
    }
   ],
   "execution_count": 398
  },
  {
   "cell_type": "code",
   "source": [
    "# Printing the overall performance of the model\n",
    "print(f\"The Random Forest Model predicted the NBA MVP correctly {round(sum(validation_scores['was_mvp'])/len(seasons), 2)}% of the time\")\n",
    "print(f\"The Random Forest Model predicted the NBA MVP correctly in the top two {round(sum(validation_scores['was_top_two'])/len(seasons), 2)}% of the time\")\n",
    "print(f\"The Random Forest Model predicted the NBA MVP correctly in the top three {round(sum(validation_scores['was_top_three'])/len(seasons), 2)}% of the time\")"
   ],
   "metadata": {
    "id": "m7pRBY7AicVG",
    "colab": {
     "base_uri": "https://localhost:8080/"
    },
    "outputId": "71676f30-32ed-48bb-8710-71d1b9d1daeb",
    "ExecuteTime": {
     "end_time": "2025-04-14T18:46:33.900009Z",
     "start_time": "2025-04-14T18:46:33.897421Z"
    }
   },
   "id": "m7pRBY7AicVG",
   "outputs": [
    {
     "name": "stdout",
     "output_type": "stream",
     "text": [
      "The Random Forest Model predicted the NBA MVP correctly 0.74% of the time\n",
      "The Random Forest Model predicted the NBA MVP correctly in the top two 0.93% of the time\n",
      "The Random Forest Model predicted the NBA MVP correctly in the top three 0.95% of the time\n"
     ]
    }
   ],
   "execution_count": 399
  },
  {
   "cell_type": "markdown",
   "source": [
    "This result is not the best and I think we can definitely improve on that. To get the best results we should test other models and compared which ones performed better."
   ],
   "metadata": {
    "id": "6lbea48fwF1U"
   },
   "id": "6lbea48fwF1U"
  },
  {
   "cell_type": "markdown",
   "source": [
    "### XGBoost Regressor\n",
    "XGBoost Regressor is a widely used method for building regression models. Even though it works great, it can also sometimes give biased results if the data isn’t balanced."
   ],
   "metadata": {
    "id": "OPUcvifKx3WY"
   },
   "id": "OPUcvifKx3WY"
  },
  {
   "cell_type": "code",
   "source": [
    "from xgboost import XGBRegressor\n",
    "\n",
    "# Defining the validation scores\n",
    "validation_scores = {\"season\" : [], \"mae\" : [], \"was_mvp\" : [], \"was_top_two\" : [], \"was_top_three\":[], \"info\" : []}\n",
    "\n",
    "# Looping through the seasons\n",
    "seasons = train_info.season.unique()\n",
    "for season in seasons:\n",
    "  print(\"\\n\")\n",
    "  print(f\"Season: {season}\")\n",
    "\n",
    "# Splitting the data into training and validation sets\n",
    "  train_fold = train_x[train_info[\"season\"] != season]\n",
    "  train_tar_fold= train_y[train_info[\"season\"] != season]\n",
    "  val_fold = train_x[(train_info[\"season\"] == season) & (~train_info[\"is_smote\"])]\n",
    "  val_tar_fold = train_y[(train_info[\"season\"] == season) & (~train_info[\"is_smote\"])]\n",
    "  val_info = train_info[(train_info[\"season\"] == season) & (~train_info[\"is_smote\"])]\n",
    "\n",
    "# Fitting the model\n",
    "  regr = XGBRegressor(objective='reg:squarederror', max_depth = 6, random_state=0)\n",
    "  regr.fit(train_fold, train_tar_fold)\n",
    "\n",
    "# Making predictions\n",
    "  val_pred = regr.predict(val_fold)\n",
    "  mae = np.mean(np.absolute(val_pred - val_tar_fold.to_numpy()[:,0]))\n",
    "  print(f\"MAE: {mae}\")\n",
    "\n",
    "# Get top 2 and top 3 predicted players by sorting prediction values\n",
    "  top_two = val_info.iloc[np.argsort(val_pred)[-2:]]\n",
    "  was_top_two = sum(top_two[\"winner\"]) > 0\n",
    "  top_three = val_info.iloc[np.argsort(val_pred)[-3:]]\n",
    "  was_top_three = sum(top_three[\"winner\"]) > 0\n",
    "  print(\"Predicted top three players in MVP voting with their actual award_share:\")\n",
    "  print(top_three.iloc[::-1])\n",
    "\n",
    "# Get details about the player with highest predicted value\n",
    "  mostVotes = np.argmax(val_pred)\n",
    "  score = np.amax(val_pred)\n",
    "  winner = val_info.iloc[[mostVotes]][\"winner\"].values[0]\n",
    "  player = val_info.iloc[[mostVotes]][\"player\"].values[0]\n",
    "  print(f\"Predicted MVP: {player}\")\n",
    "  print(f\"Predicted Win Share: {score}\")\n",
    "  print(f\"Was MVP correct: {winner}\")\n",
    "\n",
    "# Output results\n",
    "  validation_scores[\"season\"].append(season)\n",
    "  validation_scores[\"mae\"].append(mae)\n",
    "  validation_scores[\"was_mvp\"].append(winner)\n",
    "  validation_scores[\"was_top_two\"].append(was_top_two)\n",
    "  validation_scores[\"was_top_three\"].append(was_top_three)\n",
    "  validation_scores[\"info\"].append(val_info.iloc[[mostVotes]])"
   ],
   "metadata": {
    "id": "HOV1FWzki43E",
    "colab": {
     "base_uri": "https://localhost:8080/"
    },
    "outputId": "4eff78cd-932a-49d6-dbb6-80290d37e55f",
    "ExecuteTime": {
     "end_time": "2025-04-14T18:46:54.040836Z",
     "start_time": "2025-04-14T18:46:33.950307Z"
    }
   },
   "id": "HOV1FWzki43E",
   "outputs": [
    {
     "name": "stdout",
     "output_type": "stream",
     "text": [
      "\n",
      "\n",
      "Season: 2023\n",
      "MAE: 0.010014649046371534\n",
      "Predicted top three players in MVP voting with their actual award_share:\n",
      "      seas_id  season  player_id                 player pos   lg   tm  share  \\\n",
      "557   30765.0    2023     4416.0            Joel Embiid   C  NBA  PHI  0.915   \n",
      "5336  30964.0    2023     4352.0           Nikola Jokić   C  NBA  DEN  0.674   \n",
      "2584  30665.0    2023     4164.0  Giannis Antetokounmpo  PF  NBA  MIL  0.606   \n",
      "\n",
      "     winner  is_smote  \n",
      "557    True     False  \n",
      "5336  False     False  \n",
      "2584  False     False  \n",
      "Predicted MVP: Joel Embiid\n",
      "Predicted Win Share: 0.892946720123291\n",
      "Was MVP correct: True\n",
      "\n",
      "\n",
      "Season: 1999\n",
      "MAE: 0.01675229563554147\n",
      "Predicted top three players in MVP voting with their actual award_share:\n",
      "      seas_id  season  player_id            player pos   lg   tm  share  \\\n",
      "4716  16488.0    1999     2252.0       Karl Malone  PF  NBA  UTA  0.701   \n",
      "666   16667.0    1999     3092.0        Tim Duncan  PF  NBA  SAS  0.627   \n",
      "4492  16638.0    1999     2751.0  Shaquille O'Neal   C  NBA  LAL  0.075   \n",
      "\n",
      "     winner  is_smote  \n",
      "4716   True     False  \n",
      "666   False     False  \n",
      "4492  False     False  \n",
      "Predicted MVP: Karl Malone\n",
      "Predicted Win Share: 0.6796361804008484\n",
      "Was MVP correct: True\n",
      "\n",
      "\n",
      "Season: 1987\n",
      "MAE: 0.014214817114127426\n",
      "Predicted top three players in MVP voting with their actual award_share:\n",
      "      seas_id  season  player_id          player pos   lg   tm  share winner  \\\n",
      "6431  10791.0    1987     1878.0   Magic Johnson  PG  NBA  LAL  0.940   True   \n",
      "3823  10813.0    1987     2193.0  Michael Jordan  SG  NBA  CHI  0.576  False   \n",
      "3109  10783.0    1987     1875.0      Larry Bird  SF  NBA  BOS  0.347  False   \n",
      "\n",
      "      is_smote  \n",
      "6431     False  \n",
      "3823     False  \n",
      "3109     False  \n",
      "Predicted MVP: Magic Johnson\n",
      "Predicted Win Share: 0.7778335809707642\n",
      "Was MVP correct: True\n",
      "\n",
      "\n",
      "Season: 2005\n",
      "MAE: 0.0110256330282798\n",
      "Predicted top three players in MVP voting with their actual award_share:\n",
      "      seas_id  season  player_id            player pos   lg   tm  share  \\\n",
      "1969  19832.0    2005     3028.0        Steve Nash  PG  NBA  PHO  0.839   \n",
      "7872  19815.0    2005     2751.0  Shaquille O'Neal   C  NBA  MIA  0.813   \n",
      "6071  19632.0    2005     2936.0     Kevin Garnett  PF  NBA  MIN  0.012   \n",
      "\n",
      "     winner  is_smote  \n",
      "1969   True     False  \n",
      "7872  False     False  \n",
      "6071  False     False  \n",
      "Predicted MVP: Steve Nash\n",
      "Predicted Win Share: 0.7889896631240845\n",
      "Was MVP correct: True\n",
      "\n",
      "\n",
      "Season: 1991\n",
      "MAE: 0.008811464088243697\n",
      "Predicted top three players in MVP voting with their actual award_share:\n",
      "      seas_id  season  player_id          player pos   lg   tm  share winner  \\\n",
      "6614  12543.0    1991     2193.0  Michael Jordan  SG  NBA  CHI  0.928   True   \n",
      "2081  12359.0    1991     2494.0  David Robinson   C  NBA  SAS  0.496  False   \n",
      "6642  12522.0    1991     1878.0   Magic Johnson  PG  NBA  LAL  0.518  False   \n",
      "\n",
      "      is_smote  \n",
      "6614     False  \n",
      "2081     False  \n",
      "6642     False  \n",
      "Predicted MVP: Michael Jordan\n",
      "Predicted Win Share: 0.9375433921813965\n",
      "Was MVP correct: True\n",
      "\n",
      "\n",
      "Season: 1993\n",
      "MAE: 0.008784433191687193\n",
      "Predicted top three players in MVP voting with their actual award_share:\n",
      "      seas_id  season  player_id           player pos   lg   tm  share winner  \\\n",
      "3535  13459.0    1993     2193.0   Michael Jordan  SG  NBA  CHI  0.577  False   \n",
      "3527  13326.0    1993     2176.0  Hakeem Olajuwon   C  NBA  HOU  0.660  False   \n",
      "4672  13223.0    1993     2162.0  Charles Barkley  PF  NBA  PHO  0.852   True   \n",
      "\n",
      "      is_smote  \n",
      "3535     False  \n",
      "3527     False  \n",
      "4672     False  \n",
      "Predicted MVP: Michael Jordan\n",
      "Predicted Win Share: 0.6231962442398071\n",
      "Was MVP correct: False\n",
      "\n",
      "\n",
      "Season: 1982\n",
      "MAE: 0.02782566281906031\n",
      "Predicted top three players in MVP voting with their actual award_share:\n",
      "      seas_id  season  player_id         player pos   lg   tm  share winner  \\\n",
      "7796   8939.0    1982     1878.0  Magic Johnson  SG  NBA  LAL  0.097  False   \n",
      "2020   8896.0    1982     1381.0  Julius Erving  SF  NBA  PHI  0.294  False   \n",
      "1809   8978.0    1982     1605.0   Moses Malone   C  NBA  HOU  0.735   True   \n",
      "\n",
      "      is_smote  \n",
      "7796     False  \n",
      "2020     False  \n",
      "1809     False  \n",
      "Predicted MVP: Magic Johnson\n",
      "Predicted Win Share: 0.3893124461174011\n",
      "Was MVP correct: False\n",
      "\n",
      "\n",
      "Season: 2017\n",
      "MAE: 0.018078709779438946\n",
      "Predicted top three players in MVP voting with their actual award_share:\n",
      "      seas_id  season  player_id             player pos   lg   tm  share  \\\n",
      "5530  26813.0    2017     3849.0  Russell Westbrook  PG  NBA  OKC  0.879   \n",
      "1174  26640.0    2017     4032.0      Kawhi Leonard  SF  NBA  SAS  0.495   \n",
      "639   26561.0    2017     3880.0       James Harden  PG  NBA  HOU  0.746   \n",
      "\n",
      "     winner  is_smote  \n",
      "5530   True     False  \n",
      "1174  False     False  \n",
      "639   False     False  \n",
      "Predicted MVP: Russell Westbrook\n",
      "Predicted Win Share: 0.6381566524505615\n",
      "Was MVP correct: True\n",
      "\n",
      "\n",
      "Season: 1985\n",
      "MAE: 0.008763607339009003\n",
      "Predicted top three players in MVP voting with their actual award_share:\n",
      "      seas_id  season  player_id         player pos   lg   tm  share winner  \\\n",
      "1655  10016.0    1985     1875.0     Larry Bird  SF  NBA  BOS  0.978   True   \n",
      "6383  10036.0    1985     1878.0  Magic Johnson  PG  NBA  LAL  0.338  False   \n",
      "1923  10076.0    1985     1605.0   Moses Malone   C  NBA  PHI  0.279  False   \n",
      "\n",
      "      is_smote  \n",
      "1655     False  \n",
      "6383     False  \n",
      "1923     False  \n",
      "Predicted MVP: Larry Bird\n",
      "Predicted Win Share: 0.9699068665504456\n",
      "Was MVP correct: True\n",
      "\n",
      "\n",
      "Season: 1992\n",
      "MAE: 0.011254132939505923\n",
      "Predicted top three players in MVP voting with their actual award_share:\n",
      "      seas_id  season  player_id          player pos   lg   tm  share winner  \\\n",
      "4445  12990.0    1992     2193.0  Michael Jordan  SG  NBA  CHI  0.938   True   \n",
      "438   12802.0    1992     2494.0  David Robinson   C  NBA  SAS  0.351  False   \n",
      "2233  12779.0    1992     2110.0   Clyde Drexler  SG  NBA  POR  0.584  False   \n",
      "\n",
      "      is_smote  \n",
      "4445     False  \n",
      "438      False  \n",
      "2233     False  \n",
      "Predicted MVP: Michael Jordan\n",
      "Predicted Win Share: 0.9023614525794983\n",
      "Was MVP correct: True\n",
      "\n",
      "\n",
      "Season: 2007\n",
      "MAE: 0.01163357575239206\n",
      "Predicted top three players in MVP voting with their actual award_share:\n",
      "      seas_id  season  player_id         player pos   lg   tm  share winner  \\\n",
      "5020  20603.0    2007     3116.0  Dirk Nowitzki  PF  NBA  DAL  0.882   True   \n",
      "4563  20927.0    2007     3028.0     Steve Nash  PG  NBA  PHO  0.785  False   \n",
      "2643  20760.0    2007     3462.0   LeBron James  SF  NBA  CLE  0.142  False   \n",
      "\n",
      "      is_smote  \n",
      "5020     False  \n",
      "4563     False  \n",
      "2643     False  \n",
      "Predicted MVP: Dirk Nowitzki\n",
      "Predicted Win Share: 0.8420723676681519\n",
      "Was MVP correct: True\n",
      "\n",
      "\n",
      "Season: 1988\n",
      "MAE: 0.012867621847412096\n",
      "Predicted top three players in MVP voting with their actual award_share:\n",
      "      seas_id  season  player_id          player pos   lg   tm  share winner  \\\n",
      "13    11208.0    1988     2193.0  Michael Jordan  SG  NBA  CHI  0.831   True   \n",
      "2644  11169.0    1988     1875.0      Larry Bird  SF  NBA  BOS  0.659  False   \n",
      "256   11181.0    1988     1878.0   Magic Johnson  PG  NBA  LAL  0.635  False   \n",
      "\n",
      "      is_smote  \n",
      "13       False  \n",
      "2644     False  \n",
      "256      False  \n",
      "Predicted MVP: Michael Jordan\n",
      "Predicted Win Share: 0.8003947138786316\n",
      "Was MVP correct: True\n",
      "\n",
      "\n",
      "Season: 1995\n",
      "MAE: 0.011298297223734268\n",
      "Predicted top three players in MVP voting with their actual award_share:\n",
      "      seas_id  season  player_id            player pos   lg   tm  share  \\\n",
      "4434  14193.0    1995     2494.0    David Robinson   C  NBA  SAS  0.858   \n",
      "3357  14468.0    1995     2751.0  Shaquille O'Neal   C  NBA  ORL  0.576   \n",
      "4088  14335.0    1995     2252.0       Karl Malone  PF  NBA  UTA  0.507   \n",
      "\n",
      "     winner  is_smote  \n",
      "4434   True     False  \n",
      "3357  False     False  \n",
      "4088  False     False  \n",
      "Predicted MVP: David Robinson\n",
      "Predicted Win Share: 0.7933668494224548\n",
      "Was MVP correct: True\n",
      "\n",
      "\n",
      "Season: 2006\n",
      "MAE: 0.016010265733387354\n",
      "Predicted top three players in MVP voting with their actual award_share:\n",
      "      seas_id  season  player_id         player pos   lg   tm  share winner  \\\n",
      "6828  20401.0    2006     3028.0     Steve Nash  PG  NBA  PHO  0.739   True   \n",
      "1084  20210.0    2006     3462.0   LeBron James  SF  NBA  CLE  0.550  False   \n",
      "1056  20055.0    2006     3116.0  Dirk Nowitzki  PF  NBA  DAL  0.435  False   \n",
      "\n",
      "      is_smote  \n",
      "6828     False  \n",
      "1084     False  \n",
      "1056     False  \n",
      "Predicted MVP: Steve Nash\n",
      "Predicted Win Share: 0.726795494556427\n",
      "Was MVP correct: True\n",
      "\n",
      "\n",
      "Season: 2020\n",
      "MAE: 0.011243820575604007\n",
      "Predicted top three players in MVP voting with their actual award_share:\n",
      "      seas_id  season  player_id                 player pos   lg   tm  share  \\\n",
      "4108  28507.0    2020     4164.0  Giannis Antetokounmpo  PF  NBA  MIL  0.952   \n",
      "5360  28697.0    2020     3462.0           LeBron James  PG  NBA  LAL  0.746   \n",
      "3668  28561.0    2020     3880.0           James Harden  SG  NBA  HOU  0.363   \n",
      "\n",
      "     winner  is_smote  \n",
      "4108   True     False  \n",
      "5360  False     False  \n",
      "3668  False     False  \n",
      "Predicted MVP: Giannis Antetokounmpo\n",
      "Predicted Win Share: 0.9118340611457825\n",
      "Was MVP correct: True\n",
      "\n",
      "\n",
      "Season: 1994\n",
      "MAE: 0.010712692457555495\n",
      "Predicted top three players in MVP voting with their actual award_share:\n",
      "      seas_id  season  player_id           player pos   lg   tm  share winner  \\\n",
      "6498  13717.0    1994     2494.0   David Robinson   C  NBA  SAS  0.723  False   \n",
      "6019  13792.0    1994     2176.0  Hakeem Olajuwon   C  NBA  HOU  0.880   True   \n",
      "6941  13956.0    1994     2264.0    Patrick Ewing   C  NBA  NYK  0.252  False   \n",
      "\n",
      "      is_smote  \n",
      "6498     False  \n",
      "6019     False  \n",
      "6941     False  \n",
      "Predicted MVP: David Robinson\n",
      "Predicted Win Share: 0.7437472343444824\n",
      "Was MVP correct: False\n",
      "\n",
      "\n",
      "Season: 1997\n",
      "MAE: 0.012829931049931027\n",
      "Predicted top three players in MVP voting with their actual award_share:\n",
      "      seas_id  season  player_id          player pos   lg   tm  share winner  \\\n",
      "5090  15484.0    1997     2193.0  Michael Jordan  SG  NBA  CHI  0.832  False   \n",
      "5249  15398.0    1997     2252.0     Karl Malone  PF  NBA  UTA  0.857   True   \n",
      "2523  15316.0    1997     2863.0      Grant Hill  SF  NBA  DET  0.327  False   \n",
      "\n",
      "      is_smote  \n",
      "5090     False  \n",
      "5249     False  \n",
      "2523     False  \n",
      "Predicted MVP: Michael Jordan\n",
      "Predicted Win Share: 0.8414829969406128\n",
      "Was MVP correct: False\n",
      "\n",
      "\n",
      "Season: 2015\n",
      "MAE: 0.01387441047473501\n",
      "Predicted top three players in MVP voting with their actual award_share:\n",
      "      seas_id  season  player_id         player pos   lg   tm  share winner  \\\n",
      "7050  25661.0    2015     3903.0  Stephen Curry  PG  NBA  GSW  0.922   True   \n",
      "6252  25369.0    2015     3880.0   James Harden  SG  NBA  HOU  0.720  False   \n",
      "3134  25490.0    2015     3462.0   LeBron James  SF  NBA  CLE  0.425  False   \n",
      "\n",
      "      is_smote  \n",
      "7050     False  \n",
      "6252     False  \n",
      "3134     False  \n",
      "Predicted MVP: Stephen Curry\n",
      "Predicted Win Share: 0.5977606773376465\n",
      "Was MVP correct: True\n",
      "\n",
      "\n",
      "Season: 2014\n",
      "MAE: 0.013752228767515067\n",
      "Predicted top three players in MVP voting with their actual award_share:\n",
      "      seas_id  season  player_id         player pos   lg   tm  share winner  \\\n",
      "531   24828.0    2014     3770.0   Kevin Durant  SF  NBA  OKC  0.986   True   \n",
      "2083  24852.0    2014     3462.0   LeBron James  PF  NBA  MIA  0.713  False   \n",
      "5164  24547.0    2014     3920.0  Blake Griffin  PF  NBA  LAC  0.347  False   \n",
      "\n",
      "      is_smote  \n",
      "531      False  \n",
      "2083     False  \n",
      "5164     False  \n",
      "Predicted MVP: Kevin Durant\n",
      "Predicted Win Share: 0.7809975743293762\n",
      "Was MVP correct: True\n",
      "\n",
      "\n",
      "Season: 2000\n",
      "MAE: 0.009187794242941891\n",
      "Predicted top three players in MVP voting with their actual award_share:\n",
      "      seas_id  season  player_id            player pos   lg   tm  share  \\\n",
      "3197  17142.0    2000     2751.0  Shaquille O'Neal   C  NBA  LAL  0.998   \n",
      "7659  17164.0    2000     3092.0        Tim Duncan  PF  NBA  SAS  0.205   \n",
      "7843  16726.0    2000     2696.0   Alonzo Mourning   C  NBA  MIA  0.303   \n",
      "\n",
      "     winner  is_smote  \n",
      "3197   True     False  \n",
      "7659  False     False  \n",
      "7843  False     False  \n",
      "Predicted MVP: Shaquille O'Neal\n",
      "Predicted Win Share: 0.9390411972999573\n",
      "Was MVP correct: True\n",
      "\n",
      "\n",
      "Season: 1986\n",
      "MAE: 0.013529604726280819\n",
      "Predicted top three players in MVP voting with their actual award_share:\n",
      "      seas_id  season  player_id             player pos   lg   tm  share  \\\n",
      "6188  10393.0    1986     1875.0         Larry Bird  SF  NBA  BOS  0.981   \n",
      "6628  10406.0    1986     1878.0      Magic Johnson  PG  NBA  LAL  0.263   \n",
      "6912  10275.0    1986     2058.0  Dominique Wilkins  SF  NBA  ATL  0.522   \n",
      "\n",
      "     winner  is_smote  \n",
      "6188   True     False  \n",
      "6628  False     False  \n",
      "6912  False     False  \n",
      "Predicted MVP: Larry Bird\n",
      "Predicted Win Share: 0.9464413523674011\n",
      "Was MVP correct: True\n",
      "\n",
      "\n",
      "Season: 2001\n",
      "MAE: 0.020012417653365113\n",
      "Predicted top three players in MVP voting with their actual award_share:\n",
      "      seas_id  season  player_id            player pos   lg   tm  share  \\\n",
      "6459  17668.0    2001     2751.0  Shaquille O'Neal   C  NBA  LAL  0.466   \n",
      "1078  17220.0    2001     2967.0     Allen Iverson  SG  NBA  PHI  0.904   \n",
      "5677  17693.0    2001     3092.0        Tim Duncan  PF  NBA  SAS  0.569   \n",
      "\n",
      "     winner  is_smote  \n",
      "6459  False     False  \n",
      "1078   True     False  \n",
      "5677  False     False  \n",
      "Predicted MVP: Shaquille O'Neal\n",
      "Predicted Win Share: 0.6969411969184875\n",
      "Was MVP correct: False\n",
      "\n",
      "\n",
      "Season: 1996\n",
      "MAE: 0.007820289475217946\n",
      "Predicted top three players in MVP voting with their actual award_share:\n",
      "      seas_id  season  player_id             player pos   lg   tm  share  \\\n",
      "7398  14913.0    1996     2193.0     Michael Jordan  SG  NBA  CHI  0.986   \n",
      "2010  14671.0    1996     2494.0     David Robinson   C  NBA  SAS  0.508   \n",
      "2192  14559.0    1996     2767.0  Anfernee Hardaway  PG  NBA  ORL  0.319   \n",
      "\n",
      "     winner  is_smote  \n",
      "7398   True     False  \n",
      "2010  False     False  \n",
      "2192  False     False  \n",
      "Predicted MVP: Michael Jordan\n",
      "Predicted Win Share: 0.9686881899833679\n",
      "Was MVP correct: True\n",
      "\n",
      "\n",
      "Season: 2008\n",
      "MAE: 0.016773290661902647\n",
      "Predicted top three players in MVP voting with their actual award_share:\n",
      "      seas_id  season  player_id         player pos   lg   tm  share winner  \\\n",
      "1152  21299.0    2008     3000.0    Kobe Bryant  SG  NBA  LAL  0.873   True   \n",
      "5277  21291.0    2008     2936.0  Kevin Garnett  PF  NBA  BOS  0.532  False   \n",
      "7785  21319.0    2008     3462.0   LeBron James  SF  NBA  CLE  0.348  False   \n",
      "\n",
      "      is_smote  \n",
      "1152     False  \n",
      "5277     False  \n",
      "7785     False  \n",
      "Predicted MVP: Kobe Bryant\n",
      "Predicted Win Share: 0.5773862600326538\n",
      "Was MVP correct: True\n",
      "\n",
      "\n",
      "Season: 2018\n",
      "MAE: 0.008475613789404382\n",
      "Predicted top three players in MVP voting with their actual award_share:\n",
      "      seas_id  season  player_id         player pos   lg   tm  share winner  \\\n",
      "3605  27202.0    2018     3880.0   James Harden  SG  NBA  HOU  0.955   True   \n",
      "7479  27321.0    2018     3462.0   LeBron James  PF  NBA  CLE  0.731  False   \n",
      "7596  26946.0    2018     4066.0  Anthony Davis  PF  NBA  NOP  0.441  False   \n",
      "\n",
      "      is_smote  \n",
      "3605     False  \n",
      "7479     False  \n",
      "7596     False  \n",
      "Predicted MVP: James Harden\n",
      "Predicted Win Share: 0.8873589038848877\n",
      "Was MVP correct: True\n",
      "\n",
      "\n",
      "Season: 2013\n",
      "MAE: 0.00968848256303474\n",
      "Predicted top three players in MVP voting with their actual award_share:\n",
      "      seas_id  season  player_id           player pos   lg   tm  share winner  \\\n",
      "2397  24274.0    2013     3462.0     LeBron James  PF  NBA  MIA  0.998   True   \n",
      "1703  24241.0    2013     3770.0     Kevin Durant  SF  NBA  OKC  0.632  False   \n",
      "2089  23976.0    2013     3435.0  Carmelo Anthony  PF  NBA  NYK  0.393  False   \n",
      "\n",
      "      is_smote  \n",
      "2397     False  \n",
      "1703     False  \n",
      "2089     False  \n",
      "Predicted MVP: LeBron James\n",
      "Predicted Win Share: 0.9995179772377014\n",
      "Was MVP correct: True\n",
      "\n",
      "\n",
      "Season: 2016\n",
      "MAE: 0.013550356900505618\n",
      "Predicted top three players in MVP voting with their actual award_share:\n",
      "      seas_id  season  player_id         player pos   lg   tm  share winner  \\\n",
      "7134  26259.0    2016     3903.0  Stephen Curry  PG  NBA  GSW  1.000   True   \n",
      "2417  26106.0    2016     3462.0   LeBron James  SF  NBA  CLE  0.482  False   \n",
      "6043  26070.0    2016     3770.0   Kevin Durant  SF  NBA  OKC  0.112  False   \n",
      "\n",
      "      is_smote  \n",
      "7134     False  \n",
      "2417     False  \n",
      "6043     False  \n",
      "Predicted MVP: Stephen Curry\n",
      "Predicted Win Share: 1.0167289972305298\n",
      "Was MVP correct: True\n",
      "\n",
      "\n",
      "Season: 2002\n",
      "MAE: 0.014622881466747346\n",
      "Predicted top three players in MVP voting with their actual award_share:\n",
      "      seas_id  season  player_id            player pos   lg   tm  share  \\\n",
      "4430  18195.0    2002     3092.0        Tim Duncan  PF  NBA  SAS  0.757   \n",
      "2651  18168.0    2002     2751.0  Shaquille O'Neal   C  NBA  LAL  0.552   \n",
      "739   17973.0    2002     2870.0        Jason Kidd  PG  NBA  NJN  0.712   \n",
      "\n",
      "     winner  is_smote  \n",
      "4430   True     False  \n",
      "2651  False     False  \n",
      "739   False     False  \n",
      "Predicted MVP: Tim Duncan\n",
      "Predicted Win Share: 0.7483394145965576\n",
      "Was MVP correct: True\n",
      "\n",
      "\n",
      "Season: 2011\n",
      "MAE: 0.011545772181247718\n",
      "Predicted top three players in MVP voting with their actual award_share:\n",
      "      seas_id  season  player_id         player pos   lg   tm  share winner  \\\n",
      "7438  22907.0    2011     3812.0   Derrick Rose  PG  NBA  CHI  0.977   True   \n",
      "2253  22919.0    2011     3520.0  Dwight Howard   C  NBA  ORL  0.531  False   \n",
      "3188  23115.0    2011     3462.0   LeBron James  SF  NBA  MIA  0.431  False   \n",
      "\n",
      "      is_smote  \n",
      "7438     False  \n",
      "2253     False  \n",
      "3188     False  \n",
      "Predicted MVP: Derrick Rose\n",
      "Predicted Win Share: 0.6720492839813232\n",
      "Was MVP correct: True\n",
      "\n",
      "\n",
      "Season: 2004\n",
      "MAE: 0.010908578421348611\n",
      "Predicted top three players in MVP voting with their actual award_share:\n",
      "      seas_id  season  player_id           player pos   lg   tm  share winner  \\\n",
      "5938  19036.0    2004     2936.0    Kevin Garnett  PF  NBA  MIN  0.991   True   \n",
      "5300  19255.0    2004     3092.0       Tim Duncan  PF  NBA  SAS  0.582  False   \n",
      "198   18993.0    2004     2993.0  Jermaine O'Neal  PF  NBA  IND  0.425  False   \n",
      "\n",
      "      is_smote  \n",
      "5938     False  \n",
      "5300     False  \n",
      "198      False  \n",
      "Predicted MVP: Kevin Garnett\n",
      "Predicted Win Share: 0.9136127829551697\n",
      "Was MVP correct: True\n",
      "\n",
      "\n",
      "Season: 2019\n",
      "MAE: 0.010172008328681113\n",
      "Predicted top three players in MVP voting with their actual award_share:\n",
      "      seas_id  season  player_id                 player pos   lg   tm  share  \\\n",
      "6763  27807.0    2019     4164.0  Giannis Antetokounmpo  PF  NBA  MIL  0.932   \n",
      "1230  27873.0    2019     3880.0           James Harden  PG  NBA  HOU  0.768   \n",
      "2281  28110.0    2019     3968.0            Paul George  SF  NBA  OKC  0.352   \n",
      "\n",
      "     winner  is_smote  \n",
      "6763   True     False  \n",
      "1230  False     False  \n",
      "2281  False     False  \n",
      "Predicted MVP: Giannis Antetokounmpo\n",
      "Predicted Win Share: 0.8713651895523071\n",
      "Was MVP correct: True\n",
      "\n",
      "\n",
      "Season: 2012\n",
      "MAE: 0.015134231067269724\n",
      "Predicted top three players in MVP voting with their actual award_share:\n",
      "      seas_id  season  player_id        player pos   lg   tm  share winner  \\\n",
      "7060  23703.0    2012     3462.0  LeBron James  SF  NBA  MIA  0.888   True   \n",
      "785   23676.0    2012     3770.0  Kevin Durant  SF  NBA  OKC  0.735  False   \n",
      "4935  23678.0    2012     3830.0    Kevin Love  PF  NBA  MIN  0.048  False   \n",
      "\n",
      "      is_smote  \n",
      "7060     False  \n",
      "785      False  \n",
      "4935     False  \n",
      "Predicted MVP: LeBron James\n",
      "Predicted Win Share: 0.794101893901825\n",
      "Was MVP correct: True\n",
      "\n",
      "\n",
      "Season: 2010\n",
      "MAE: 0.009970310945002043\n",
      "Predicted top three players in MVP voting with their actual award_share:\n",
      "      seas_id  season  player_id         player pos   lg   tm  share winner  \\\n",
      "6738  22499.0    2010     3462.0   LeBron James  SF  NBA  CLE  0.980   True   \n",
      "3409  22328.0    2010     3520.0  Dwight Howard   C  NBA  ORL  0.389  False   \n",
      "4351  22474.0    2010     3770.0   Kevin Durant  SF  NBA  OKC  0.495  False   \n",
      "\n",
      "      is_smote  \n",
      "6738     False  \n",
      "3409     False  \n",
      "4351     False  \n",
      "Predicted MVP: LeBron James\n",
      "Predicted Win Share: 1.0002025365829468\n",
      "Was MVP correct: True\n",
      "\n",
      "\n",
      "Season: 1984\n",
      "MAE: 0.013104932395070603\n",
      "Predicted top three players in MVP voting with their actual award_share:\n",
      "      seas_id  season  player_id          player pos   lg   tm  share winner  \\\n",
      "3224   9663.0    1984     1875.0      Larry Bird  PF  NBA  BOS  0.858   True   \n",
      "7423   9489.0    1984     1741.0    Bernard King  SF  NBA  NYK  0.491  False   \n",
      "3612   9475.0    1984     1692.0  Adrian Dantley  SF  NBA  UTA  0.116  False   \n",
      "\n",
      "      is_smote  \n",
      "3224     False  \n",
      "7423     False  \n",
      "3612     False  \n",
      "Predicted MVP: Larry Bird\n",
      "Predicted Win Share: 0.8699543476104736\n",
      "Was MVP correct: True\n",
      "\n",
      "\n",
      "Season: 1998\n",
      "MAE: 0.01128612824615708\n",
      "Predicted top three players in MVP voting with their actual award_share:\n",
      "      seas_id  season  player_id            player pos   lg   tm  share  \\\n",
      "4590  16041.0    1998     2193.0    Michael Jordan  SG  NBA  CHI  0.934   \n",
      "277   15974.0    1998     2252.0       Karl Malone  PF  NBA  UTA  0.726   \n",
      "1921  16118.0    1998     2751.0  Shaquille O'Neal   C  NBA  LAL  0.268   \n",
      "\n",
      "     winner  is_smote  \n",
      "4590   True     False  \n",
      "277   False     False  \n",
      "1921  False     False  \n",
      "Predicted MVP: Michael Jordan\n",
      "Predicted Win Share: 0.608241617679596\n",
      "Was MVP correct: True\n",
      "\n",
      "\n",
      "Season: 1989\n",
      "MAE: 0.010043191297742365\n",
      "Predicted top three players in MVP voting with their actual award_share:\n",
      "      seas_id  season  player_id          player pos   lg   tm  share winner  \\\n",
      "1862  11647.0    1989     2193.0  Michael Jordan  SG  NBA  CHI  0.704  False   \n",
      "3439  11623.0    1989     1878.0   Magic Johnson  PG  NBA  LAL  0.782   True   \n",
      "5852  11590.0    1989     2252.0     Karl Malone  PF  NBA  UTA  0.426  False   \n",
      "\n",
      "      is_smote  \n",
      "1862     False  \n",
      "3439     False  \n",
      "5852     False  \n",
      "Predicted MVP: Michael Jordan\n",
      "Predicted Win Share: 0.7454644441604614\n",
      "Was MVP correct: False\n",
      "\n",
      "\n",
      "Season: 2021\n",
      "MAE: 0.017087237447480235\n",
      "Predicted top three players in MVP voting with their actual award_share:\n",
      "      seas_id  season  player_id                 player pos   lg   tm  share  \\\n",
      "1754  29456.0    2021     4352.0           Nikola Jokić   C  NBA  DEN  0.961   \n",
      "7329  29288.0    2021     4416.0            Joel Embiid   C  NBA  PHI  0.580   \n",
      "811   29187.0    2021     4164.0  Giannis Antetokounmpo  PF  NBA  MIL  0.345   \n",
      "\n",
      "     winner  is_smote  \n",
      "1754   True     False  \n",
      "7329  False     False  \n",
      "811   False     False  \n",
      "Predicted MVP: Nikola Jokić\n",
      "Predicted Win Share: 0.8487816452980042\n",
      "Was MVP correct: True\n",
      "\n",
      "\n",
      "Season: 1983\n",
      "MAE: 0.016831945440539793\n",
      "Predicted top three players in MVP voting with their actual award_share:\n",
      "      seas_id  season  player_id         player pos   lg   tm  share winner  \\\n",
      "2750   9355.0    1983     1605.0   Moses Malone   C  NBA  PHI  0.960   True   \n",
      "1959   9301.0    1983     1875.0     Larry Bird  PF  NBA  BOS  0.485  False   \n",
      "7275   9321.0    1983     1878.0  Magic Johnson  SG  NBA  LAL  0.406  False   \n",
      "\n",
      "      is_smote  \n",
      "2750     False  \n",
      "1959     False  \n",
      "7275     False  \n",
      "Predicted MVP: Moses Malone\n",
      "Predicted Win Share: 0.7369104027748108\n",
      "Was MVP correct: True\n",
      "\n",
      "\n",
      "Season: 2003\n",
      "MAE: 0.012721113771660119\n",
      "Predicted top three players in MVP voting with their actual award_share:\n",
      "      seas_id  season  player_id         player pos   lg   tm  share winner  \\\n",
      "1406  18687.0    2003     3092.0     Tim Duncan  PF  NBA  SAS  0.808   True   \n",
      "2684  18513.0    2003     2936.0  Kevin Garnett  PF  NBA  MIN  0.732  False   \n",
      "1392  18698.0    2003     3096.0  Tracy McGrady  SG  NBA  ORL  0.359  False   \n",
      "\n",
      "      is_smote  \n",
      "1406     False  \n",
      "2684     False  \n",
      "1392     False  \n",
      "Predicted MVP: Tim Duncan\n",
      "Predicted Win Share: 0.8556836247444153\n",
      "Was MVP correct: True\n",
      "\n",
      "\n",
      "Season: 2022\n",
      "MAE: 0.0069343748297835675\n",
      "Predicted top three players in MVP voting with their actual award_share:\n",
      "      seas_id  season  player_id                 player pos   lg   tm  share  \\\n",
      "1398  30247.0    2022     4352.0           Nikola Jokić   C  NBA  DEN  0.875   \n",
      "1204  30034.0    2022     4416.0            Joel Embiid   C  NBA  PHI  0.706   \n",
      "4665  29918.0    2022     4164.0  Giannis Antetokounmpo  PF  NBA  MIL  0.595   \n",
      "\n",
      "     winner  is_smote  \n",
      "1398   True     False  \n",
      "1204  False     False  \n",
      "4665  False     False  \n",
      "Predicted MVP: Nikola Jokić\n",
      "Predicted Win Share: 0.8763415217399597\n",
      "Was MVP correct: True\n",
      "\n",
      "\n",
      "Season: 2009\n",
      "MAE: 0.009605654353012381\n",
      "Predicted top three players in MVP voting with their actual award_share:\n",
      "      seas_id  season  player_id        player pos   lg   tm  share winner  \\\n",
      "304   21908.0    2009     3462.0  LeBron James  SF  NBA  CLE  0.969   True   \n",
      "1952  21691.0    2009     3585.0    Chris Paul  PG  NBA  NOH  0.159  False   \n",
      "897   21892.0    2009     3000.0   Kobe Bryant  SG  NBA  LAL  0.577  False   \n",
      "\n",
      "      is_smote  \n",
      "304      False  \n",
      "1952     False  \n",
      "897      False  \n",
      "Predicted MVP: LeBron James\n",
      "Predicted Win Share: 0.9009652733802795\n",
      "Was MVP correct: True\n",
      "\n",
      "\n",
      "Season: 1990\n",
      "MAE: 0.015850421028266542\n",
      "Predicted top three players in MVP voting with their actual award_share:\n",
      "      seas_id  season  player_id           player pos   lg   tm  share winner  \\\n",
      "2294  12079.0    1990     2193.0   Michael Jordan  SG  NBA  CHI  0.613  False   \n",
      "6246  12055.0    1990     1878.0    Magic Johnson  PG  NBA  LAL  0.691   True   \n",
      "4827  11855.0    1990     2162.0  Charles Barkley  SF  NBA  PHI  0.667  False   \n",
      "\n",
      "      is_smote  \n",
      "2294     False  \n",
      "6246     False  \n",
      "4827     False  \n",
      "Predicted MVP: Michael Jordan\n",
      "Predicted Win Share: 0.741636335849762\n",
      "Was MVP correct: False\n"
     ]
    }
   ],
   "execution_count": 400
  },
  {
   "cell_type": "code",
   "source": [
    "# Printing the overall performance of the model\n",
    "print(f\"The XGBoost Model predicted the NBA MVP correctly {round(sum(validation_scores['was_mvp'])/len(seasons), 2)}% of the time\")\n",
    "print(f\"The XGBoost Model predicted the NBA MVP correctly in the top two {round(sum(validation_scores['was_top_two'])/len(seasons), 2)}% of the time\")\n",
    "print(f\"The XGBoost Model predicted the NBA MVP correctly in the top three {round(sum(validation_scores['was_top_three'])/len(seasons), 2)}% of the time\")"
   ],
   "metadata": {
    "id": "Top3dEhQjUkX",
    "colab": {
     "base_uri": "https://localhost:8080/"
    },
    "outputId": "9a499f81-617f-40f4-957f-35939f640a07",
    "ExecuteTime": {
     "end_time": "2025-04-14T18:46:54.207081Z",
     "start_time": "2025-04-14T18:46:54.202923Z"
    }
   },
   "id": "Top3dEhQjUkX",
   "outputs": [
    {
     "name": "stdout",
     "output_type": "stream",
     "text": [
      "The XGBoost Model predicted the NBA MVP correctly 0.83% of the time\n",
      "The XGBoost Model predicted the NBA MVP correctly in the top two 0.95% of the time\n",
      "The XGBoost Model predicted the NBA MVP correctly in the top three 1.0% of the time\n"
     ]
    }
   ],
   "execution_count": 401
  },
  {
   "cell_type": "markdown",
   "source": [
    "As we can the XBoost Regressor performed much better than the Random Forest Regressor. We will stick with it for our test set and the final predictions."
   ],
   "metadata": {
    "id": "7jCzQiRL3xUw"
   },
   "id": "7jCzQiRL3xUw"
  },
  {
   "cell_type": "markdown",
   "source": [
    "### Test Set\n",
    "Let's finally run our model on the test set, which is the season 2024 season. Our model will be trained on all the training data as well.\n"
   ],
   "metadata": {
    "id": "h14yd3FG4DEN"
   },
   "id": "h14yd3FG4DEN"
  },
  {
   "cell_type": "code",
   "source": [
    "# Train the model\n",
    "regr = XGBRegressor(objective='reg:squarederror', max_depth=7, random_state=42)\n",
    "regr.fit(train_x, train_y)\n",
    "\n",
    "# Predict on the test set\n",
    "test_pred = regr.predict(test_x)\n",
    "mae = np.mean(np.absolute(test_pred - test_y.to_numpy()[:, 0]))\n",
    "print(f\"MAE: {mae}\")\n",
    "\n",
    "# Sort predictions to get indices in ascending order (lowest to highest)\n",
    "sorted_indices = np.argsort(test_pred)\n",
    "\n",
    "# Predicted MVP is the one with the highest predicted win share\n",
    "predicted_mvp_index = sorted_indices[-1]  # last index has highest value\n",
    "predicted_mvp = test_info.loc[predicted_mvp_index, \"player\"]\n",
    "predicted_win_share = test_pred[predicted_mvp_index]\n",
    "\n",
    "# Get top two and top three predicted player indices\n",
    "# Reverse the order so that the players with highest predicted win share come first\n",
    "top_two_indices = sorted_indices[-2:]\n",
    "top_three_indices = sorted_indices[-3:]\n",
    "\n",
    "predicted_top_two_players = test_info.loc[top_two_indices].iloc[::-1][\"player\"].tolist()\n",
    "predicted_top_three_players = test_info.loc[top_three_indices].iloc[::-1][\"player\"].tolist()\n",
    "\n",
    "# Display predicted top ten players\n",
    "top_ten_indices = sorted_indices[-10:]\n",
    "print(\"Predicted top ten players in MVP voting with their actual award_share:\")\n",
    "print(test_info.loc[top_ten_indices].iloc[::-1])\n",
    "\n",
    "# Determine the actual top players based on the actual share values in test_info.\n",
    "actual_sorted_indices = np.argsort(test_info[\"share\"].values)[::-1]\n",
    "actual_top_two_players = test_info.loc[actual_sorted_indices[:2], \"player\"].tolist()\n",
    "actual_top_three_players = test_info.loc[actual_sorted_indices[:3], \"player\"].tolist()\n",
    "\n",
    "# Check if the predicted top two and top three match the actual rankings exactly\n",
    "top_two_match = predicted_top_two_players == actual_top_two_players\n",
    "top_three_match = predicted_top_three_players == actual_top_three_players\n",
    "\n",
    "# Determine the actual MVP from test_info (assumes only one row has winner == True)\n",
    "actual_mvp = test_info.loc[test_info[\"winner\"] == True, \"player\"].iloc[0]\n",
    "\n",
    "# Print the final results\n",
    "print(f\"Predicted MVP: {predicted_mvp}\")\n",
    "print(f\"Predicted Win Share: {predicted_win_share}\")\n",
    "print(f\"Actual MVP: {actual_mvp}\")\n",
    "print(f\"Predicted Top 2 correctly: {top_two_match}\")\n",
    "print(f\"Predicted Top 3 correctly: {top_three_match}\")\n"
   ],
   "metadata": {
    "id": "acBWSA203weG",
    "colab": {
     "base_uri": "https://localhost:8080/"
    },
    "outputId": "76d83226-915e-4fd4-fd54-9e245b0ca2d5",
    "ExecuteTime": {
     "end_time": "2025-04-14T18:46:55.144091Z",
     "start_time": "2025-04-14T18:46:54.338245Z"
    }
   },
   "id": "acBWSA203weG",
   "outputs": [
    {
     "name": "stdout",
     "output_type": "stream",
     "text": [
      "MAE: 0.018722588372956792\n",
      "Predicted top ten players in MVP voting with their actual award_share:\n",
      "    seas_id  season  player_id                   player pos   lg   tm  share  \\\n",
      "34  31672.0    2024     4352.0             Nikola Jokić   C  NBA  DEN  0.935   \n",
      "22  31366.0    2024     4164.0    Giannis Antetokounmpo  PF  NBA  MIL  0.194   \n",
      "72  31769.0    2024     4669.0  Shai Gilgeous-Alexander  PG  NBA  OKC  0.646   \n",
      "69  31593.0    2024     4653.0              Luka Dončić  PG  NBA  DAL  0.572   \n",
      "44  31484.0    2024     4416.0              Joel Embiid   C  NBA  PHI  0.000   \n",
      "39  31320.0    2024     4398.0         Domantas Sabonis   C  NBA  SAC  0.003   \n",
      "55  31468.0    2024     4518.0             Jayson Tatum  PF  NBA  BOS  0.087   \n",
      "0   31585.0    2024     3462.0             LeBron James  PF  NBA  LAL  0.000   \n",
      "27  31520.0    2024     4266.0            Julius Randle  PF  NBA  NYK  0.000   \n",
      "96  31842.0    2024     4892.0        Tyrese Haliburton  PG  NBA  IND  0.000   \n",
      "\n",
      "    winner  \n",
      "34    True  \n",
      "22   False  \n",
      "72   False  \n",
      "69   False  \n",
      "44   False  \n",
      "39   False  \n",
      "55   False  \n",
      "0    False  \n",
      "27   False  \n",
      "96   False  \n",
      "Predicted MVP: Nikola Jokić\n",
      "Predicted Win Share: 0.8161036372184753\n",
      "Actual MVP: Nikola Jokić\n",
      "Predicted Top 2 correctly: False\n",
      "Predicted Top 3 correctly: False\n"
     ]
    }
   ],
   "execution_count": 402
  },
  {
   "cell_type": "markdown",
   "source": [
    "Great! Our model correctly predicted the NBA MVP for the 2024 season. Let's now generate the prediction for the current 2025 season and see who will win this highly competetive award race."
   ],
   "metadata": {
    "id": "VOnzFN10BxEV"
   },
   "id": "VOnzFN10BxEV"
  },
  {
   "cell_type": "code",
   "source": [
    "def predict_2025_mvp(model, predict_data, columns):\n",
    "\n",
    "    # Predicting the 2025 MVP\n",
    "    predict_x = predict_data[columns]\n",
    "    predictions = model.predict(predict_x)\n",
    "\n",
    "    # Adding the predictions to the original data\n",
    "    results = predict_data.copy()\n",
    "    results['predicted_share'] = predictions\n",
    "    results = results.sort_values('predicted_share', ascending=False)\n",
    "\n",
    "    # Displaying the top 10 predictions\n",
    "    print(\"\\n--- 2025 NBA MVP Predictions ---\")\n",
    "    print(results[['player', 'tm', 'predicted_share']].head(10))\n",
    "\n",
    "    return results\n",
    "\n",
    "# Training the final model\n",
    "final_model = XGBRegressor(objective='reg:squarederror', max_depth=7, random_state=42)\n",
    "\n",
    "# Fit the model on the entire training data\n",
    "all_x = pd.concat([train_x, test_x])\n",
    "all_y = pd.concat([train_y, test_y])\n",
    "final_model.fit(all_x, all_y)\n",
    "\n",
    "# Predicting the 2025 MVP\n",
    "mvp_predictions_2025 = predict_2025_mvp(final_model, predict, columns)"
   ],
   "metadata": {
    "colab": {
     "base_uri": "https://localhost:8080/"
    },
    "id": "BPMxLrmRK0FR",
    "outputId": "d09d9bf5-8284-44cc-9a57-0624318f76d0",
    "ExecuteTime": {
     "end_time": "2025-04-14T18:46:55.893207Z",
     "start_time": "2025-04-14T18:46:55.289457Z"
    }
   },
   "id": "BPMxLrmRK0FR",
   "outputs": [
    {
     "name": "stdout",
     "output_type": "stream",
     "text": [
      "\n",
      "--- 2025 NBA MVP Predictions ---\n",
      "                     player   tm  predicted_share\n",
      "65  Shai Gilgeous-Alexander  OKC         0.775209\n",
      "32             Nikola Jokić  DEN         0.687064\n",
      "19    Giannis Antetokounmpo  MIL         0.112708\n",
      "84              LaMelo Ball  CHO         0.076515\n",
      "47         Donovan Mitchell  CLE         0.067009\n",
      "49             Jayson Tatum  BOS         0.061565\n",
      "0              LeBron James  LAL         0.059249\n",
      "62              Luka Dončić  LAL         0.048570\n",
      "60            Jalen Brunson  NYK         0.034208\n",
      "27             Devin Booker  PHO         0.027818\n"
     ]
    }
   ],
   "execution_count": 403
  },
  {
   "cell_type": "markdown",
   "source": [
    "Our model predicted Shai Gilgeous-Alexander to win the MVP. With the 2025 NBA season coming to the end we have to wait and see whether that will be true."
   ],
   "metadata": {
    "id": "vkM6uktJYNPB"
   },
   "id": "vkM6uktJYNPB"
  },
  {
   "cell_type": "markdown",
   "source": [
    "### Summary\n",
    "This project was a great first step toward building a model that can predict the NBA MVP. Right now, the model does a solid job at picking out the top MVP candidates in any given season, but when it comes to predicting the actual winner, the accuracy sits around 80%. Not bad—but definitely room to get better.\n",
    "\n",
    "The current approach looks at all players in the league each season, which gives the model a lot of information but also makes it harder to narrow down to just one winner. One way to improve this would be to use the current model to find the top MVP candidates and then feed those results into a second model that’s trained only on players who actually received MVP votes. That second model could do a better job of predicting the winner since it’s focused just on MVP-caliber players.\n",
    "\n",
    "Another idea we could explore is building different models for different NBA eras. The league has changed a lot over time—think about how dominant the three-point shot is now compared to the 90s. It’d be interesting to see if stats like 3P% or usage rate have more weight in recent years than they used to, and whether separate models for each era perform better than one big all-time model."
   ],
   "metadata": {
    "id": "PHa9KdOxZFqs"
   },
   "id": "PHa9KdOxZFqs"
  }
 ],
 "metadata": {
  "kernelspec": {
   "display_name": "Python 3",
   "language": "python",
   "name": "python3"
  },
  "language_info": {
   "codemirror_mode": {
    "name": "ipython",
    "version": 2
   },
   "file_extension": ".py",
   "mimetype": "text/x-python",
   "name": "python",
   "nbconvert_exporter": "python",
   "pygments_lexer": "ipython2",
   "version": "2.7.6"
  },
  "colab": {
   "provenance": []
  }
 },
 "nbformat": 4,
 "nbformat_minor": 5
}
